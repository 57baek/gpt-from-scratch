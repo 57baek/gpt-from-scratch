{
  "nbformat": 4,
  "nbformat_minor": 0,
  "metadata": {
    "colab": {
      "provenance": [],
      "toc_visible": true,
      "authorship_tag": "ABX9TyNjY7f2AxhohyYGvGsh5ox5",
      "include_colab_link": true
    },
    "kernelspec": {
      "name": "python3",
      "display_name": "Python 3"
    },
    "language_info": {
      "name": "python"
    }
  },
  "cells": [
    {
      "cell_type": "markdown",
      "metadata": {
        "id": "view-in-github",
        "colab_type": "text"
      },
      "source": [
        "<a href=\"https://colab.research.google.com/github/57baek/gpt-from-scratch/blob/main/autograd/codes/autograd.ipynb\" target=\"_parent\"><img src=\"https://colab.research.google.com/assets/colab-badge.svg\" alt=\"Open In Colab\"/></a>"
      ]
    },
    {
      "cell_type": "code",
      "execution_count": null,
      "metadata": {
        "id": "a-CluhZCtNgx"
      },
      "outputs": [],
      "source": [
        "import math\n",
        "import numpy as np\n",
        "import matplotlib.pyplot as plt\n",
        "%matplotlib inline"
      ]
    },
    {
      "cell_type": "code",
      "source": [
        "def f(x):\n",
        "    return 3*x**2 - 4*x + 5"
      ],
      "metadata": {
        "id": "zgT4Xptdt1Hi"
      },
      "execution_count": null,
      "outputs": []
    },
    {
      "cell_type": "code",
      "source": [
        "f(3.0)"
      ],
      "metadata": {
        "colab": {
          "base_uri": "https://localhost:8080/"
        },
        "id": "TJlnYGmtuM5s",
        "outputId": "ac060cc8-e9de-4569-9eba-0540a3438478"
      },
      "execution_count": null,
      "outputs": [
        {
          "output_type": "execute_result",
          "data": {
            "text/plain": [
              "20.0"
            ]
          },
          "metadata": {},
          "execution_count": 16
        }
      ]
    },
    {
      "cell_type": "code",
      "source": [
        "xs = np.arange(-5,5,0.25)\n",
        "ys = f(xs)\n",
        "plt.plot(xs, ys)"
      ],
      "metadata": {
        "colab": {
          "base_uri": "https://localhost:8080/",
          "height": 447
        },
        "id": "hhHe_wXTvVXS",
        "outputId": "a4b99ae7-ed63-4773-f860-ab5779f1fa15"
      },
      "execution_count": null,
      "outputs": [
        {
          "output_type": "execute_result",
          "data": {
            "text/plain": [
              "[<matplotlib.lines.Line2D at 0x7e9ddec94bc0>]"
            ]
          },
          "metadata": {},
          "execution_count": 20
        },
        {
          "output_type": "display_data",
          "data": {
            "text/plain": [
              "<Figure size 640x480 with 1 Axes>"
            ],
            "image/png": "[encoded data removed]"
          },
          "metadata": {}
        }
      ]
    },
    {
      "cell_type": "code",
      "source": [
        "h = 0.000001\n",
        "x = 2/3\n",
        "\n",
        "print(f(x))\n",
        "print(f(x+h))\n",
        "\n",
        "(f(x+h) - f(x))/h # a simple derivative"
      ],
      "metadata": {
        "colab": {
          "base_uri": "https://localhost:8080/"
        },
        "id": "5jIHULQFvfZn",
        "outputId": "24523734-3275-4c7c-9e12-d3a8d072b2d3"
      },
      "execution_count": null,
      "outputs": [
        {
          "output_type": "stream",
          "name": "stdout",
          "text": [
            "3.666666666666667\n",
            "3.6666666666696663\n"
          ]
        },
        {
          "output_type": "execute_result",
          "data": {
            "text/plain": [
              "2.999378523327323e-06"
            ]
          },
          "metadata": {},
          "execution_count": 26
        }
      ]
    },
    {
      "cell_type": "code",
      "source": [
        "h = 0.0001\n",
        "\n",
        "# inputs\n",
        "a = 2.0\n",
        "b = -3.0\n",
        "c = 10.0\n",
        "\n",
        "d1 = a*b + c\n",
        "c += h\n",
        "d2 = a*b + c\n",
        "\n",
        "print('d1', d1)\n",
        "print('d2', d2)\n",
        "print('slope', (d2 - d1)/h)"
      ],
      "metadata": {
        "colab": {
          "base_uri": "https://localhost:8080/"
        },
        "id": "mtJvnGJ7wNWz",
        "outputId": "d0712107-3b9b-4082-df31-442a40c3a645"
      },
      "execution_count": null,
      "outputs": [
        {
          "output_type": "stream",
          "name": "stdout",
          "text": [
            "d1 4.0\n",
            "d2 4.0001\n",
            "slope 0.9999999999976694\n"
          ]
        }
      ]
    },
    {
      "cell_type": "code",
      "source": [
        "class Value:\n",
        "    def __init__(self, data):\n",
        "        self.data = data\n",
        "\n",
        "    def __repr__(self): # This controls how the object prints.\n",
        "        return f\"Value(data={self.data})\"\n",
        "\n",
        "a = Value(2.0)\n",
        "a # will show <__main__.Value at 0x7e9ddb1142f0> without __repr__\n",
        "b = Value(-3.0)\n",
        "a,b"
      ],
      "metadata": {
        "colab": {
          "base_uri": "https://localhost:8080/"
        },
        "id": "w4OmVZg60W4C",
        "outputId": "8b3ad2ed-9f2e-44a4-fcad-470849b6613c"
      },
      "execution_count": null,
      "outputs": [
        {
          "output_type": "execute_result",
          "data": {
            "text/plain": [
              "(Value(data=2.0), Value(data=-3.0))"
            ]
          },
          "metadata": {},
          "execution_count": 35
        }
      ]
    },
    {
      "cell_type": "code",
      "source": [
        "a + b"
      ],
      "metadata": {
        "colab": {
          "base_uri": "https://localhost:8080/",
          "height": 139
        },
        "id": "ZFw4Y9Oj0tl0",
        "outputId": "11851e16-3d8d-4e84-e5dd-86422f2eaa4f"
      },
      "execution_count": null,
      "outputs": [
        {
          "output_type": "error",
          "ename": "TypeError",
          "evalue": "unsupported operand type(s) for +: 'Value' and 'Value'",
          "traceback": [
            "\u001b[0;31m---------------------------------------------------------------------------\u001b[0m",
            "\u001b[0;31mTypeError\u001b[0m                                 Traceback (most recent call last)",
            "\u001b[0;32m/tmp/ipython-input-1216668022.py\u001b[0m in \u001b[0;36m<cell line: 0>\u001b[0;34m()\u001b[0m\n\u001b[0;32m----> 1\u001b[0;31m \u001b[0ma\u001b[0m \u001b[0;34m+\u001b[0m \u001b[0mb\u001b[0m\u001b[0;34m\u001b[0m\u001b[0;34m\u001b[0m\u001b[0m\n\u001b[0m",
            "\u001b[0;31mTypeError\u001b[0m: unsupported operand type(s) for +: 'Value' and 'Value'"
          ]
        }
      ]
    },
    {
      "cell_type": "code",
      "source": [
        "class Value:\n",
        "    def __init__(self, data):\n",
        "        self.data = data\n",
        "\n",
        "    def __repr__(self):\n",
        "        return f\"Value(data={self.data})\"\n",
        "\n",
        "    def __add__(self, other): # “If someone writes a + b, I will look for a.__add__(b).”\n",
        "        out = Value(self.data + other.data) # Still need to define what would happen after matching\n",
        "        return out\n",
        "a = Value(2.0)\n",
        "b = Value(-3.0)\n",
        "a + b # Python internally translates it to a.__add__(b)"
      ],
      "metadata": {
        "colab": {
          "base_uri": "https://localhost:8080/"
        },
        "id": "qOlR54XH2vy1",
        "outputId": "1f7c1c7c-ff6c-4a82-dca4-ab0dce9af4a3"
      },
      "execution_count": null,
      "outputs": [
        {
          "output_type": "execute_result",
          "data": {
            "text/plain": [
              "Value(data=-1.0)"
            ]
          },
          "metadata": {},
          "execution_count": 1
        }
      ]
    },
    {
      "cell_type": "code",
      "source": [
        "type(a+b)"
      ],
      "metadata": {
        "colab": {
          "base_uri": "https://localhost:8080/",
          "height": 103
        },
        "id": "7KIf5uaE3Haz",
        "outputId": "4f860bcb-1426-47cf-f0c6-ac3b4292c918"
      },
      "execution_count": null,
      "outputs": [
        {
          "output_type": "execute_result",
          "data": {
            "text/plain": [
              "__main__.Value"
            ],
            "text/html": [
              "<div style=\"max-width:800px; border: 1px solid var(--colab-border-color);\"><style>\n",
              "      pre.function-repr-contents {\n",
              "        overflow-x: auto;\n",
              "        padding: 8px 12px;\n",
              "        max-height: 500px;\n",
              "      }\n",
              "\n",
              "      pre.function-repr-contents.function-repr-contents-collapsed {\n",
              "        cursor: pointer;\n",
              "        max-height: 100px;\n",
              "      }\n",
              "    </style>\n",
              "    <pre style=\"white-space: initial; background:\n",
              "         var(--colab-secondary-surface-color); padding: 8px 12px;\n",
              "         border-bottom: 1px solid var(--colab-border-color);\"><b>Value</b><br/>def __init__(data)</pre><pre class=\"function-repr-contents function-repr-contents-collapsed\" style=\"\"><a class=\"filepath\" style=\"display:none\" href=\"#\"></a>&lt;no docstring&gt;</pre></div>"
            ]
          },
          "metadata": {},
          "execution_count": 2
        }
      ]
    },
    {
      "cell_type": "code",
      "source": [
        "class Value:\n",
        "    def __init__(self, data):\n",
        "        self.data = data\n",
        "\n",
        "    def __repr__(self):\n",
        "        return f\"Value(data={self.data})\"\n",
        "\n",
        "    def __add__(self, other):\n",
        "        out = Value(self.data + other.data)\n",
        "        return out\n",
        "\n",
        "    def __mul__(self, other):\n",
        "        out = self.data * other.data\n",
        "        return out\n",
        "\n",
        "a = Value(2.0)\n",
        "b = Value(-3.0)\n",
        "a * b # Python internally translates it to a.__mul__(b)"
      ],
      "metadata": {
        "colab": {
          "base_uri": "https://localhost:8080/"
        },
        "id": "G_R3SQPP-q_I",
        "outputId": "bdf65dc2-eb60-4c4e-b305-2d632b3fef56"
      },
      "execution_count": null,
      "outputs": [
        {
          "output_type": "execute_result",
          "data": {
            "text/plain": [
              "-6.0"
            ]
          },
          "metadata": {},
          "execution_count": 4
        }
      ]
    },
    {
      "cell_type": "code",
      "source": [
        "class Value:\n",
        "    def __init__(self, data, _children=()): # default value of an empty tuple\n",
        "        self.data = data\n",
        "        self._prev = set(_children) # the set of parent nodes that produced this node\n",
        "\n",
        "    def __repr__(self):\n",
        "        return f\"Value(data={self.data})\"\n",
        "\n",
        "    def __add__(self, other):\n",
        "        out = Value(self.data + other.data, (self, other))\n",
        "        return out\n",
        "\n",
        "    def __mul__(self, other):\n",
        "        out = Value(self.data * other.data, (self, other))\n",
        "        return out\n",
        "\n",
        "a = Value(2.0)\n",
        "b = Value(-3.0)\n",
        "c = a * b\n",
        "d = a * b + c\n",
        "\n",
        "d._prev"
      ],
      "metadata": {
        "colab": {
          "base_uri": "https://localhost:8080/"
        },
        "id": "KxBSmXjq-2n6",
        "outputId": "66594315-c310-4b0c-9fbf-65068d52501d"
      },
      "execution_count": null,
      "outputs": [
        {
          "output_type": "execute_result",
          "data": {
            "text/plain": [
              "{Value(data=-6.0), Value(data=-6.0)}"
            ]
          },
          "metadata": {},
          "execution_count": 13
        }
      ]
    },
    {
      "cell_type": "code",
      "source": [
        "class Value:\n",
        "    def __init__(self, data, _children=(), _op = ''): # default empty string\n",
        "        self.data = data\n",
        "        self._prev = set(_children)\n",
        "        self._op = _op\n",
        "\n",
        "    def __repr__(self):\n",
        "        return f\"Value(data={self.data})\"\n",
        "\n",
        "    def __add__(self, other):\n",
        "        out = Value(self.data + other.data, (self, other), '+')\n",
        "        return out\n",
        "\n",
        "    def __mul__(self, other):\n",
        "        out = Value(self.data * other.data, (self, other), '*')\n",
        "        return out\n",
        "\n",
        "\n",
        "a = Value(2.0)\n",
        "b = Value(-3.0)\n",
        "c = Value(10.0)\n",
        "d = a * b + c\n",
        "\n",
        "d._op"
      ],
      "metadata": {
        "colab": {
          "base_uri": "https://localhost:8080/",
          "height": 35
        },
        "id": "H0ouF-eSBEsg",
        "outputId": "379d6355-e5b1-47ce-d114-cc9927932759"
      },
      "execution_count": null,
      "outputs": [
        {
          "output_type": "execute_result",
          "data": {
            "text/plain": [
              "'+'"
            ],
            "application/vnd.google.colaboratory.intrinsic+json": {
              "type": "string"
            }
          },
          "metadata": {},
          "execution_count": 3
        }
      ]
    },
    {
      "cell_type": "code",
      "source": [
        "from graphviz import Digraph\n",
        "\n",
        "def trace(root):\n",
        "  # builds a set of all nodes and edges in a graph\n",
        "  nodes, edges = set(), set()\n",
        "  def build(v):\n",
        "    if v not in nodes:\n",
        "      nodes.add(v)\n",
        "      for child in v._prev:\n",
        "        edges.add((child, v))\n",
        "        build(child)\n",
        "  build(root)\n",
        "  return nodes, edges\n",
        "\n",
        "def draw_dot(root):\n",
        "  dot = Digraph(format='svg', graph_attr={'rankdir': 'LR'}) # LR = left to right\n",
        "\n",
        "  nodes, edges = trace(root)\n",
        "  for n in nodes:\n",
        "    uid = str(id(n))\n",
        "    # for any value in the graph, create a rectangular ('record') node for it\n",
        "    dot.node(name = uid, label = \"{ data %.4f }\" % (n.data, ), shape='record')\n",
        "    if n._op:\n",
        "      # if this value is a result of some operation, create an op node for it\n",
        "      dot.node(name = uid + n._op, label = n._op)\n",
        "      # and connect this node to it\n",
        "      dot.edge(uid + n._op, uid)\n",
        "\n",
        "  for n1, n2 in edges:\n",
        "    # connect n1 to the op node of n2\n",
        "    dot.edge(str(id(n1)), str(id(n2)) + n2._op)\n",
        "\n",
        "  return dot\n",
        "\n",
        "\n",
        "draw_dot(d)"
      ],
      "metadata": {
        "colab": {
          "base_uri": "https://localhost:8080/",
          "height": 190
        },
        "id": "z4D2pNvNCPeJ",
        "outputId": "94f5566b-6412-4067-e322-ba562f44f451"
      },
      "execution_count": null,
      "outputs": [
        {
          "output_type": "execute_result",
          "data": {
            "image/svg+xml": "<?xml version=\"1.0\" encoding=\"UTF-8\" standalone=\"no\"?>\n<!DOCTYPE svg PUBLIC \"-//W3C//DTD SVG 1.1//EN\"\n \"http://www.w3.org/Graphics/SVG/1.1/DTD/svg11.dtd\">\n<!-- Generated by graphviz version 2.43.0 (0)\n -->\n<!-- Title: %3 Pages: 1 -->\n<svg width=\"512pt\" height=\"127pt\"\n viewBox=\"0.00 0.00 512.00 127.00\" xmlns=\"http://www.w3.org/2000/svg\" xmlns:xlink=\"http://www.w3.org/1999/xlink\">\n<g id=\"graph0\" class=\"graph\" transform=\"scale(1 1) rotate(0) translate(4 123)\">\n<title>%3</title>\n<polygon fill=\"white\" stroke=\"transparent\" points=\"-4,4 -4,-123 508,-123 508,4 -4,4\"/>\n<!-- 132919705205360 -->\n<g id=\"node1\" class=\"node\">\n<title>132919705205360</title>\n<polygon fill=\"none\" stroke=\"black\" points=\"211,-82.5 211,-118.5 298,-118.5 298,-82.5 211,-82.5\"/>\n<text text-anchor=\"middle\" x=\"254.5\" y=\"-96.8\" font-family=\"Times,serif\" font-size=\"14.00\">data 10.0000</text>\n</g>\n<!-- 132919705205552+ -->\n<g id=\"node7\" class=\"node\">\n<title>132919705205552+</title>\n<ellipse fill=\"none\" stroke=\"black\" cx=\"361\" cy=\"-72.5\" rx=\"27\" ry=\"18\"/>\n<text text-anchor=\"middle\" x=\"361\" y=\"-68.8\" font-family=\"Times,serif\" font-size=\"14.00\">+</text>\n</g>\n<!-- 132919705205360&#45;&gt;132919705205552+ -->\n<g id=\"edge6\" class=\"edge\">\n<title>132919705205360&#45;&gt;132919705205552+</title>\n<path fill=\"none\" stroke=\"black\" d=\"M298,-89.11C307.18,-86.65 316.78,-84.08 325.6,-81.72\"/>\n<polygon fill=\"black\" stroke=\"black\" points=\"326.78,-85.02 335.53,-79.06 324.97,-78.26 326.78,-85.02\"/>\n</g>\n<!-- 132919705205408 -->\n<g id=\"node2\" class=\"node\">\n<title>132919705205408</title>\n<polygon fill=\"none\" stroke=\"black\" points=\"212,-27.5 212,-63.5 297,-63.5 297,-27.5 212,-27.5\"/>\n<text text-anchor=\"middle\" x=\"254.5\" y=\"-41.8\" font-family=\"Times,serif\" font-size=\"14.00\">data &#45;6.0000</text>\n</g>\n<!-- 132919705205408&#45;&gt;132919705205552+ -->\n<g id=\"edge3\" class=\"edge\">\n<title>132919705205408&#45;&gt;132919705205552+</title>\n<path fill=\"none\" stroke=\"black\" d=\"M297.1,-56.25C306.61,-58.71 316.62,-61.29 325.78,-63.66\"/>\n<polygon fill=\"black\" stroke=\"black\" points=\"325.13,-67.11 335.69,-66.22 326.88,-60.33 325.13,-67.11\"/>\n</g>\n<!-- 132919705205408* -->\n<g id=\"node3\" class=\"node\">\n<title>132919705205408*</title>\n<ellipse fill=\"none\" stroke=\"black\" cx=\"148\" cy=\"-45.5\" rx=\"27\" ry=\"18\"/>\n<text text-anchor=\"middle\" x=\"148\" y=\"-41.8\" font-family=\"Times,serif\" font-size=\"14.00\">*</text>\n</g>\n<!-- 132919705205408*&#45;&gt;132919705205408 -->\n<g id=\"edge1\" class=\"edge\">\n<title>132919705205408*&#45;&gt;132919705205408</title>\n<path fill=\"none\" stroke=\"black\" d=\"M175.1,-45.5C183.27,-45.5 192.59,-45.5 201.88,-45.5\"/>\n<polygon fill=\"black\" stroke=\"black\" points=\"201.89,-49 211.89,-45.5 201.89,-42 201.89,-49\"/>\n</g>\n<!-- 132919705203392 -->\n<g id=\"node4\" class=\"node\">\n<title>132919705203392</title>\n<polygon fill=\"none\" stroke=\"black\" points=\"2.5,-55.5 2.5,-91.5 82.5,-91.5 82.5,-55.5 2.5,-55.5\"/>\n<text text-anchor=\"middle\" x=\"42.5\" y=\"-69.8\" font-family=\"Times,serif\" font-size=\"14.00\">data 2.0000</text>\n</g>\n<!-- 132919705203392&#45;&gt;132919705205408* -->\n<g id=\"edge4\" class=\"edge\">\n<title>132919705203392&#45;&gt;132919705205408*</title>\n<path fill=\"none\" stroke=\"black\" d=\"M82.63,-62.91C92.66,-60.2 103.36,-57.31 113.09,-54.67\"/>\n<polygon fill=\"black\" stroke=\"black\" points=\"114.09,-58.03 122.83,-52.04 112.26,-51.27 114.09,-58.03\"/>\n</g>\n<!-- 132919705205456 -->\n<g id=\"node5\" class=\"node\">\n<title>132919705205456</title>\n<polygon fill=\"none\" stroke=\"black\" points=\"0,-0.5 0,-36.5 85,-36.5 85,-0.5 0,-0.5\"/>\n<text text-anchor=\"middle\" x=\"42.5\" y=\"-14.8\" font-family=\"Times,serif\" font-size=\"14.00\">data &#45;3.0000</text>\n</g>\n<!-- 132919705205456&#45;&gt;132919705205408* -->\n<g id=\"edge5\" class=\"edge\">\n<title>132919705205456&#45;&gt;132919705205408*</title>\n<path fill=\"none\" stroke=\"black\" d=\"M85,-29.33C94.14,-31.71 103.72,-34.21 112.54,-36.51\"/>\n<polygon fill=\"black\" stroke=\"black\" points=\"111.91,-39.96 122.47,-39.1 113.68,-33.19 111.91,-39.96\"/>\n</g>\n<!-- 132919705205552 -->\n<g id=\"node6\" class=\"node\">\n<title>132919705205552</title>\n<polygon fill=\"none\" stroke=\"black\" points=\"424,-54.5 424,-90.5 504,-90.5 504,-54.5 424,-54.5\"/>\n<text text-anchor=\"middle\" x=\"464\" y=\"-68.8\" font-family=\"Times,serif\" font-size=\"14.00\">data 4.0000</text>\n</g>\n<!-- 132919705205552+&#45;&gt;132919705205552 -->\n<g id=\"edge2\" class=\"edge\">\n<title>132919705205552+&#45;&gt;132919705205552</title>\n<path fill=\"none\" stroke=\"black\" d=\"M388.01,-72.5C395.82,-72.5 404.67,-72.5 413.48,-72.5\"/>\n<polygon fill=\"black\" stroke=\"black\" points=\"413.73,-76 423.73,-72.5 413.73,-69 413.73,-76\"/>\n</g>\n</g>\n</svg>\n",
            "text/plain": [
              "<graphviz.graphs.Digraph at 0x78e3dca021e0>"
            ]
          },
          "metadata": {},
          "execution_count": 4
        }
      ]
    },
    {
      "cell_type": "code",
      "source": [
        "class Value:\n",
        "    def __init__(self, data, _children=(), _op = '', label=''):\n",
        "        self.data = data\n",
        "        self._prev = set(_children)\n",
        "        self._op = _op\n",
        "        self.label = label\n",
        "\n",
        "    def __repr__(self):\n",
        "        return f\"Value(data={self.data})\"\n",
        "\n",
        "    def __add__(self, other):\n",
        "        out = Value(self.data + other.data, (self, other), '+')\n",
        "        return out\n",
        "\n",
        "    def __mul__(self, other):\n",
        "        out = Value(self.data * other.data, (self, other), '*')\n",
        "        return out\n",
        "\n",
        "\n",
        "a = Value(2.0, label='a')\n",
        "b = Value(-3.0, label='b')\n",
        "c = Value(10.0, label='c')\n",
        "e = a * b; e.label='e'\n",
        "d = e + c; d.label='d'"
      ],
      "metadata": {
        "id": "JKTTL0kkCgXm"
      },
      "execution_count": null,
      "outputs": []
    },
    {
      "cell_type": "code",
      "source": [
        "from graphviz import Digraph\n",
        "\n",
        "def trace(root):\n",
        "  # builds a set of all nodes and edges in a graph\n",
        "  nodes, edges = set(), set()\n",
        "  def build(v):\n",
        "    if v not in nodes:\n",
        "      nodes.add(v)\n",
        "      for child in v._prev:\n",
        "        edges.add((child, v))\n",
        "        build(child)\n",
        "  build(root)\n",
        "  return nodes, edges\n",
        "\n",
        "def draw_dot(root):\n",
        "  dot = Digraph(format='svg', graph_attr={'rankdir': 'LR'}) # LR = left to right\n",
        "\n",
        "  nodes, edges = trace(root)\n",
        "  for n in nodes:\n",
        "    uid = str(id(n))\n",
        "    # for any value in the graph, create a rectangular ('record') node for it\n",
        "    dot.node(name = uid, label = \"{ %s | data %.4f }\" % (n.label, n.data), shape='record')\n",
        "    if n._op:\n",
        "      # if this value is a result of some operation, create an op node for it\n",
        "      dot.node(name = uid + n._op, label = n._op)\n",
        "      # and connect this node to it\n",
        "      dot.edge(uid + n._op, uid)\n",
        "\n",
        "  for n1, n2 in edges:\n",
        "    # connect n1 to the op node of n2\n",
        "    dot.edge(str(id(n1)), str(id(n2)) + n2._op)\n",
        "\n",
        "  return dot\n",
        "\n",
        "\n",
        "draw_dot(d)"
      ],
      "metadata": {
        "colab": {
          "base_uri": "https://localhost:8080/",
          "height": 192
        },
        "id": "jm9KrSjsET7_",
        "outputId": "507b6f47-0d06-4241-f971-06b1df572efa"
      },
      "execution_count": null,
      "outputs": [
        {
          "output_type": "execute_result",
          "data": {
            "image/svg+xml": "<?xml version=\"1.0\" encoding=\"UTF-8\" standalone=\"no\"?>\n<!DOCTYPE svg PUBLIC \"-//W3C//DTD SVG 1.1//EN\"\n \"http://www.w3.org/Graphics/SVG/1.1/DTD/svg11.dtd\">\n<!-- Generated by graphviz version 2.43.0 (0)\n -->\n<!-- Title: %3 Pages: 1 -->\n<svg width=\"581pt\" height=\"128pt\"\n viewBox=\"0.00 0.00 581.00 128.00\" xmlns=\"http://www.w3.org/2000/svg\" xmlns:xlink=\"http://www.w3.org/1999/xlink\">\n<g id=\"graph0\" class=\"graph\" transform=\"scale(1 1) rotate(0) translate(4 124)\">\n<title>%3</title>\n<polygon fill=\"white\" stroke=\"transparent\" points=\"-4,4 -4,-124 577,-124 577,4 -4,4\"/>\n<!-- 132919367376896 -->\n<g id=\"node1\" class=\"node\">\n<title>132919367376896</title>\n<polygon fill=\"none\" stroke=\"black\" points=\"0,-83.5 0,-119.5 108,-119.5 108,-83.5 0,-83.5\"/>\n<text text-anchor=\"middle\" x=\"11.5\" y=\"-97.8\" font-family=\"Times,serif\" font-size=\"14.00\">b</text>\n<polyline fill=\"none\" stroke=\"black\" points=\"23,-83.5 23,-119.5 \"/>\n<text text-anchor=\"middle\" x=\"65.5\" y=\"-97.8\" font-family=\"Times,serif\" font-size=\"14.00\">data &#45;3.0000</text>\n</g>\n<!-- 132919367376944* -->\n<g id=\"node3\" class=\"node\">\n<title>132919367376944*</title>\n<ellipse fill=\"none\" stroke=\"black\" cx=\"171\" cy=\"-73.5\" rx=\"27\" ry=\"18\"/>\n<text text-anchor=\"middle\" x=\"171\" y=\"-69.8\" font-family=\"Times,serif\" font-size=\"14.00\">*</text>\n</g>\n<!-- 132919367376896&#45;&gt;132919367376944* -->\n<g id=\"edge3\" class=\"edge\">\n<title>132919367376896&#45;&gt;132919367376944*</title>\n<path fill=\"none\" stroke=\"black\" d=\"M108.12,-88.57C117.51,-86.28 127.06,-83.95 135.76,-81.84\"/>\n<polygon fill=\"black\" stroke=\"black\" points=\"136.62,-85.23 145.51,-79.46 134.97,-78.43 136.62,-85.23\"/>\n</g>\n<!-- 132919367376944 -->\n<g id=\"node2\" class=\"node\">\n<title>132919367376944</title>\n<polygon fill=\"none\" stroke=\"black\" points=\"235,-55.5 235,-91.5 343,-91.5 343,-55.5 235,-55.5\"/>\n<text text-anchor=\"middle\" x=\"246.5\" y=\"-69.8\" font-family=\"Times,serif\" font-size=\"14.00\">e</text>\n<polyline fill=\"none\" stroke=\"black\" points=\"258,-55.5 258,-91.5 \"/>\n<text text-anchor=\"middle\" x=\"300.5\" y=\"-69.8\" font-family=\"Times,serif\" font-size=\"14.00\">data &#45;6.0000</text>\n</g>\n<!-- 132919367376608+ -->\n<g id=\"node5\" class=\"node\">\n<title>132919367376608+</title>\n<ellipse fill=\"none\" stroke=\"black\" cx=\"407\" cy=\"-45.5\" rx=\"27\" ry=\"18\"/>\n<text text-anchor=\"middle\" x=\"407\" y=\"-41.8\" font-family=\"Times,serif\" font-size=\"14.00\">+</text>\n</g>\n<!-- 132919367376944&#45;&gt;132919367376608+ -->\n<g id=\"edge6\" class=\"edge\">\n<title>132919367376944&#45;&gt;132919367376608+</title>\n<path fill=\"none\" stroke=\"black\" d=\"M343.25,-60.65C352.84,-58.33 362.6,-55.98 371.48,-53.83\"/>\n<polygon fill=\"black\" stroke=\"black\" points=\"372.54,-57.18 381.43,-51.43 370.89,-50.37 372.54,-57.18\"/>\n</g>\n<!-- 132919367376944*&#45;&gt;132919367376944 -->\n<g id=\"edge1\" class=\"edge\">\n<title>132919367376944*&#45;&gt;132919367376944</title>\n<path fill=\"none\" stroke=\"black\" d=\"M198.03,-73.5C206.08,-73.5 215.32,-73.5 224.74,-73.5\"/>\n<polygon fill=\"black\" stroke=\"black\" points=\"224.99,-77 234.99,-73.5 224.99,-70 224.99,-77\"/>\n</g>\n<!-- 132919367376608 -->\n<g id=\"node4\" class=\"node\">\n<title>132919367376608</title>\n<polygon fill=\"none\" stroke=\"black\" points=\"470,-27.5 470,-63.5 573,-63.5 573,-27.5 470,-27.5\"/>\n<text text-anchor=\"middle\" x=\"481.5\" y=\"-41.8\" font-family=\"Times,serif\" font-size=\"14.00\">d</text>\n<polyline fill=\"none\" stroke=\"black\" points=\"493,-27.5 493,-63.5 \"/>\n<text text-anchor=\"middle\" x=\"533\" y=\"-41.8\" font-family=\"Times,serif\" font-size=\"14.00\">data 4.0000</text>\n</g>\n<!-- 132919367376608+&#45;&gt;132919367376608 -->\n<g id=\"edge2\" class=\"edge\">\n<title>132919367376608+&#45;&gt;132919367376608</title>\n<path fill=\"none\" stroke=\"black\" d=\"M434.09,-45.5C441.83,-45.5 450.64,-45.5 459.61,-45.5\"/>\n<polygon fill=\"black\" stroke=\"black\" points=\"459.76,-49 469.76,-45.5 459.76,-42 459.76,-49\"/>\n</g>\n<!-- 132919367374640 -->\n<g id=\"node6\" class=\"node\">\n<title>132919367374640</title>\n<polygon fill=\"none\" stroke=\"black\" points=\"234,-0.5 234,-36.5 344,-36.5 344,-0.5 234,-0.5\"/>\n<text text-anchor=\"middle\" x=\"245.5\" y=\"-14.8\" font-family=\"Times,serif\" font-size=\"14.00\">c</text>\n<polyline fill=\"none\" stroke=\"black\" points=\"257,-0.5 257,-36.5 \"/>\n<text text-anchor=\"middle\" x=\"300.5\" y=\"-14.8\" font-family=\"Times,serif\" font-size=\"14.00\">data 10.0000</text>\n</g>\n<!-- 132919367374640&#45;&gt;132919367376608+ -->\n<g id=\"edge4\" class=\"edge\">\n<title>132919367374640&#45;&gt;132919367376608+</title>\n<path fill=\"none\" stroke=\"black\" d=\"M344.26,-31.13C353.49,-33.28 362.84,-35.45 371.37,-37.44\"/>\n<polygon fill=\"black\" stroke=\"black\" points=\"370.79,-40.9 381.32,-39.76 372.38,-34.08 370.79,-40.9\"/>\n</g>\n<!-- 132919367377904 -->\n<g id=\"node7\" class=\"node\">\n<title>132919367377904</title>\n<polygon fill=\"none\" stroke=\"black\" points=\"2.5,-28.5 2.5,-64.5 105.5,-64.5 105.5,-28.5 2.5,-28.5\"/>\n<text text-anchor=\"middle\" x=\"14\" y=\"-42.8\" font-family=\"Times,serif\" font-size=\"14.00\">a</text>\n<polyline fill=\"none\" stroke=\"black\" points=\"25.5,-28.5 25.5,-64.5 \"/>\n<text text-anchor=\"middle\" x=\"65.5\" y=\"-42.8\" font-family=\"Times,serif\" font-size=\"14.00\">data 2.0000</text>\n</g>\n<!-- 132919367377904&#45;&gt;132919367376944* -->\n<g id=\"edge5\" class=\"edge\">\n<title>132919367377904&#45;&gt;132919367376944*</title>\n<path fill=\"none\" stroke=\"black\" d=\"M105.78,-58.42C115.74,-60.76 125.98,-63.17 135.28,-65.35\"/>\n<polygon fill=\"black\" stroke=\"black\" points=\"134.77,-68.82 145.3,-67.7 136.37,-62.01 134.77,-68.82\"/>\n</g>\n</g>\n</svg>\n",
            "text/plain": [
              "<graphviz.graphs.Digraph at 0x78e3b3cc34a0>"
            ]
          },
          "metadata": {},
          "execution_count": 7
        }
      ]
    },
    {
      "cell_type": "code",
      "source": [
        "class Value:\n",
        "    def __init__(self, data, _children=(), _op = '', label=''):\n",
        "        self.data = data\n",
        "        self._prev = set(_children)\n",
        "        self._op = _op\n",
        "        self.label = label\n",
        "\n",
        "    def __repr__(self):\n",
        "        return f\"Value(data={self.data})\"\n",
        "\n",
        "    def __add__(self, other):\n",
        "        out = Value(self.data + other.data, (self, other), '+')\n",
        "        return out\n",
        "\n",
        "    def __mul__(self, other):\n",
        "        out = Value(self.data * other.data, (self, other), '*')\n",
        "        return out\n",
        "\n",
        "\n",
        "a = Value(2.0, label='a')\n",
        "b = Value(-3.0, label='b')\n",
        "c = Value(10.0, label='c')\n",
        "e = a * b; e.label='e'\n",
        "d = e + c; d.label='d'\n",
        "f = Value(-2.0, label='f')\n",
        "L = d * f; L.label='L'"
      ],
      "metadata": {
        "id": "X-d-8pD0Ee_z"
      },
      "execution_count": null,
      "outputs": []
    },
    {
      "cell_type": "code",
      "source": [
        "from graphviz import Digraph\n",
        "\n",
        "def trace(root):\n",
        "  # builds a set of all nodes and edges in a graph\n",
        "  nodes, edges = set(), set()\n",
        "  def build(v):\n",
        "    if v not in nodes:\n",
        "      nodes.add(v)\n",
        "      for child in v._prev:\n",
        "        edges.add((child, v))\n",
        "        build(child)\n",
        "  build(root)\n",
        "  return nodes, edges\n",
        "\n",
        "def draw_dot(root):\n",
        "  dot = Digraph(format='svg', graph_attr={'rankdir': 'LR'}) # LR = left to right\n",
        "\n",
        "  nodes, edges = trace(root)\n",
        "  for n in nodes:\n",
        "    uid = str(id(n))\n",
        "    # for any value in the graph, create a rectangular ('record') node for it\n",
        "    dot.node(name = uid, label = \"{ %s | data %.4f }\" % (n.label, n.data), shape='record')\n",
        "    if n._op:\n",
        "      # if this value is a result of some operation, create an op node for it\n",
        "      dot.node(name = uid + n._op, label = n._op)\n",
        "      # and connect this node to it\n",
        "      dot.edge(uid + n._op, uid)\n",
        "\n",
        "  for n1, n2 in edges:\n",
        "    # connect n1 to the op node of n2\n",
        "    dot.edge(str(id(n1)), str(id(n2)) + n2._op)\n",
        "\n",
        "  return dot\n",
        "\n",
        "\n",
        "draw_dot(L)"
      ],
      "metadata": {
        "colab": {
          "base_uri": "https://localhost:8080/",
          "height": 212
        },
        "id": "yeUn3C6EExR-",
        "outputId": "c8039df3-5974-47c6-93d6-c38cfb2c2ba3"
      },
      "execution_count": null,
      "outputs": [
        {
          "output_type": "execute_result",
          "data": {
            "image/svg+xml": "<?xml version=\"1.0\" encoding=\"UTF-8\" standalone=\"no\"?>\n<!DOCTYPE svg PUBLIC \"-//W3C//DTD SVG 1.1//EN\"\n \"http://www.w3.org/Graphics/SVG/1.1/DTD/svg11.dtd\">\n<!-- Generated by graphviz version 2.43.0 (0)\n -->\n<!-- Title: %3 Pages: 1 -->\n<svg width=\"820pt\" height=\"128pt\"\n viewBox=\"0.00 0.00 820.00 128.00\" xmlns=\"http://www.w3.org/2000/svg\" xmlns:xlink=\"http://www.w3.org/1999/xlink\">\n<g id=\"graph0\" class=\"graph\" transform=\"scale(1 1) rotate(0) translate(4 124)\">\n<title>%3</title>\n<polygon fill=\"white\" stroke=\"transparent\" points=\"-4,4 -4,-124 816,-124 816,4 -4,4\"/>\n<!-- 139022777432064 -->\n<g id=\"node1\" class=\"node\">\n<title>139022777432064</title>\n<polygon fill=\"none\" stroke=\"black\" points=\"234,-83.5 234,-119.5 344,-119.5 344,-83.5 234,-83.5\"/>\n<text text-anchor=\"middle\" x=\"245.5\" y=\"-97.8\" font-family=\"Times,serif\" font-size=\"14.00\">c</text>\n<polyline fill=\"none\" stroke=\"black\" points=\"257,-83.5 257,-119.5 \"/>\n<text text-anchor=\"middle\" x=\"300.5\" y=\"-97.8\" font-family=\"Times,serif\" font-size=\"14.00\">data 10.0000</text>\n</g>\n<!-- 139022777433936+ -->\n<g id=\"node7\" class=\"node\">\n<title>139022777433936+</title>\n<ellipse fill=\"none\" stroke=\"black\" cx=\"407\" cy=\"-73.5\" rx=\"27\" ry=\"18\"/>\n<text text-anchor=\"middle\" x=\"407\" y=\"-69.8\" font-family=\"Times,serif\" font-size=\"14.00\">+</text>\n</g>\n<!-- 139022777432064&#45;&gt;139022777433936+ -->\n<g id=\"edge6\" class=\"edge\">\n<title>139022777432064&#45;&gt;139022777433936+</title>\n<path fill=\"none\" stroke=\"black\" d=\"M344.26,-88.4C353.49,-86.18 362.84,-83.92 371.37,-81.86\"/>\n<polygon fill=\"black\" stroke=\"black\" points=\"372.42,-85.21 381.32,-79.46 370.78,-78.4 372.42,-85.21\"/>\n</g>\n<!-- 139022777431680 -->\n<g id=\"node2\" class=\"node\">\n<title>139022777431680</title>\n<polygon fill=\"none\" stroke=\"black\" points=\"235,-28.5 235,-64.5 343,-64.5 343,-28.5 235,-28.5\"/>\n<text text-anchor=\"middle\" x=\"246.5\" y=\"-42.8\" font-family=\"Times,serif\" font-size=\"14.00\">e</text>\n<polyline fill=\"none\" stroke=\"black\" points=\"258,-28.5 258,-64.5 \"/>\n<text text-anchor=\"middle\" x=\"300.5\" y=\"-42.8\" font-family=\"Times,serif\" font-size=\"14.00\">data &#45;6.0000</text>\n</g>\n<!-- 139022777431680&#45;&gt;139022777433936+ -->\n<g id=\"edge5\" class=\"edge\">\n<title>139022777431680&#45;&gt;139022777433936+</title>\n<path fill=\"none\" stroke=\"black\" d=\"M343.25,-58.89C352.75,-61.11 362.43,-63.36 371.24,-65.41\"/>\n<polygon fill=\"black\" stroke=\"black\" points=\"370.6,-68.85 381.14,-67.71 372.19,-62.04 370.6,-68.85\"/>\n</g>\n<!-- 139022777431680* -->\n<g id=\"node3\" class=\"node\">\n<title>139022777431680*</title>\n<ellipse fill=\"none\" stroke=\"black\" cx=\"171\" cy=\"-46.5\" rx=\"27\" ry=\"18\"/>\n<text text-anchor=\"middle\" x=\"171\" y=\"-42.8\" font-family=\"Times,serif\" font-size=\"14.00\">*</text>\n</g>\n<!-- 139022777431680*&#45;&gt;139022777431680 -->\n<g id=\"edge1\" class=\"edge\">\n<title>139022777431680*&#45;&gt;139022777431680</title>\n<path fill=\"none\" stroke=\"black\" d=\"M198.03,-46.5C206.08,-46.5 215.32,-46.5 224.74,-46.5\"/>\n<polygon fill=\"black\" stroke=\"black\" points=\"224.99,-50 234.99,-46.5 224.99,-43 224.99,-50\"/>\n</g>\n<!-- 139022777427600 -->\n<g id=\"node4\" class=\"node\">\n<title>139022777427600</title>\n<polygon fill=\"none\" stroke=\"black\" points=\"470,-0.5 470,-36.5 576,-36.5 576,-0.5 470,-0.5\"/>\n<text text-anchor=\"middle\" x=\"480.5\" y=\"-14.8\" font-family=\"Times,serif\" font-size=\"14.00\">f</text>\n<polyline fill=\"none\" stroke=\"black\" points=\"491,-0.5 491,-36.5 \"/>\n<text text-anchor=\"middle\" x=\"533.5\" y=\"-14.8\" font-family=\"Times,serif\" font-size=\"14.00\">data &#45;2.0000</text>\n</g>\n<!-- 139022777426928* -->\n<g id=\"node10\" class=\"node\">\n<title>139022777426928*</title>\n<ellipse fill=\"none\" stroke=\"black\" cx=\"639\" cy=\"-45.5\" rx=\"27\" ry=\"18\"/>\n<text text-anchor=\"middle\" x=\"639\" y=\"-41.8\" font-family=\"Times,serif\" font-size=\"14.00\">*</text>\n</g>\n<!-- 139022777427600&#45;&gt;139022777426928* -->\n<g id=\"edge9\" class=\"edge\">\n<title>139022777427600&#45;&gt;139022777426928*</title>\n<path fill=\"none\" stroke=\"black\" d=\"M576.33,-30.89C585.48,-33.06 594.8,-35.27 603.33,-37.29\"/>\n<polygon fill=\"black\" stroke=\"black\" points=\"602.73,-40.74 613.27,-39.64 604.34,-33.93 602.73,-40.74\"/>\n</g>\n<!-- 139022777433840 -->\n<g id=\"node5\" class=\"node\">\n<title>139022777433840</title>\n<polygon fill=\"none\" stroke=\"black\" points=\"2.5,-56.5 2.5,-92.5 105.5,-92.5 105.5,-56.5 2.5,-56.5\"/>\n<text text-anchor=\"middle\" x=\"14\" y=\"-70.8\" font-family=\"Times,serif\" font-size=\"14.00\">a</text>\n<polyline fill=\"none\" stroke=\"black\" points=\"25.5,-56.5 25.5,-92.5 \"/>\n<text text-anchor=\"middle\" x=\"65.5\" y=\"-70.8\" font-family=\"Times,serif\" font-size=\"14.00\">data 2.0000</text>\n</g>\n<!-- 139022777433840&#45;&gt;139022777431680* -->\n<g id=\"edge4\" class=\"edge\">\n<title>139022777433840&#45;&gt;139022777431680*</title>\n<path fill=\"none\" stroke=\"black\" d=\"M105.78,-62.14C115.85,-59.68 126.2,-57.16 135.58,-54.88\"/>\n<polygon fill=\"black\" stroke=\"black\" points=\"136.41,-58.28 145.3,-52.51 134.76,-51.48 136.41,-58.28\"/>\n</g>\n<!-- 139022777433936 -->\n<g id=\"node6\" class=\"node\">\n<title>139022777433936</title>\n<polygon fill=\"none\" stroke=\"black\" points=\"471.5,-55.5 471.5,-91.5 574.5,-91.5 574.5,-55.5 471.5,-55.5\"/>\n<text text-anchor=\"middle\" x=\"483\" y=\"-69.8\" font-family=\"Times,serif\" font-size=\"14.00\">d</text>\n<polyline fill=\"none\" stroke=\"black\" points=\"494.5,-55.5 494.5,-91.5 \"/>\n<text text-anchor=\"middle\" x=\"534.5\" y=\"-69.8\" font-family=\"Times,serif\" font-size=\"14.00\">data 4.0000</text>\n</g>\n<!-- 139022777433936&#45;&gt;139022777426928* -->\n<g id=\"edge8\" class=\"edge\">\n<title>139022777433936&#45;&gt;139022777426928*</title>\n<path fill=\"none\" stroke=\"black\" d=\"M574.67,-61.06C584.43,-58.66 594.45,-56.2 603.55,-53.96\"/>\n<polygon fill=\"black\" stroke=\"black\" points=\"604.5,-57.33 613.37,-51.55 602.83,-50.54 604.5,-57.33\"/>\n</g>\n<!-- 139022777433936+&#45;&gt;139022777433936 -->\n<g id=\"edge2\" class=\"edge\">\n<title>139022777433936+&#45;&gt;139022777433936</title>\n<path fill=\"none\" stroke=\"black\" d=\"M434.15,-73.5C442.26,-73.5 451.57,-73.5 461.02,-73.5\"/>\n<polygon fill=\"black\" stroke=\"black\" points=\"461.28,-77 471.28,-73.5 461.28,-70 461.28,-77\"/>\n</g>\n<!-- 139022777426400 -->\n<g id=\"node8\" class=\"node\">\n<title>139022777426400</title>\n<polygon fill=\"none\" stroke=\"black\" points=\"0,-1.5 0,-37.5 108,-37.5 108,-1.5 0,-1.5\"/>\n<text text-anchor=\"middle\" x=\"11.5\" y=\"-15.8\" font-family=\"Times,serif\" font-size=\"14.00\">b</text>\n<polyline fill=\"none\" stroke=\"black\" points=\"23,-1.5 23,-37.5 \"/>\n<text text-anchor=\"middle\" x=\"65.5\" y=\"-15.8\" font-family=\"Times,serif\" font-size=\"14.00\">data &#45;3.0000</text>\n</g>\n<!-- 139022777426400&#45;&gt;139022777431680* -->\n<g id=\"edge7\" class=\"edge\">\n<title>139022777426400&#45;&gt;139022777431680*</title>\n<path fill=\"none\" stroke=\"black\" d=\"M108.12,-31.97C117.33,-34.13 126.68,-36.33 135.24,-38.34\"/>\n<polygon fill=\"black\" stroke=\"black\" points=\"134.68,-41.8 145.21,-40.68 136.28,-34.99 134.68,-41.8\"/>\n</g>\n<!-- 139022777426928 -->\n<g id=\"node9\" class=\"node\">\n<title>139022777426928</title>\n<polygon fill=\"none\" stroke=\"black\" points=\"702,-27.5 702,-63.5 812,-63.5 812,-27.5 702,-27.5\"/>\n<text text-anchor=\"middle\" x=\"714.5\" y=\"-41.8\" font-family=\"Times,serif\" font-size=\"14.00\">L</text>\n<polyline fill=\"none\" stroke=\"black\" points=\"727,-27.5 727,-63.5 \"/>\n<text text-anchor=\"middle\" x=\"769.5\" y=\"-41.8\" font-family=\"Times,serif\" font-size=\"14.00\">data &#45;8.0000</text>\n</g>\n<!-- 139022777426928*&#45;&gt;139022777426928 -->\n<g id=\"edge3\" class=\"edge\">\n<title>139022777426928*&#45;&gt;139022777426928</title>\n<path fill=\"none\" stroke=\"black\" d=\"M666.03,-45.5C673.7,-45.5 682.45,-45.5 691.42,-45.5\"/>\n<polygon fill=\"black\" stroke=\"black\" points=\"691.58,-49 701.58,-45.5 691.58,-42 691.58,-49\"/>\n</g>\n</g>\n</svg>\n",
            "text/plain": [
              "<graphviz.graphs.Digraph at 0x7e70c3e96600>"
            ]
          },
          "metadata": {},
          "execution_count": 11
        }
      ]
    },
    {
      "cell_type": "code",
      "source": [
        "# Partial derivative = \"If I just change one input, how much does L change?\" = Rate of change of the system wrt one variable while freezing all others = How sensitive L is to that input\n",
        "\n",
        "def lol():\n",
        "\n",
        "    h = 0.0001\n",
        "    a = Value(2.0, label='a')\n",
        "    b = Value(-3.0, label='b')\n",
        "    c = Value(10.0, label='c')\n",
        "    e = a * b; e.label='e'\n",
        "    d = e + c; d.label='d'\n",
        "    f = Value(-2.0, label='f')\n",
        "    L = d * f; L.label='L'\n",
        "    L1 = L.data\n",
        "\n",
        "\n",
        "    h = 0.0001\n",
        "    a = Value(2.0, label='a') # “How does the output L change if I change a?”\n",
        "    b = Value(-3.0, label='b')\n",
        "    c = Value(10.0, label='c')\n",
        "    e = a * b; e.label='e'\n",
        "    d = e + c; d.label='d'\n",
        "    f = Value(-2.0, label='f')\n",
        "    L = d * f; L.label='L'\n",
        "    L2 = L.data + h\n",
        "\n",
        "\n",
        "    print((L2 - L1)/h)\n",
        "\n",
        "lol() # Gradients (∂L/∂a, ∂L/∂b, etc.) are only meaningful inside the “world” of the function/system you’re studying -> They are local unitless scales\n"
      ],
      "metadata": {
        "colab": {
          "base_uri": "https://localhost:8080/"
        },
        "id": "cY18-iOEJIH7",
        "outputId": "5873b83f-945b-4120-c9ba-d316fec99645"
      },
      "execution_count": null,
      "outputs": [
        {
          "output_type": "stream",
          "name": "stdout",
          "text": [
            "0.9999999999976694\n"
          ]
        }
      ]
    },
    {
      "cell_type": "code",
      "source": [
        "def lol():\n",
        "\n",
        "    h = 0.0001\n",
        "    a = Value(2.0, label='a')\n",
        "    b = Value(-3.0, label='b')\n",
        "    c = Value(10.0, label='c')\n",
        "    e = a * b; e.label='e'\n",
        "    d = e + c; d.label='d'\n",
        "    f = Value(-2.0, label='f')\n",
        "    L = d * f; L.label='L'\n",
        "    L1 = L.data\n",
        "\n",
        "\n",
        "    h = 0.0001\n",
        "    a = Value(2.0 - h, label='a') # “How does the output L change if I change a?”\n",
        "    b = Value(-3.0, label='b')\n",
        "    c = Value(10.0, label='c')\n",
        "    e = a * b; e.label='e'\n",
        "    d = e + c; d.label='d'\n",
        "    f = Value(-2.0, label='f')\n",
        "    L = d * f; L.label='L'\n",
        "    L2 = L.data\n",
        "\n",
        "\n",
        "    print((L2 - L1)/h)\n",
        "\n",
        "lol()\n"
      ],
      "metadata": {
        "colab": {
          "base_uri": "https://localhost:8080/"
        },
        "id": "jFUmiONmJmWq",
        "outputId": "ef5ac2a7-a69a-44a3-d85e-73dea0a3d059"
      },
      "execution_count": null,
      "outputs": [
        {
          "output_type": "stream",
          "name": "stdout",
          "text": [
            "-6.00000000000378\n"
          ]
        }
      ]
    },
    {
      "cell_type": "code",
      "source": [
        "class Value:\n",
        "    def __init__(self, data, _children=(), _op = '', label=''):\n",
        "        self.data = data\n",
        "        self.grad = 0.0\n",
        "        self._prev = set(_children)\n",
        "        self._op = _op\n",
        "        self.label = label\n",
        "\n",
        "    def __repr__(self):\n",
        "        return f\"Value(data={self.data})\"\n",
        "\n",
        "    def __add__(self, other):\n",
        "        out = Value(self.data + other.data, (self, other), '+')\n",
        "        return out\n",
        "\n",
        "    def __mul__(self, other):\n",
        "        out = Value(self.data * other.data, (self, other), '*')\n",
        "        return out\n",
        "\n",
        "\n",
        "a = Value(2.0, label='a')\n",
        "b = Value(-3.0, label='b')\n",
        "c = Value(10.0, label='c')\n",
        "e = a * b; e.label='e'\n",
        "d = e + c; d.label='d'\n",
        "f = Value(-2.0, label='f')\n",
        "L = d * f; L.label='L'"
      ],
      "metadata": {
        "id": "1HWq8G5eE1lf"
      },
      "execution_count": null,
      "outputs": []
    },
    {
      "cell_type": "code",
      "source": [
        "L.grad = 1.0\n",
        "f.grad = 4.0\n",
        "d.grad = -2.0"
      ],
      "metadata": {
        "id": "LpiqVCP-yBD5"
      },
      "execution_count": null,
      "outputs": []
    },
    {
      "cell_type": "code",
      "source": [
        "from graphviz import Digraph\n",
        "\n",
        "def trace(root):\n",
        "  # builds a set of all nodes and edges in a graph\n",
        "  nodes, edges = set(), set()\n",
        "  def build(v):\n",
        "    if v not in nodes:\n",
        "      nodes.add(v)\n",
        "      for child in v._prev:\n",
        "        edges.add((child, v))\n",
        "        build(child)\n",
        "  build(root)\n",
        "  return nodes, edges\n",
        "\n",
        "def draw_dot(root):\n",
        "  dot = Digraph(format='svg', graph_attr={'rankdir': 'LR'}) # LR = left to right\n",
        "\n",
        "  nodes, edges = trace(root)\n",
        "  for n in nodes:\n",
        "    uid = str(id(n))\n",
        "    # for any value in the graph, create a rectangular ('record') node for it\n",
        "    dot.node(name = uid, label = \"{ %s | data %.4f | grad %.4f }\" % (n.label, n.data, n.grad), shape='record')\n",
        "    if n._op:\n",
        "      # if this value is a result of some operation, create an op node for it\n",
        "      dot.node(name = uid + n._op, label = n._op)\n",
        "      # and connect this node to it\n",
        "      dot.edge(uid + n._op, uid)\n",
        "\n",
        "  for n1, n2 in edges:\n",
        "    # connect n1 to the op node of n2\n",
        "    dot.edge(str(id(n1)), str(id(n2)) + n2._op)\n",
        "\n",
        "  return dot\n",
        "\n",
        "\n",
        "draw_dot(L)"
      ],
      "metadata": {
        "colab": {
          "base_uri": "https://localhost:8080/",
          "height": 212
        },
        "id": "77us9fdqIyc3",
        "outputId": "5e504fd9-89f3-42df-fbda-37c43a406fca"
      },
      "execution_count": null,
      "outputs": [
        {
          "output_type": "execute_result",
          "data": {
            "image/svg+xml": "<?xml version=\"1.0\" encoding=\"UTF-8\" standalone=\"no\"?>\n<!DOCTYPE svg PUBLIC \"-//W3C//DTD SVG 1.1//EN\"\n \"http://www.w3.org/Graphics/SVG/1.1/DTD/svg11.dtd\">\n<!-- Generated by graphviz version 2.43.0 (0)\n -->\n<!-- Title: %3 Pages: 1 -->\n<svg width=\"1149pt\" height=\"128pt\"\n viewBox=\"0.00 0.00 1149.00 128.00\" xmlns=\"http://www.w3.org/2000/svg\" xmlns:xlink=\"http://www.w3.org/1999/xlink\">\n<g id=\"graph0\" class=\"graph\" transform=\"scale(1 1) rotate(0) translate(4 124)\">\n<title>%3</title>\n<polygon fill=\"white\" stroke=\"transparent\" points=\"-4,4 -4,-124 1145,-124 1145,4 -4,4\"/>\n<!-- 139022788714544 -->\n<g id=\"node1\" class=\"node\">\n<title>139022788714544</title>\n<polygon fill=\"none\" stroke=\"black\" points=\"316,-83.5 316,-119.5 508,-119.5 508,-83.5 316,-83.5\"/>\n<text text-anchor=\"middle\" x=\"327.5\" y=\"-97.8\" font-family=\"Times,serif\" font-size=\"14.00\">c</text>\n<polyline fill=\"none\" stroke=\"black\" points=\"339,-83.5 339,-119.5 \"/>\n<text text-anchor=\"middle\" x=\"382.5\" y=\"-97.8\" font-family=\"Times,serif\" font-size=\"14.00\">data 10.0000</text>\n<polyline fill=\"none\" stroke=\"black\" points=\"426,-83.5 426,-119.5 \"/>\n<text text-anchor=\"middle\" x=\"467\" y=\"-97.8\" font-family=\"Times,serif\" font-size=\"14.00\">grad 0.0000</text>\n</g>\n<!-- 139022788714112+ -->\n<g id=\"node3\" class=\"node\">\n<title>139022788714112+</title>\n<ellipse fill=\"none\" stroke=\"black\" cx=\"571\" cy=\"-73.5\" rx=\"27\" ry=\"18\"/>\n<text text-anchor=\"middle\" x=\"571\" y=\"-69.8\" font-family=\"Times,serif\" font-size=\"14.00\">+</text>\n</g>\n<!-- 139022788714544&#45;&gt;139022788714112+ -->\n<g id=\"edge5\" class=\"edge\">\n<title>139022788714544&#45;&gt;139022788714112+</title>\n<path fill=\"none\" stroke=\"black\" d=\"M508.4,-84.49C517.69,-82.83 526.64,-81.23 534.71,-79.79\"/>\n<polygon fill=\"black\" stroke=\"black\" points=\"535.53,-83.2 544.76,-78 534.31,-76.31 535.53,-83.2\"/>\n</g>\n<!-- 139022788714112 -->\n<g id=\"node2\" class=\"node\">\n<title>139022788714112</title>\n<polygon fill=\"none\" stroke=\"black\" points=\"634,-55.5 634,-91.5 823,-91.5 823,-55.5 634,-55.5\"/>\n<text text-anchor=\"middle\" x=\"645.5\" y=\"-69.8\" font-family=\"Times,serif\" font-size=\"14.00\">d</text>\n<polyline fill=\"none\" stroke=\"black\" points=\"657,-55.5 657,-91.5 \"/>\n<text text-anchor=\"middle\" x=\"697\" y=\"-69.8\" font-family=\"Times,serif\" font-size=\"14.00\">data 4.0000</text>\n<polyline fill=\"none\" stroke=\"black\" points=\"737,-55.5 737,-91.5 \"/>\n<text text-anchor=\"middle\" x=\"780\" y=\"-69.8\" font-family=\"Times,serif\" font-size=\"14.00\">grad &#45;2.0000</text>\n</g>\n<!-- 139022777433312* -->\n<g id=\"node9\" class=\"node\">\n<title>139022777433312*</title>\n<ellipse fill=\"none\" stroke=\"black\" cx=\"886\" cy=\"-45.5\" rx=\"27\" ry=\"18\"/>\n<text text-anchor=\"middle\" x=\"886\" y=\"-41.8\" font-family=\"Times,serif\" font-size=\"14.00\">*</text>\n</g>\n<!-- 139022788714112&#45;&gt;139022777433312* -->\n<g id=\"edge7\" class=\"edge\">\n<title>139022788714112&#45;&gt;139022777433312*</title>\n<path fill=\"none\" stroke=\"black\" d=\"M823.1,-56.65C832.4,-54.97 841.38,-53.35 849.49,-51.89\"/>\n<polygon fill=\"black\" stroke=\"black\" points=\"850.37,-55.29 859.59,-50.07 849.13,-48.4 850.37,-55.29\"/>\n</g>\n<!-- 139022788714112+&#45;&gt;139022788714112 -->\n<g id=\"edge1\" class=\"edge\">\n<title>139022788714112+&#45;&gt;139022788714112</title>\n<path fill=\"none\" stroke=\"black\" d=\"M598.03,-73.5C605.66,-73.5 614.52,-73.5 623.94,-73.5\"/>\n<polygon fill=\"black\" stroke=\"black\" points=\"623.94,-77 633.94,-73.5 623.94,-70 623.94,-77\"/>\n</g>\n<!-- 139022788714160 -->\n<g id=\"node4\" class=\"node\">\n<title>139022788714160</title>\n<polygon fill=\"none\" stroke=\"black\" points=\"0,-56.5 0,-92.5 190,-92.5 190,-56.5 0,-56.5\"/>\n<text text-anchor=\"middle\" x=\"11.5\" y=\"-70.8\" font-family=\"Times,serif\" font-size=\"14.00\">b</text>\n<polyline fill=\"none\" stroke=\"black\" points=\"23,-56.5 23,-92.5 \"/>\n<text text-anchor=\"middle\" x=\"65.5\" y=\"-70.8\" font-family=\"Times,serif\" font-size=\"14.00\">data &#45;3.0000</text>\n<polyline fill=\"none\" stroke=\"black\" points=\"108,-56.5 108,-92.5 \"/>\n<text text-anchor=\"middle\" x=\"149\" y=\"-70.8\" font-family=\"Times,serif\" font-size=\"14.00\">grad 0.0000</text>\n</g>\n<!-- 139022788714208* -->\n<g id=\"node7\" class=\"node\">\n<title>139022788714208*</title>\n<ellipse fill=\"none\" stroke=\"black\" cx=\"253\" cy=\"-46.5\" rx=\"27\" ry=\"18\"/>\n<text text-anchor=\"middle\" x=\"253\" y=\"-42.8\" font-family=\"Times,serif\" font-size=\"14.00\">*</text>\n</g>\n<!-- 139022788714160&#45;&gt;139022788714208* -->\n<g id=\"edge4\" class=\"edge\">\n<title>139022788714160&#45;&gt;139022788714208*</title>\n<path fill=\"none\" stroke=\"black\" d=\"M190.34,-57.57C199.62,-55.9 208.58,-54.29 216.66,-52.84\"/>\n<polygon fill=\"black\" stroke=\"black\" points=\"217.49,-56.25 226.72,-51.04 216.26,-49.36 217.49,-56.25\"/>\n</g>\n<!-- 139022777433792 -->\n<g id=\"node5\" class=\"node\">\n<title>139022777433792</title>\n<polygon fill=\"none\" stroke=\"black\" points=\"634.5,-0.5 634.5,-36.5 822.5,-36.5 822.5,-0.5 634.5,-0.5\"/>\n<text text-anchor=\"middle\" x=\"645\" y=\"-14.8\" font-family=\"Times,serif\" font-size=\"14.00\">f</text>\n<polyline fill=\"none\" stroke=\"black\" points=\"655.5,-0.5 655.5,-36.5 \"/>\n<text text-anchor=\"middle\" x=\"698\" y=\"-14.8\" font-family=\"Times,serif\" font-size=\"14.00\">data &#45;2.0000</text>\n<polyline fill=\"none\" stroke=\"black\" points=\"740.5,-0.5 740.5,-36.5 \"/>\n<text text-anchor=\"middle\" x=\"781.5\" y=\"-14.8\" font-family=\"Times,serif\" font-size=\"14.00\">grad 4.0000</text>\n</g>\n<!-- 139022777433792&#45;&gt;139022777433312* -->\n<g id=\"edge9\" class=\"edge\">\n<title>139022777433792&#45;&gt;139022777433312*</title>\n<path fill=\"none\" stroke=\"black\" d=\"M822.65,-34.67C832.2,-36.33 841.43,-37.93 849.72,-39.37\"/>\n<polygon fill=\"black\" stroke=\"black\" points=\"849.24,-42.84 859.69,-41.11 850.44,-35.95 849.24,-42.84\"/>\n</g>\n<!-- 139022788714208 -->\n<g id=\"node6\" class=\"node\">\n<title>139022788714208</title>\n<polygon fill=\"none\" stroke=\"black\" points=\"317,-28.5 317,-64.5 507,-64.5 507,-28.5 317,-28.5\"/>\n<text text-anchor=\"middle\" x=\"328.5\" y=\"-42.8\" font-family=\"Times,serif\" font-size=\"14.00\">e</text>\n<polyline fill=\"none\" stroke=\"black\" points=\"340,-28.5 340,-64.5 \"/>\n<text text-anchor=\"middle\" x=\"382.5\" y=\"-42.8\" font-family=\"Times,serif\" font-size=\"14.00\">data &#45;6.0000</text>\n<polyline fill=\"none\" stroke=\"black\" points=\"425,-28.5 425,-64.5 \"/>\n<text text-anchor=\"middle\" x=\"466\" y=\"-42.8\" font-family=\"Times,serif\" font-size=\"14.00\">grad 0.0000</text>\n</g>\n<!-- 139022788714208&#45;&gt;139022788714112+ -->\n<g id=\"edge6\" class=\"edge\">\n<title>139022788714208&#45;&gt;139022788714112+</title>\n<path fill=\"none\" stroke=\"black\" d=\"M507.05,-62.67C516.78,-64.35 526.18,-65.96 534.62,-67.42\"/>\n<polygon fill=\"black\" stroke=\"black\" points=\"534.3,-70.91 544.75,-69.16 535.49,-64.01 534.3,-70.91\"/>\n</g>\n<!-- 139022788714208*&#45;&gt;139022788714208 -->\n<g id=\"edge2\" class=\"edge\">\n<title>139022788714208*&#45;&gt;139022788714208</title>\n<path fill=\"none\" stroke=\"black\" d=\"M280.28,-46.5C288.05,-46.5 297.08,-46.5 306.68,-46.5\"/>\n<polygon fill=\"black\" stroke=\"black\" points=\"306.88,-50 316.88,-46.5 306.88,-43 306.88,-50\"/>\n</g>\n<!-- 139022777433312 -->\n<g id=\"node8\" class=\"node\">\n<title>139022777433312</title>\n<polygon fill=\"none\" stroke=\"black\" points=\"949,-27.5 949,-63.5 1141,-63.5 1141,-27.5 949,-27.5\"/>\n<text text-anchor=\"middle\" x=\"961.5\" y=\"-41.8\" font-family=\"Times,serif\" font-size=\"14.00\">L</text>\n<polyline fill=\"none\" stroke=\"black\" points=\"974,-27.5 974,-63.5 \"/>\n<text text-anchor=\"middle\" x=\"1016.5\" y=\"-41.8\" font-family=\"Times,serif\" font-size=\"14.00\">data &#45;8.0000</text>\n<polyline fill=\"none\" stroke=\"black\" points=\"1059,-27.5 1059,-63.5 \"/>\n<text text-anchor=\"middle\" x=\"1100\" y=\"-41.8\" font-family=\"Times,serif\" font-size=\"14.00\">grad 1.0000</text>\n</g>\n<!-- 139022777433312*&#45;&gt;139022777433312 -->\n<g id=\"edge3\" class=\"edge\">\n<title>139022777433312*&#45;&gt;139022777433312</title>\n<path fill=\"none\" stroke=\"black\" d=\"M913.28,-45.5C920.78,-45.5 929.44,-45.5 938.67,-45.5\"/>\n<polygon fill=\"black\" stroke=\"black\" points=\"938.87,-49 948.87,-45.5 938.87,-42 938.87,-49\"/>\n</g>\n<!-- 139022787879200 -->\n<g id=\"node10\" class=\"node\">\n<title>139022787879200</title>\n<polygon fill=\"none\" stroke=\"black\" points=\"2.5,-1.5 2.5,-37.5 187.5,-37.5 187.5,-1.5 2.5,-1.5\"/>\n<text text-anchor=\"middle\" x=\"14\" y=\"-15.8\" font-family=\"Times,serif\" font-size=\"14.00\">a</text>\n<polyline fill=\"none\" stroke=\"black\" points=\"25.5,-1.5 25.5,-37.5 \"/>\n<text text-anchor=\"middle\" x=\"65.5\" y=\"-15.8\" font-family=\"Times,serif\" font-size=\"14.00\">data 2.0000</text>\n<polyline fill=\"none\" stroke=\"black\" points=\"105.5,-1.5 105.5,-37.5 \"/>\n<text text-anchor=\"middle\" x=\"146.5\" y=\"-15.8\" font-family=\"Times,serif\" font-size=\"14.00\">grad 0.0000</text>\n</g>\n<!-- 139022787879200&#45;&gt;139022788714208* -->\n<g id=\"edge8\" class=\"edge\">\n<title>139022787879200&#45;&gt;139022788714208*</title>\n<path fill=\"none\" stroke=\"black\" d=\"M187.65,-35.36C197.94,-37.14 207.91,-38.87 216.81,-40.41\"/>\n<polygon fill=\"black\" stroke=\"black\" points=\"216.26,-43.87 226.71,-42.12 217.45,-36.97 216.26,-43.87\"/>\n</g>\n</g>\n</svg>\n",
            "text/plain": [
              "<graphviz.graphs.Digraph at 0x7e70c3d6eea0>"
            ]
          },
          "metadata": {},
          "execution_count": 33
        }
      ]
    },
    {
      "cell_type": "markdown",
      "source": [
        "# 📘 Derivative of Multiplication (with Chain Rule)\n",
        "\n",
        "We want the derivative of  \n",
        "\n",
        "$$\n",
        "L = d \\cdot f\n",
        "$$  \n",
        "\n",
        "with respect to $d$.  \n",
        "\n",
        "---\n",
        "\n",
        "### 🔹 Step 1: Chain rule starting point  \n",
        "\n",
        "By definition of backpropagation, we always start from:  \n",
        "\n",
        "$$\n",
        "\\frac{\\partial L}{\\partial L} = 1\n",
        "$$  \n",
        "\n",
        "Then the chain rule says:  \n",
        "\n",
        "$$\n",
        "\\frac{\\partial L}{\\partial d}\n",
        "= \\frac{\\partial L}{\\partial L} \\cdot \\frac{\\partial L}{\\partial d}\n",
        "$$  \n",
        "\n",
        "---\n",
        "\n",
        "### 🔹 Step 2: Definition of derivative  \n",
        "\n",
        "$$\n",
        "\\frac{\\partial L}{\\partial d}\n",
        "= \\lim_{h \\to 0} \\frac{L(d+h) - L(d)}{h}\n",
        "$$  \n",
        "\n",
        "---\n",
        "\n",
        "### 🔹 Step 3: Plug in $L = d \\cdot f$  \n",
        "\n",
        "$$\n",
        "= \\lim_{h \\to 0} \\frac{(d+h)\\cdot f - (d \\cdot f)}{h}\n",
        "$$  \n",
        "\n",
        "---\n",
        "\n",
        "### 🔹 Step 4: Expand  \n",
        "\n",
        "$$\n",
        "= \\lim_{h \\to 0} \\frac{d \\cdot f + h \\cdot f - d \\cdot f}{h}\n",
        "$$  \n",
        "\n",
        "The $d \\cdot f$ terms cancel out.  \n",
        "\n",
        "---\n",
        "\n",
        "### 🔹 Step 5: Simplify  \n",
        "\n",
        "$$\n",
        "= \\lim_{h \\to 0} \\frac{h \\cdot f}{h}\n",
        "$$  \n",
        "\n",
        "---\n",
        "\n",
        "### 🔹 Step 6: Cancel $h$  \n",
        "\n",
        "$$\n",
        "= f\n",
        "$$  \n",
        "\n",
        "---\n",
        "\n",
        "✅ **Therefore (with chain rule):**  \n",
        "\n",
        "$$\n",
        "\\frac{\\partial L}{\\partial d}\n",
        "= \\frac{\\partial L}{\\partial L} \\cdot f\n",
        "= 1 \\cdot f\n",
        "= f\n",
        "$$"
      ],
      "metadata": {
        "id": "ZqGAl8ph3r7N"
      }
    },
    {
      "cell_type": "code",
      "source": [
        "def lol():\n",
        "\n",
        "    h = 0.0001\n",
        "    a = Value(2.0, label='a')\n",
        "    b = Value(-3.0, label='b')\n",
        "    c = Value(10.0, label='c')\n",
        "    e = a * b; e.label='e'\n",
        "    d = e + c; d.label='d'\n",
        "    f = Value(-2.0, label='f')\n",
        "    L = d * f; L.label='L'\n",
        "    L1 = L.data\n",
        "\n",
        "\n",
        "    h = 0.0001\n",
        "    a = Value(2.0, label='a')\n",
        "    b = Value(-3.0, label='b')\n",
        "    c = Value(10.0, label='c')\n",
        "    e = a * b; e.labl='e'\n",
        "    d = e + c; d.label='d'\n",
        "    f = Value(-2.0 + h, label='f') # If I change f, I will see dL/dd = 4 amounts of change\n",
        "    L = d * f; L.label='L'\n",
        "    L2 = L.data\n",
        "\n",
        "\n",
        "    print((L2 - L1)/h)\n",
        "\n",
        "lol()\n"
      ],
      "metadata": {
        "colab": {
          "base_uri": "https://localhost:8080/"
        },
        "id": "JD-h-UJB4hmO",
        "outputId": "b756bd56-5027-41e0-d6a4-94ff4bd63c06"
      },
      "execution_count": null,
      "outputs": [
        {
          "output_type": "stream",
          "name": "stdout",
          "text": [
            "3.9999999999995595\n"
          ]
        }
      ]
    },
    {
      "cell_type": "markdown",
      "source": [
        "# 📘 Derivate of Addition\n",
        "\n",
        "We want the derivative of  \n",
        "\n",
        "$$\n",
        "d = c + e\n",
        "$$  \n",
        "\n",
        "with respect to $c$.  \n",
        "\n",
        "---\n",
        "\n",
        "🔹 **Step 1: Definition of derivative**  \n",
        "\n",
        "$$\n",
        "\\frac{\\partial d}{\\partial c} = \\lim_{h \\to 0} \\frac{d(c+h) - d(c)}{h}\n",
        "$$  \n",
        "\n",
        "---\n",
        "\n",
        "🔹 **Step 2: Plug in $d = c + e$**  \n",
        "\n",
        "$$\n",
        "= \\lim_{h \\to 0} \\frac{((c+h)+e) - (c+e)}{h}\n",
        "$$  \n",
        "\n",
        "---\n",
        "\n",
        "🔹 **Step 3: Expand**  \n",
        "\n",
        "$$\n",
        "= \\lim_{h \\to 0} \\frac{c + h + e - c - e}{h}\n",
        "$$  \n",
        "\n",
        "---\n",
        "\n",
        "🔹 **Step 4: Simplify**  \n",
        "\n",
        "$$\n",
        "= \\lim_{h \\to 0} \\frac{h}{h}\n",
        "$$  \n",
        "\n",
        "---\n",
        "\n",
        "🔹 **Step 5: Cancel $h$**  \n",
        "\n",
        "$$\n",
        "= 1\n",
        "$$  \n",
        "\n",
        "---\n",
        "\n",
        "✅ Therefore:  \n",
        "\n",
        "$$\n",
        "\\frac{\\partial d}{\\partial c} = 1\n",
        "$$"
      ],
      "metadata": {
        "id": "pkbfbKJ37u_-"
      }
    },
    {
      "cell_type": "code",
      "source": [
        "def lol():\n",
        "\n",
        "    h = 0.0001\n",
        "    a = Value(2.0, label='a')\n",
        "    b = Value(-3.0, label='b')\n",
        "    c = Value(10.0, label='c')\n",
        "    e = a * b; e.label='e'\n",
        "    d = e + c; d.label='d'\n",
        "    D1 = d.data\n",
        "\n",
        "\n",
        "    h = 0.0001\n",
        "    a = Value(2.0, label='a')\n",
        "    b = Value(-3.0, label='b')\n",
        "    c = Value(10.0 + h, label='c')\n",
        "    e = a * b; e.labl='e'\n",
        "    d = e + c; d.label='d'\n",
        "    D2 = d.data\n",
        "\n",
        "\n",
        "    print((D2 - D1)/h)\n",
        "\n",
        "lol()\n"
      ],
      "metadata": {
        "colab": {
          "base_uri": "https://localhost:8080/"
        },
        "id": "ElfL4SN97vub",
        "outputId": "6f2643fc-4733-4a9c-dd2e-de6062c3b191"
      },
      "execution_count": null,
      "outputs": [
        {
          "output_type": "stream",
          "name": "stdout",
          "text": [
            "0.9999999999976694\n"
          ]
        }
      ]
    },
    {
      "cell_type": "markdown",
      "source": [
        "# 🔗 Chain Rule Example\n",
        "\n",
        "Suppose we want:\n",
        "\n",
        "$$\n",
        "\\frac{\\partial L}{\\partial c}\n",
        "$$\n",
        "\n",
        "but $L$ depends on $c$ **through** an intermediate variable $d$.  \n",
        "\n",
        "---\n",
        "\n",
        "### ✅ Chain Rule Formula\n",
        "\n",
        "$$\n",
        "\\frac{\\partial L}{\\partial c}\n",
        "= \\frac{\\partial L}{\\partial d} \\cdot \\frac{\\partial d}{\\partial c}\n",
        "$$\n",
        "\n",
        "---\n",
        "\n",
        "### 🧩 Explanation\n",
        "\n",
        "- We know $\\frac{\\partial L}{\\partial d}$: how $L$ changes with $d$.  \n",
        "- We know $\\frac{\\partial d}{\\partial c}$: how $d$ changes with $c$.  \n",
        "- Multiplying them gives $\\frac{\\partial L}{\\partial c}$: how $L$ changes with $c$ through $d$.  \n",
        "\n",
        "---\n",
        "\n",
        "### 🔍 Intuition\n",
        "\n",
        "The chain rule says:  \n",
        "*“If $c$ nudges $d$, and $d$ nudges $L$, then the total effect of $c$ on $L$ is the product of those nudges.”*  \n",
        "\n",
        "It’s like passing the influence along the chain:\n",
        "\n",
        "$$\n",
        "c \\;\\;\\rightarrow\\;\\; d \\;\\;\\rightarrow\\;\\; L\n",
        "$$"
      ],
      "metadata": {
        "id": "ZRH4kEHu96q7"
      }
    },
    {
      "cell_type": "markdown",
      "source": [
        "# 🔗 Why the Chain Rule Works (Mathematical Proof)\n",
        "\n",
        "Suppose we have a function of a function:\n",
        "\n",
        "$$\n",
        "L = f(d), \\quad d = g(c)\n",
        "$$\n",
        "\n",
        "So overall:\n",
        "\n",
        "$$\n",
        "L = f(g(c))\n",
        "$$\n",
        "\n",
        "We want:\n",
        "\n",
        "$$\n",
        "\\frac{dL}{dc}\n",
        "$$\n",
        "\n",
        "---\n",
        "\n",
        "### 🔹 Step 1: Definition of derivative\n",
        "\n",
        "$$\n",
        "\\frac{dL}{dc} = \\lim_{h \\to 0} \\frac{L(c+h) - L(c)}{h}\n",
        "$$\n",
        "\n",
        "Substitute $L(c) = f(g(c))$:\n",
        "\n",
        "$$\n",
        "= \\lim_{h \\to 0} \\frac{f(g(c+h)) - f(g(c))}{h}\n",
        "$$\n",
        "\n",
        "---\n",
        "\n",
        "### 🔹 Step 2: Introduce $\\Delta d$\n",
        "\n",
        "Let:\n",
        "\n",
        "$$\n",
        "\\Delta d = g(c+h) - g(c)\n",
        "$$\n",
        "\n",
        "So:\n",
        "\n",
        "$$\n",
        "\\frac{dL}{dc} = \\lim_{h \\to 0} \\frac{f(g(c) + \\Delta d) - f(g(c))}{h}\n",
        "$$\n",
        "\n",
        "---\n",
        "\n",
        "### 🔹 Step 3: Multiply and divide by $\\Delta d$\n",
        "\n",
        "$$\n",
        "\\frac{dL}{dc} = \\lim_{h \\to 0}\n",
        "\\left(\n",
        "\\frac{f(g(c)+\\Delta d) - f(g(c))}{\\Delta d}\n",
        "\\cdot\n",
        "\\frac{\\Delta d}{h}\n",
        "\\right)\n",
        "$$\n",
        "\n",
        "---\n",
        "\n",
        "### 🔹 Step 4: Interpret the two limits\n",
        "\n",
        "1. The first fraction is the derivative of $f$ with respect to $d$:\n",
        "\n",
        "$$\n",
        "\\lim_{\\Delta d \\to 0} \\frac{f(g(c)+\\Delta d) - f(g(c))}{\\Delta d}\n",
        "= f'(g(c))\n",
        "$$\n",
        "\n",
        "2. The second fraction is the derivative of $g$ with respect to $c$:\n",
        "\n",
        "$$\n",
        "\\lim_{h \\to 0} \\frac{g(c+h) - g(c)}{h}\n",
        "= g'(c)\n",
        "$$\n",
        "\n",
        "---\n",
        "\n",
        "### 🔹 Step 5: Multiply results\n",
        "\n",
        "$$\n",
        "\\frac{dL}{dc} = f'(g(c)) \\cdot g'(c)\n",
        "$$\n",
        "\n",
        "---\n",
        "\n",
        "✅ **Therefore, the chain rule:**\n",
        "\n",
        "$$\n",
        "\\frac{dL}{dc} = \\frac{dL}{dd} \\cdot \\frac{dd}{dc}\n",
        "$$\n",
        "\n",
        "This shows that the rate of change \"flows through\" intermediate variables."
      ],
      "metadata": {
        "id": "LOH4tZmg-h7C"
      }
    },
    {
      "cell_type": "code",
      "source": [
        "a.grad = 6.0\n",
        "b.grad = -4.0\n",
        "e.grad = -2.0\n",
        "c.grad = -2.0"
      ],
      "metadata": {
        "id": "TfowhO2s97jT"
      },
      "execution_count": null,
      "outputs": []
    },
    {
      "cell_type": "code",
      "source": [
        "from graphviz import Digraph\n",
        "\n",
        "def trace(root):\n",
        "  # builds a set of all nodes and edges in a graph\n",
        "  nodes, edges = set(), set()\n",
        "  def build(v):\n",
        "    if v not in nodes:\n",
        "      nodes.add(v)\n",
        "      for child in v._prev:\n",
        "        edges.add((child, v))\n",
        "        build(child)\n",
        "  build(root)\n",
        "  return nodes, edges\n",
        "\n",
        "def draw_dot(root):\n",
        "  dot = Digraph(format='svg', graph_attr={'rankdir': 'LR'}) # LR = left to right\n",
        "\n",
        "  nodes, edges = trace(root)\n",
        "  for n in nodes:\n",
        "    uid = str(id(n))\n",
        "    # for any value in the graph, create a rectangular ('record') node for it\n",
        "    dot.node(name = uid, label = \"{ %s | data %.4f | grad %.4f }\" % (n.label, n.data, n.grad), shape='record')\n",
        "    if n._op:\n",
        "      # if this value is a result of some operation, create an op node for it\n",
        "      dot.node(name = uid + n._op, label = n._op)\n",
        "      # and connect this node to it\n",
        "      dot.edge(uid + n._op, uid)\n",
        "\n",
        "  for n1, n2 in edges:\n",
        "    # connect n1 to the op node of n2\n",
        "    dot.edge(str(id(n1)), str(id(n2)) + n2._op)\n",
        "\n",
        "  return dot\n",
        "\n",
        "\n",
        "draw_dot(L)"
      ],
      "metadata": {
        "colab": {
          "base_uri": "https://localhost:8080/",
          "height": 212
        },
        "id": "xOVE24dgApEf",
        "outputId": "02c73c76-747a-48ed-a1aa-05f0558bbdc4"
      },
      "execution_count": null,
      "outputs": [
        {
          "output_type": "execute_result",
          "data": {
            "image/svg+xml": "<?xml version=\"1.0\" encoding=\"UTF-8\" standalone=\"no\"?>\n<!DOCTYPE svg PUBLIC \"-//W3C//DTD SVG 1.1//EN\"\n \"http://www.w3.org/Graphics/SVG/1.1/DTD/svg11.dtd\">\n<!-- Generated by graphviz version 2.43.0 (0)\n -->\n<!-- Title: %3 Pages: 1 -->\n<svg width=\"1157pt\" height=\"128pt\"\n viewBox=\"0.00 0.00 1157.00 128.00\" xmlns=\"http://www.w3.org/2000/svg\" xmlns:xlink=\"http://www.w3.org/1999/xlink\">\n<g id=\"graph0\" class=\"graph\" transform=\"scale(1 1) rotate(0) translate(4 124)\">\n<title>%3</title>\n<polygon fill=\"white\" stroke=\"transparent\" points=\"-4,4 -4,-124 1153,-124 1153,4 -4,4\"/>\n<!-- 139022788714544 -->\n<g id=\"node1\" class=\"node\">\n<title>139022788714544</title>\n<polygon fill=\"none\" stroke=\"black\" points=\"320,-83.5 320,-119.5 516,-119.5 516,-83.5 320,-83.5\"/>\n<text text-anchor=\"middle\" x=\"331.5\" y=\"-97.8\" font-family=\"Times,serif\" font-size=\"14.00\">c</text>\n<polyline fill=\"none\" stroke=\"black\" points=\"343,-83.5 343,-119.5 \"/>\n<text text-anchor=\"middle\" x=\"386.5\" y=\"-97.8\" font-family=\"Times,serif\" font-size=\"14.00\">data 10.0000</text>\n<polyline fill=\"none\" stroke=\"black\" points=\"430,-83.5 430,-119.5 \"/>\n<text text-anchor=\"middle\" x=\"473\" y=\"-97.8\" font-family=\"Times,serif\" font-size=\"14.00\">grad &#45;2.0000</text>\n</g>\n<!-- 139022788714112+ -->\n<g id=\"node3\" class=\"node\">\n<title>139022788714112+</title>\n<ellipse fill=\"none\" stroke=\"black\" cx=\"579\" cy=\"-73.5\" rx=\"27\" ry=\"18\"/>\n<text text-anchor=\"middle\" x=\"579\" y=\"-69.8\" font-family=\"Times,serif\" font-size=\"14.00\">+</text>\n</g>\n<!-- 139022788714544&#45;&gt;139022788714112+ -->\n<g id=\"edge5\" class=\"edge\">\n<title>139022788714544&#45;&gt;139022788714112+</title>\n<path fill=\"none\" stroke=\"black\" d=\"M516.07,-84.41C525.42,-82.76 534.43,-81.17 542.55,-79.74\"/>\n<polygon fill=\"black\" stroke=\"black\" points=\"543.41,-83.15 552.65,-77.96 542.2,-76.25 543.41,-83.15\"/>\n</g>\n<!-- 139022788714112 -->\n<g id=\"node2\" class=\"node\">\n<title>139022788714112</title>\n<polygon fill=\"none\" stroke=\"black\" points=\"642,-55.5 642,-91.5 831,-91.5 831,-55.5 642,-55.5\"/>\n<text text-anchor=\"middle\" x=\"653.5\" y=\"-69.8\" font-family=\"Times,serif\" font-size=\"14.00\">d</text>\n<polyline fill=\"none\" stroke=\"black\" points=\"665,-55.5 665,-91.5 \"/>\n<text text-anchor=\"middle\" x=\"705\" y=\"-69.8\" font-family=\"Times,serif\" font-size=\"14.00\">data 4.0000</text>\n<polyline fill=\"none\" stroke=\"black\" points=\"745,-55.5 745,-91.5 \"/>\n<text text-anchor=\"middle\" x=\"788\" y=\"-69.8\" font-family=\"Times,serif\" font-size=\"14.00\">grad &#45;2.0000</text>\n</g>\n<!-- 139022777433312* -->\n<g id=\"node9\" class=\"node\">\n<title>139022777433312*</title>\n<ellipse fill=\"none\" stroke=\"black\" cx=\"894\" cy=\"-45.5\" rx=\"27\" ry=\"18\"/>\n<text text-anchor=\"middle\" x=\"894\" y=\"-41.8\" font-family=\"Times,serif\" font-size=\"14.00\">*</text>\n</g>\n<!-- 139022788714112&#45;&gt;139022777433312* -->\n<g id=\"edge7\" class=\"edge\">\n<title>139022788714112&#45;&gt;139022777433312*</title>\n<path fill=\"none\" stroke=\"black\" d=\"M831.1,-56.65C840.4,-54.97 849.38,-53.35 857.49,-51.89\"/>\n<polygon fill=\"black\" stroke=\"black\" points=\"858.37,-55.29 867.59,-50.07 857.13,-48.4 858.37,-55.29\"/>\n</g>\n<!-- 139022788714112+&#45;&gt;139022788714112 -->\n<g id=\"edge1\" class=\"edge\">\n<title>139022788714112+&#45;&gt;139022788714112</title>\n<path fill=\"none\" stroke=\"black\" d=\"M606.03,-73.5C613.66,-73.5 622.52,-73.5 631.94,-73.5\"/>\n<polygon fill=\"black\" stroke=\"black\" points=\"631.94,-77 641.94,-73.5 631.94,-70 631.94,-77\"/>\n</g>\n<!-- 139022788714160 -->\n<g id=\"node4\" class=\"node\">\n<title>139022788714160</title>\n<polygon fill=\"none\" stroke=\"black\" points=\"0,-56.5 0,-92.5 194,-92.5 194,-56.5 0,-56.5\"/>\n<text text-anchor=\"middle\" x=\"11.5\" y=\"-70.8\" font-family=\"Times,serif\" font-size=\"14.00\">b</text>\n<polyline fill=\"none\" stroke=\"black\" points=\"23,-56.5 23,-92.5 \"/>\n<text text-anchor=\"middle\" x=\"65.5\" y=\"-70.8\" font-family=\"Times,serif\" font-size=\"14.00\">data &#45;3.0000</text>\n<polyline fill=\"none\" stroke=\"black\" points=\"108,-56.5 108,-92.5 \"/>\n<text text-anchor=\"middle\" x=\"151\" y=\"-70.8\" font-family=\"Times,serif\" font-size=\"14.00\">grad &#45;4.0000</text>\n</g>\n<!-- 139022788714208* -->\n<g id=\"node7\" class=\"node\">\n<title>139022788714208*</title>\n<ellipse fill=\"none\" stroke=\"black\" cx=\"257\" cy=\"-46.5\" rx=\"27\" ry=\"18\"/>\n<text text-anchor=\"middle\" x=\"257\" y=\"-42.8\" font-family=\"Times,serif\" font-size=\"14.00\">*</text>\n</g>\n<!-- 139022788714160&#45;&gt;139022788714208* -->\n<g id=\"edge4\" class=\"edge\">\n<title>139022788714160&#45;&gt;139022788714208*</title>\n<path fill=\"none\" stroke=\"black\" d=\"M194.01,-57.49C203.35,-55.83 212.37,-54.23 220.49,-52.79\"/>\n<polygon fill=\"black\" stroke=\"black\" points=\"221.37,-56.19 230.6,-51 220.15,-49.3 221.37,-56.19\"/>\n</g>\n<!-- 139022777433792 -->\n<g id=\"node5\" class=\"node\">\n<title>139022777433792</title>\n<polygon fill=\"none\" stroke=\"black\" points=\"642.5,-0.5 642.5,-36.5 830.5,-36.5 830.5,-0.5 642.5,-0.5\"/>\n<text text-anchor=\"middle\" x=\"653\" y=\"-14.8\" font-family=\"Times,serif\" font-size=\"14.00\">f</text>\n<polyline fill=\"none\" stroke=\"black\" points=\"663.5,-0.5 663.5,-36.5 \"/>\n<text text-anchor=\"middle\" x=\"706\" y=\"-14.8\" font-family=\"Times,serif\" font-size=\"14.00\">data &#45;2.0000</text>\n<polyline fill=\"none\" stroke=\"black\" points=\"748.5,-0.5 748.5,-36.5 \"/>\n<text text-anchor=\"middle\" x=\"789.5\" y=\"-14.8\" font-family=\"Times,serif\" font-size=\"14.00\">grad 4.0000</text>\n</g>\n<!-- 139022777433792&#45;&gt;139022777433312* -->\n<g id=\"edge9\" class=\"edge\">\n<title>139022777433792&#45;&gt;139022777433312*</title>\n<path fill=\"none\" stroke=\"black\" d=\"M830.65,-34.67C840.2,-36.33 849.43,-37.93 857.72,-39.37\"/>\n<polygon fill=\"black\" stroke=\"black\" points=\"857.24,-42.84 867.69,-41.11 858.44,-35.95 857.24,-42.84\"/>\n</g>\n<!-- 139022788714208 -->\n<g id=\"node6\" class=\"node\">\n<title>139022788714208</title>\n<polygon fill=\"none\" stroke=\"black\" points=\"321,-28.5 321,-64.5 515,-64.5 515,-28.5 321,-28.5\"/>\n<text text-anchor=\"middle\" x=\"332.5\" y=\"-42.8\" font-family=\"Times,serif\" font-size=\"14.00\">e</text>\n<polyline fill=\"none\" stroke=\"black\" points=\"344,-28.5 344,-64.5 \"/>\n<text text-anchor=\"middle\" x=\"386.5\" y=\"-42.8\" font-family=\"Times,serif\" font-size=\"14.00\">data &#45;6.0000</text>\n<polyline fill=\"none\" stroke=\"black\" points=\"429,-28.5 429,-64.5 \"/>\n<text text-anchor=\"middle\" x=\"472\" y=\"-42.8\" font-family=\"Times,serif\" font-size=\"14.00\">grad &#45;2.0000</text>\n</g>\n<!-- 139022788714208&#45;&gt;139022788714112+ -->\n<g id=\"edge6\" class=\"edge\">\n<title>139022788714208&#45;&gt;139022788714112+</title>\n<path fill=\"none\" stroke=\"black\" d=\"M515.16,-62.83C524.82,-64.47 534.13,-66.05 542.49,-67.47\"/>\n<polygon fill=\"black\" stroke=\"black\" points=\"542.09,-70.95 552.54,-69.18 543.26,-64.05 542.09,-70.95\"/>\n</g>\n<!-- 139022788714208*&#45;&gt;139022788714208 -->\n<g id=\"edge2\" class=\"edge\">\n<title>139022788714208*&#45;&gt;139022788714208</title>\n<path fill=\"none\" stroke=\"black\" d=\"M284.26,-46.5C292.05,-46.5 301.1,-46.5 310.75,-46.5\"/>\n<polygon fill=\"black\" stroke=\"black\" points=\"310.99,-50 320.99,-46.5 310.99,-43 310.99,-50\"/>\n</g>\n<!-- 139022777433312 -->\n<g id=\"node8\" class=\"node\">\n<title>139022777433312</title>\n<polygon fill=\"none\" stroke=\"black\" points=\"957,-27.5 957,-63.5 1149,-63.5 1149,-27.5 957,-27.5\"/>\n<text text-anchor=\"middle\" x=\"969.5\" y=\"-41.8\" font-family=\"Times,serif\" font-size=\"14.00\">L</text>\n<polyline fill=\"none\" stroke=\"black\" points=\"982,-27.5 982,-63.5 \"/>\n<text text-anchor=\"middle\" x=\"1024.5\" y=\"-41.8\" font-family=\"Times,serif\" font-size=\"14.00\">data &#45;8.0000</text>\n<polyline fill=\"none\" stroke=\"black\" points=\"1067,-27.5 1067,-63.5 \"/>\n<text text-anchor=\"middle\" x=\"1108\" y=\"-41.8\" font-family=\"Times,serif\" font-size=\"14.00\">grad 1.0000</text>\n</g>\n<!-- 139022777433312*&#45;&gt;139022777433312 -->\n<g id=\"edge3\" class=\"edge\">\n<title>139022777433312*&#45;&gt;139022777433312</title>\n<path fill=\"none\" stroke=\"black\" d=\"M921.28,-45.5C928.78,-45.5 937.44,-45.5 946.67,-45.5\"/>\n<polygon fill=\"black\" stroke=\"black\" points=\"946.87,-49 956.87,-45.5 946.87,-42 946.87,-49\"/>\n</g>\n<!-- 139022787879200 -->\n<g id=\"node10\" class=\"node\">\n<title>139022787879200</title>\n<polygon fill=\"none\" stroke=\"black\" points=\"4.5,-1.5 4.5,-37.5 189.5,-37.5 189.5,-1.5 4.5,-1.5\"/>\n<text text-anchor=\"middle\" x=\"16\" y=\"-15.8\" font-family=\"Times,serif\" font-size=\"14.00\">a</text>\n<polyline fill=\"none\" stroke=\"black\" points=\"27.5,-1.5 27.5,-37.5 \"/>\n<text text-anchor=\"middle\" x=\"67.5\" y=\"-15.8\" font-family=\"Times,serif\" font-size=\"14.00\">data 2.0000</text>\n<polyline fill=\"none\" stroke=\"black\" points=\"107.5,-1.5 107.5,-37.5 \"/>\n<text text-anchor=\"middle\" x=\"148.5\" y=\"-15.8\" font-family=\"Times,serif\" font-size=\"14.00\">grad 6.0000</text>\n</g>\n<!-- 139022787879200&#45;&gt;139022788714208* -->\n<g id=\"edge8\" class=\"edge\">\n<title>139022787879200&#45;&gt;139022788714208*</title>\n<path fill=\"none\" stroke=\"black\" d=\"M189.91,-35.21C200.76,-37.06 211.28,-38.86 220.61,-40.45\"/>\n<polygon fill=\"black\" stroke=\"black\" points=\"220.16,-43.93 230.6,-42.16 221.34,-37.03 220.16,-43.93\"/>\n</g>\n</g>\n</svg>\n",
            "text/plain": [
              "<graphviz.graphs.Digraph at 0x7e70c3467650>"
            ]
          },
          "metadata": {},
          "execution_count": 38
        }
      ]
    },
    {
      "cell_type": "markdown",
      "source": [
        "# 📘 Gradient of $L$ with respect to $a$\n",
        "\n",
        "We know:\n",
        "\n",
        "$$\n",
        "L = d \\cdot f, \\quad d = e + c, \\quad e = a \\cdot b\n",
        "$$\n",
        "\n",
        "---\n",
        "\n",
        "### 🔹 Step 1: Gradient flowing into $e$\n",
        "\n",
        "Suppose from previous steps we already computed:\n",
        "\n",
        "$$\n",
        "\\frac{\\partial L}{\\partial e} = -2.0\n",
        "$$\n",
        "\n",
        "---\n",
        "\n",
        "### 🔹 Step 2: Local derivative of $e$ with respect to $a$\n",
        "\n",
        "Since:\n",
        "\n",
        "$$\n",
        "e = a \\cdot b\n",
        "$$  \n",
        "\n",
        "the derivative is:\n",
        "\n",
        "$$\n",
        "\\frac{\\partial e}{\\partial a} = b\n",
        "$$\n",
        "\n",
        "---\n",
        "\n",
        "### 🔹 Step 3: Apply the chain rule\n",
        "\n",
        "Now combine them:\n",
        "\n",
        "$$\n",
        "\\frac{\\partial L}{\\partial a}\n",
        "= \\frac{\\partial L}{\\partial e} \\cdot \\frac{\\partial e}{\\partial a}\n",
        "$$\n",
        "\n",
        "---\n",
        "\n",
        "### 🔹 Step 4: Plug in numbers\n",
        "\n",
        "$$\n",
        "\\frac{\\partial L}{\\partial a} = (-2.0) \\cdot (-3.0)\n",
        "$$  \n",
        "\n",
        "---\n",
        "\n",
        "✅ Therefore:\n",
        "\n",
        "$$\n",
        "a.\\text{grad} = 6.0\n",
        "$$"
      ],
      "metadata": {
        "id": "LHU-JcaDCutQ"
      }
    },
    {
      "cell_type": "code",
      "source": [],
      "metadata": {
        "id": "zOZFhQyBBYgm"
      },
      "execution_count": null,
      "outputs": []
    }
  ]
}