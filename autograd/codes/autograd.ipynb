{
  "nbformat": 4,
  "nbformat_minor": 0,
  "metadata": {
    "colab": {
      "provenance": [],
      "toc_visible": true,
      "authorship_tag": "ABX9TyPugePpEVvbwAQmvgYpIlrG",
      "include_colab_link": true
    },
    "kernelspec": {
      "name": "python3",
      "display_name": "Python 3"
    },
    "language_info": {
      "name": "python"
    }
  },
  "cells": [
    {
      "cell_type": "markdown",
      "metadata": {
        "id": "view-in-github",
        "colab_type": "text"
      },
      "source": [
        "<a href=\"https://colab.research.google.com/github/57baek/gpt-from-scratch/blob/main/autograd/codes/autograd.ipynb\" target=\"_parent\"><img src=\"https://colab.research.google.com/assets/colab-badge.svg\" alt=\"Open In Colab\"/></a>"
      ]
    },
    {
      "cell_type": "code",
      "execution_count": null,
      "metadata": {
        "id": "a-CluhZCtNgx"
      },
      "outputs": [],
      "source": [
        "import math\n",
        "import numpy as np\n",
        "import matplotlib.pyplot as plt\n",
        "%matplotlib inline"
      ]
    },
    {
      "cell_type": "code",
      "source": [
        "def f(x):\n",
        "    return 3*x**2 - 4*x + 5"
      ],
      "metadata": {
        "id": "zgT4Xptdt1Hi"
      },
      "execution_count": null,
      "outputs": []
    },
    {
      "cell_type": "code",
      "source": [
        "f(3.0)"
      ],
      "metadata": {
        "colab": {
          "base_uri": "https://localhost:8080/"
        },
        "id": "TJlnYGmtuM5s",
        "outputId": "ac060cc8-e9de-4569-9eba-0540a3438478"
      },
      "execution_count": null,
      "outputs": [
        {
          "output_type": "execute_result",
          "data": {
            "text/plain": [
              "20.0"
            ]
          },
          "metadata": {},
          "execution_count": 16
        }
      ]
    },
    {
      "cell_type": "code",
      "source": [
        "xs = np.arange(-5,5,0.25)\n",
        "ys = f(xs)\n",
        "plt.plot(xs, ys)"
      ],
      "metadata": {
        "colab": {
          "base_uri": "https://localhost:8080/",
          "height": 447
        },
        "id": "hhHe_wXTvVXS",
        "outputId": "a4b99ae7-ed63-4773-f860-ab5779f1fa15"
      },
      "execution_count": null,
      "outputs": [
        {
          "output_type": "execute_result",
          "data": {
            "text/plain": [
              "[<matplotlib.lines.Line2D at 0x7e9ddec94bc0>]"
            ]
          },
          "metadata": {},
          "execution_count": 20
        },
        {
          "output_type": "display_data",
          "data": {
            "text/plain": [
              "<Figure size 640x480 with 1 Axes>"
            ],
            "image/png": "[encoded data removed]"
          },
          "metadata": {}
        }
      ]
    },
    {
      "cell_type": "code",
      "source": [
        "h = 0.000001\n",
        "x = 2/3\n",
        "\n",
        "print(f(x))\n",
        "print(f(x+h))\n",
        "\n",
        "(f(x+h) - f(x))/h # a simple derivative"
      ],
      "metadata": {
        "colab": {
          "base_uri": "https://localhost:8080/"
        },
        "id": "5jIHULQFvfZn",
        "outputId": "24523734-3275-4c7c-9e12-d3a8d072b2d3"
      },
      "execution_count": null,
      "outputs": [
        {
          "output_type": "stream",
          "name": "stdout",
          "text": [
            "3.666666666666667\n",
            "3.6666666666696663\n"
          ]
        },
        {
          "output_type": "execute_result",
          "data": {
            "text/plain": [
              "2.999378523327323e-06"
            ]
          },
          "metadata": {},
          "execution_count": 26
        }
      ]
    },
    {
      "cell_type": "code",
      "source": [
        "h = 0.0001\n",
        "\n",
        "# inputs\n",
        "a = 2.0\n",
        "b = -3.0\n",
        "c = 10.0\n",
        "\n",
        "d1 = a*b + c\n",
        "c += h\n",
        "d2 = a*b + c\n",
        "\n",
        "print('d1', d1)\n",
        "print('d2', d2)\n",
        "print('slope', (d2 - d1)/h)"
      ],
      "metadata": {
        "colab": {
          "base_uri": "https://localhost:8080/"
        },
        "id": "mtJvnGJ7wNWz",
        "outputId": "d0712107-3b9b-4082-df31-442a40c3a645"
      },
      "execution_count": null,
      "outputs": [
        {
          "output_type": "stream",
          "name": "stdout",
          "text": [
            "d1 4.0\n",
            "d2 4.0001\n",
            "slope 0.9999999999976694\n"
          ]
        }
      ]
    },
    {
      "cell_type": "code",
      "source": [
        "class Value:\n",
        "    def __init__(self, data):\n",
        "        self.data = data\n",
        "\n",
        "    def __repr__(self): # This controls how the object prints.\n",
        "        return f\"Value(data={self.data})\"\n",
        "\n",
        "a = Value(2.0)\n",
        "a # will show <__main__.Value at 0x7e9ddb1142f0> without __repr__\n",
        "b = Value(-3.0)\n",
        "a,b"
      ],
      "metadata": {
        "colab": {
          "base_uri": "https://localhost:8080/"
        },
        "id": "w4OmVZg60W4C",
        "outputId": "8b3ad2ed-9f2e-44a4-fcad-470849b6613c"
      },
      "execution_count": null,
      "outputs": [
        {
          "output_type": "execute_result",
          "data": {
            "text/plain": [
              "(Value(data=2.0), Value(data=-3.0))"
            ]
          },
          "metadata": {},
          "execution_count": 35
        }
      ]
    },
    {
      "cell_type": "code",
      "source": [
        "a + b"
      ],
      "metadata": {
        "colab": {
          "base_uri": "https://localhost:8080/",
          "height": 139
        },
        "id": "ZFw4Y9Oj0tl0",
        "outputId": "11851e16-3d8d-4e84-e5dd-86422f2eaa4f"
      },
      "execution_count": null,
      "outputs": [
        {
          "output_type": "error",
          "ename": "TypeError",
          "evalue": "unsupported operand type(s) for +: 'Value' and 'Value'",
          "traceback": [
            "\u001b[0;31m---------------------------------------------------------------------------\u001b[0m",
            "\u001b[0;31mTypeError\u001b[0m                                 Traceback (most recent call last)",
            "\u001b[0;32m/tmp/ipython-input-1216668022.py\u001b[0m in \u001b[0;36m<cell line: 0>\u001b[0;34m()\u001b[0m\n\u001b[0;32m----> 1\u001b[0;31m \u001b[0ma\u001b[0m \u001b[0;34m+\u001b[0m \u001b[0mb\u001b[0m\u001b[0;34m\u001b[0m\u001b[0;34m\u001b[0m\u001b[0m\n\u001b[0m",
            "\u001b[0;31mTypeError\u001b[0m: unsupported operand type(s) for +: 'Value' and 'Value'"
          ]
        }
      ]
    },
    {
      "cell_type": "code",
      "source": [
        "class Value:\n",
        "    def __init__(self, data):\n",
        "        self.data = data\n",
        "\n",
        "    def __repr__(self):\n",
        "        return f\"Value(data={self.data})\"\n",
        "\n",
        "    def __add__(self, other): # “If someone writes a + b, I will look for a.__add__(b).”\n",
        "        out = Value(self.data + other.data) # Still need to define what would happen after matching\n",
        "        return out\n",
        "a = Value(2.0)\n",
        "b = Value(-3.0)\n",
        "a + b # Python internally translates it to a.__add__(b)"
      ],
      "metadata": {
        "colab": {
          "base_uri": "https://localhost:8080/"
        },
        "id": "qOlR54XH2vy1",
        "outputId": "1f7c1c7c-ff6c-4a82-dca4-ab0dce9af4a3"
      },
      "execution_count": null,
      "outputs": [
        {
          "output_type": "execute_result",
          "data": {
            "text/plain": [
              "Value(data=-1.0)"
            ]
          },
          "metadata": {},
          "execution_count": 1
        }
      ]
    },
    {
      "cell_type": "code",
      "source": [
        "type(a+b)"
      ],
      "metadata": {
        "colab": {
          "base_uri": "https://localhost:8080/",
          "height": 103
        },
        "id": "7KIf5uaE3Haz",
        "outputId": "4f860bcb-1426-47cf-f0c6-ac3b4292c918"
      },
      "execution_count": null,
      "outputs": [
        {
          "output_type": "execute_result",
          "data": {
            "text/plain": [
              "__main__.Value"
            ],
            "text/html": [
              "<div style=\"max-width:800px; border: 1px solid var(--colab-border-color);\"><style>\n",
              "      pre.function-repr-contents {\n",
              "        overflow-x: auto;\n",
              "        padding: 8px 12px;\n",
              "        max-height: 500px;\n",
              "      }\n",
              "\n",
              "      pre.function-repr-contents.function-repr-contents-collapsed {\n",
              "        cursor: pointer;\n",
              "        max-height: 100px;\n",
              "      }\n",
              "    </style>\n",
              "    <pre style=\"white-space: initial; background:\n",
              "         var(--colab-secondary-surface-color); padding: 8px 12px;\n",
              "         border-bottom: 1px solid var(--colab-border-color);\"><b>Value</b><br/>def __init__(data)</pre><pre class=\"function-repr-contents function-repr-contents-collapsed\" style=\"\"><a class=\"filepath\" style=\"display:none\" href=\"#\"></a>&lt;no docstring&gt;</pre></div>"
            ]
          },
          "metadata": {},
          "execution_count": 2
        }
      ]
    },
    {
      "cell_type": "code",
      "source": [
        "class Value:\n",
        "    def __init__(self, data):\n",
        "        self.data = data\n",
        "\n",
        "    def __repr__(self):\n",
        "        return f\"Value(data={self.data})\"\n",
        "\n",
        "    def __add__(self, other):\n",
        "        out = Value(self.data + other.data)\n",
        "        return out\n",
        "\n",
        "    def __mul__(self, other):\n",
        "        out = self.data * other.data\n",
        "        return out\n",
        "\n",
        "a = Value(2.0)\n",
        "b = Value(-3.0)\n",
        "a * b # Python internally translates it to a.__mul__(b)"
      ],
      "metadata": {
        "colab": {
          "base_uri": "https://localhost:8080/"
        },
        "id": "G_R3SQPP-q_I",
        "outputId": "bdf65dc2-eb60-4c4e-b305-2d632b3fef56"
      },
      "execution_count": null,
      "outputs": [
        {
          "output_type": "execute_result",
          "data": {
            "text/plain": [
              "-6.0"
            ]
          },
          "metadata": {},
          "execution_count": 4
        }
      ]
    },
    {
      "cell_type": "code",
      "source": [
        "class Value:\n",
        "    def __init__(self, data, _children=()): # default value of an empty tuple\n",
        "        self.data = data\n",
        "        self._prev = set(_children) # the set of parent nodes that produced this node\n",
        "\n",
        "    def __repr__(self):\n",
        "        return f\"Value(data={self.data})\"\n",
        "\n",
        "    def __add__(self, other):\n",
        "        out = Value(self.data + other.data, (self, other))\n",
        "        return out\n",
        "\n",
        "    def __mul__(self, other):\n",
        "        out = Value(self.data * other.data, (self, other))\n",
        "        return out\n",
        "\n",
        "a = Value(2.0)\n",
        "b = Value(-3.0)\n",
        "c = a * b\n",
        "d = a * b + c\n",
        "\n",
        "d._prev"
      ],
      "metadata": {
        "colab": {
          "base_uri": "https://localhost:8080/"
        },
        "id": "KxBSmXjq-2n6",
        "outputId": "66594315-c310-4b0c-9fbf-65068d52501d"
      },
      "execution_count": null,
      "outputs": [
        {
          "output_type": "execute_result",
          "data": {
            "text/plain": [
              "{Value(data=-6.0), Value(data=-6.0)}"
            ]
          },
          "metadata": {},
          "execution_count": 13
        }
      ]
    },
    {
      "cell_type": "code",
      "source": [
        "class Value:\n",
        "    def __init__(self, data, _children=(), _op = ''): # default empty string\n",
        "        self.data = data\n",
        "        self._prev = set(_children)\n",
        "        self._op = _op\n",
        "\n",
        "    def __repr__(self):\n",
        "        return f\"Value(data={self.data})\"\n",
        "\n",
        "    def __add__(self, other):\n",
        "        out = Value(self.data + other.data, (self, other), '+')\n",
        "        return out\n",
        "\n",
        "    def __mul__(self, other):\n",
        "        out = Value(self.data * other.data, (self, other), '*')\n",
        "        return out\n",
        "\n",
        "\n",
        "a = Value(2.0)\n",
        "b = Value(-3.0)\n",
        "c = Value(10.0)\n",
        "d = a * b + c\n",
        "\n",
        "d._op"
      ],
      "metadata": {
        "colab": {
          "base_uri": "https://localhost:8080/",
          "height": 35
        },
        "id": "H0ouF-eSBEsg",
        "outputId": "379d6355-e5b1-47ce-d114-cc9927932759"
      },
      "execution_count": null,
      "outputs": [
        {
          "output_type": "execute_result",
          "data": {
            "text/plain": [
              "'+'"
            ],
            "application/vnd.google.colaboratory.intrinsic+json": {
              "type": "string"
            }
          },
          "metadata": {},
          "execution_count": 3
        }
      ]
    },
    {
      "cell_type": "code",
      "source": [
        "from graphviz import Digraph\n",
        "\n",
        "def trace(root):\n",
        "  # builds a set of all nodes and edges in a graph\n",
        "  nodes, edges = set(), set()\n",
        "  def build(v):\n",
        "    if v not in nodes:\n",
        "      nodes.add(v)\n",
        "      for child in v._prev:\n",
        "        edges.add((child, v))\n",
        "        build(child)\n",
        "  build(root)\n",
        "  return nodes, edges\n",
        "\n",
        "def draw_dot(root):\n",
        "  dot = Digraph(format='svg', graph_attr={'rankdir': 'LR'}) # LR = left to right\n",
        "\n",
        "  nodes, edges = trace(root)\n",
        "  for n in nodes:\n",
        "    uid = str(id(n))\n",
        "    # for any value in the graph, create a rectangular ('record') node for it\n",
        "    dot.node(name = uid, label = \"{ data %.4f }\" % (n.data, ), shape='record')\n",
        "    if n._op:\n",
        "      # if this value is a result of some operation, create an op node for it\n",
        "      dot.node(name = uid + n._op, label = n._op)\n",
        "      # and connect this node to it\n",
        "      dot.edge(uid + n._op, uid)\n",
        "\n",
        "  for n1, n2 in edges:\n",
        "    # connect n1 to the op node of n2\n",
        "    dot.edge(str(id(n1)), str(id(n2)) + n2._op)\n",
        "\n",
        "  return dot\n",
        "\n",
        "\n",
        "draw_dot(d)"
      ],
      "metadata": {
        "colab": {
          "base_uri": "https://localhost:8080/",
          "height": 190
        },
        "id": "z4D2pNvNCPeJ",
        "outputId": "94f5566b-6412-4067-e322-ba562f44f451"
      },
      "execution_count": null,
      "outputs": [
        {
          "output_type": "execute_result",
          "data": {
            "image/svg+xml": "<?xml version=\"1.0\" encoding=\"UTF-8\" standalone=\"no\"?>\n<!DOCTYPE svg PUBLIC \"-//W3C//DTD SVG 1.1//EN\"\n \"http://www.w3.org/Graphics/SVG/1.1/DTD/svg11.dtd\">\n<!-- Generated by graphviz version 2.43.0 (0)\n -->\n<!-- Title: %3 Pages: 1 -->\n<svg width=\"512pt\" height=\"127pt\"\n viewBox=\"0.00 0.00 512.00 127.00\" xmlns=\"http://www.w3.org/2000/svg\" xmlns:xlink=\"http://www.w3.org/1999/xlink\">\n<g id=\"graph0\" class=\"graph\" transform=\"scale(1 1) rotate(0) translate(4 123)\">\n<title>%3</title>\n<polygon fill=\"white\" stroke=\"transparent\" points=\"-4,4 -4,-123 508,-123 508,4 -4,4\"/>\n<!-- 132919705205360 -->\n<g id=\"node1\" class=\"node\">\n<title>132919705205360</title>\n<polygon fill=\"none\" stroke=\"black\" points=\"211,-82.5 211,-118.5 298,-118.5 298,-82.5 211,-82.5\"/>\n<text text-anchor=\"middle\" x=\"254.5\" y=\"-96.8\" font-family=\"Times,serif\" font-size=\"14.00\">data 10.0000</text>\n</g>\n<!-- 132919705205552+ -->\n<g id=\"node7\" class=\"node\">\n<title>132919705205552+</title>\n<ellipse fill=\"none\" stroke=\"black\" cx=\"361\" cy=\"-72.5\" rx=\"27\" ry=\"18\"/>\n<text text-anchor=\"middle\" x=\"361\" y=\"-68.8\" font-family=\"Times,serif\" font-size=\"14.00\">+</text>\n</g>\n<!-- 132919705205360&#45;&gt;132919705205552+ -->\n<g id=\"edge6\" class=\"edge\">\n<title>132919705205360&#45;&gt;132919705205552+</title>\n<path fill=\"none\" stroke=\"black\" d=\"M298,-89.11C307.18,-86.65 316.78,-84.08 325.6,-81.72\"/>\n<polygon fill=\"black\" stroke=\"black\" points=\"326.78,-85.02 335.53,-79.06 324.97,-78.26 326.78,-85.02\"/>\n</g>\n<!-- 132919705205408 -->\n<g id=\"node2\" class=\"node\">\n<title>132919705205408</title>\n<polygon fill=\"none\" stroke=\"black\" points=\"212,-27.5 212,-63.5 297,-63.5 297,-27.5 212,-27.5\"/>\n<text text-anchor=\"middle\" x=\"254.5\" y=\"-41.8\" font-family=\"Times,serif\" font-size=\"14.00\">data &#45;6.0000</text>\n</g>\n<!-- 132919705205408&#45;&gt;132919705205552+ -->\n<g id=\"edge3\" class=\"edge\">\n<title>132919705205408&#45;&gt;132919705205552+</title>\n<path fill=\"none\" stroke=\"black\" d=\"M297.1,-56.25C306.61,-58.71 316.62,-61.29 325.78,-63.66\"/>\n<polygon fill=\"black\" stroke=\"black\" points=\"325.13,-67.11 335.69,-66.22 326.88,-60.33 325.13,-67.11\"/>\n</g>\n<!-- 132919705205408* -->\n<g id=\"node3\" class=\"node\">\n<title>132919705205408*</title>\n<ellipse fill=\"none\" stroke=\"black\" cx=\"148\" cy=\"-45.5\" rx=\"27\" ry=\"18\"/>\n<text text-anchor=\"middle\" x=\"148\" y=\"-41.8\" font-family=\"Times,serif\" font-size=\"14.00\">*</text>\n</g>\n<!-- 132919705205408*&#45;&gt;132919705205408 -->\n<g id=\"edge1\" class=\"edge\">\n<title>132919705205408*&#45;&gt;132919705205408</title>\n<path fill=\"none\" stroke=\"black\" d=\"M175.1,-45.5C183.27,-45.5 192.59,-45.5 201.88,-45.5\"/>\n<polygon fill=\"black\" stroke=\"black\" points=\"201.89,-49 211.89,-45.5 201.89,-42 201.89,-49\"/>\n</g>\n<!-- 132919705203392 -->\n<g id=\"node4\" class=\"node\">\n<title>132919705203392</title>\n<polygon fill=\"none\" stroke=\"black\" points=\"2.5,-55.5 2.5,-91.5 82.5,-91.5 82.5,-55.5 2.5,-55.5\"/>\n<text text-anchor=\"middle\" x=\"42.5\" y=\"-69.8\" font-family=\"Times,serif\" font-size=\"14.00\">data 2.0000</text>\n</g>\n<!-- 132919705203392&#45;&gt;132919705205408* -->\n<g id=\"edge4\" class=\"edge\">\n<title>132919705203392&#45;&gt;132919705205408*</title>\n<path fill=\"none\" stroke=\"black\" d=\"M82.63,-62.91C92.66,-60.2 103.36,-57.31 113.09,-54.67\"/>\n<polygon fill=\"black\" stroke=\"black\" points=\"114.09,-58.03 122.83,-52.04 112.26,-51.27 114.09,-58.03\"/>\n</g>\n<!-- 132919705205456 -->\n<g id=\"node5\" class=\"node\">\n<title>132919705205456</title>\n<polygon fill=\"none\" stroke=\"black\" points=\"0,-0.5 0,-36.5 85,-36.5 85,-0.5 0,-0.5\"/>\n<text text-anchor=\"middle\" x=\"42.5\" y=\"-14.8\" font-family=\"Times,serif\" font-size=\"14.00\">data &#45;3.0000</text>\n</g>\n<!-- 132919705205456&#45;&gt;132919705205408* -->\n<g id=\"edge5\" class=\"edge\">\n<title>132919705205456&#45;&gt;132919705205408*</title>\n<path fill=\"none\" stroke=\"black\" d=\"M85,-29.33C94.14,-31.71 103.72,-34.21 112.54,-36.51\"/>\n<polygon fill=\"black\" stroke=\"black\" points=\"111.91,-39.96 122.47,-39.1 113.68,-33.19 111.91,-39.96\"/>\n</g>\n<!-- 132919705205552 -->\n<g id=\"node6\" class=\"node\">\n<title>132919705205552</title>\n<polygon fill=\"none\" stroke=\"black\" points=\"424,-54.5 424,-90.5 504,-90.5 504,-54.5 424,-54.5\"/>\n<text text-anchor=\"middle\" x=\"464\" y=\"-68.8\" font-family=\"Times,serif\" font-size=\"14.00\">data 4.0000</text>\n</g>\n<!-- 132919705205552+&#45;&gt;132919705205552 -->\n<g id=\"edge2\" class=\"edge\">\n<title>132919705205552+&#45;&gt;132919705205552</title>\n<path fill=\"none\" stroke=\"black\" d=\"M388.01,-72.5C395.82,-72.5 404.67,-72.5 413.48,-72.5\"/>\n<polygon fill=\"black\" stroke=\"black\" points=\"413.73,-76 423.73,-72.5 413.73,-69 413.73,-76\"/>\n</g>\n</g>\n</svg>\n",
            "text/plain": [
              "<graphviz.graphs.Digraph at 0x78e3dca021e0>"
            ]
          },
          "metadata": {},
          "execution_count": 4
        }
      ]
    },
    {
      "cell_type": "code",
      "source": [
        "class Value:\n",
        "    def __init__(self, data, _children=(), _op = '', label=''):\n",
        "        self.data = data\n",
        "        self._prev = set(_children)\n",
        "        self._op = _op\n",
        "        self.label = label\n",
        "\n",
        "    def __repr__(self):\n",
        "        return f\"Value(data={self.data})\"\n",
        "\n",
        "    def __add__(self, other):\n",
        "        out = Value(self.data + other.data, (self, other), '+')\n",
        "        return out\n",
        "\n",
        "    def __mul__(self, other):\n",
        "        out = Value(self.data * other.data, (self, other), '*')\n",
        "        return out\n",
        "\n",
        "\n",
        "a = Value(2.0, label='a')\n",
        "b = Value(-3.0, label='b')\n",
        "c = Value(10.0, label='c')\n",
        "e = a * b; e.label='e'\n",
        "d = e + c; d.label='d'"
      ],
      "metadata": {
        "id": "JKTTL0kkCgXm"
      },
      "execution_count": null,
      "outputs": []
    },
    {
      "cell_type": "code",
      "source": [
        "from graphviz import Digraph\n",
        "\n",
        "def trace(root):\n",
        "  # builds a set of all nodes and edges in a graph\n",
        "  nodes, edges = set(), set()\n",
        "  def build(v):\n",
        "    if v not in nodes:\n",
        "      nodes.add(v)\n",
        "      for child in v._prev:\n",
        "        edges.add((child, v))\n",
        "        build(child)\n",
        "  build(root)\n",
        "  return nodes, edges\n",
        "\n",
        "def draw_dot(root):\n",
        "  dot = Digraph(format='svg', graph_attr={'rankdir': 'LR'}) # LR = left to right\n",
        "\n",
        "  nodes, edges = trace(root)\n",
        "  for n in nodes:\n",
        "    uid = str(id(n))\n",
        "    # for any value in the graph, create a rectangular ('record') node for it\n",
        "    dot.node(name = uid, label = \"{ %s | data %.4f }\" % (n.label, n.data), shape='record')\n",
        "    if n._op:\n",
        "      # if this value is a result of some operation, create an op node for it\n",
        "      dot.node(name = uid + n._op, label = n._op)\n",
        "      # and connect this node to it\n",
        "      dot.edge(uid + n._op, uid)\n",
        "\n",
        "  for n1, n2 in edges:\n",
        "    # connect n1 to the op node of n2\n",
        "    dot.edge(str(id(n1)), str(id(n2)) + n2._op)\n",
        "\n",
        "  return dot\n",
        "\n",
        "\n",
        "draw_dot(d)"
      ],
      "metadata": {
        "colab": {
          "base_uri": "https://localhost:8080/",
          "height": 192
        },
        "id": "jm9KrSjsET7_",
        "outputId": "c6dd5035-7cb1-40a3-ebe8-0e9aaadbd9d8"
      },
      "execution_count": null,
      "outputs": [
        {
          "output_type": "execute_result",
          "data": {
            "image/svg+xml": "<?xml version=\"1.0\" encoding=\"UTF-8\" standalone=\"no\"?>\n<!DOCTYPE svg PUBLIC \"-//W3C//DTD SVG 1.1//EN\"\n \"http://www.w3.org/Graphics/SVG/1.1/DTD/svg11.dtd\">\n<!-- Generated by graphviz version 2.43.0 (0)\n -->\n<!-- Title: %3 Pages: 1 -->\n<svg width=\"581pt\" height=\"128pt\"\n viewBox=\"0.00 0.00 581.00 128.00\" xmlns=\"http://www.w3.org/2000/svg\" xmlns:xlink=\"http://www.w3.org/1999/xlink\">\n<g id=\"graph0\" class=\"graph\" transform=\"scale(1 1) rotate(0) translate(4 124)\">\n<title>%3</title>\n<polygon fill=\"white\" stroke=\"transparent\" points=\"-4,4 -4,-124 577,-124 577,4 -4,4\"/>\n<!-- 132090111410000 -->\n<g id=\"node1\" class=\"node\">\n<title>132090111410000</title>\n<polygon fill=\"none\" stroke=\"black\" points=\"2.5,-83.5 2.5,-119.5 105.5,-119.5 105.5,-83.5 2.5,-83.5\"/>\n<text text-anchor=\"middle\" x=\"14\" y=\"-97.8\" font-family=\"Times,serif\" font-size=\"14.00\">a</text>\n<polyline fill=\"none\" stroke=\"black\" points=\"25.5,-83.5 25.5,-119.5 \"/>\n<text text-anchor=\"middle\" x=\"65.5\" y=\"-97.8\" font-family=\"Times,serif\" font-size=\"14.00\">data 2.0000</text>\n</g>\n<!-- 132090111404384* -->\n<g id=\"node3\" class=\"node\">\n<title>132090111404384*</title>\n<ellipse fill=\"none\" stroke=\"black\" cx=\"171\" cy=\"-73.5\" rx=\"27\" ry=\"18\"/>\n<text text-anchor=\"middle\" x=\"171\" y=\"-69.8\" font-family=\"Times,serif\" font-size=\"14.00\">*</text>\n</g>\n<!-- 132090111410000&#45;&gt;132090111404384* -->\n<g id=\"edge3\" class=\"edge\">\n<title>132090111410000&#45;&gt;132090111404384*</title>\n<path fill=\"none\" stroke=\"black\" d=\"M105.78,-89.14C115.85,-86.68 126.2,-84.16 135.58,-81.88\"/>\n<polygon fill=\"black\" stroke=\"black\" points=\"136.41,-85.28 145.3,-79.51 134.76,-78.48 136.41,-85.28\"/>\n</g>\n<!-- 132090111404384 -->\n<g id=\"node2\" class=\"node\">\n<title>132090111404384</title>\n<polygon fill=\"none\" stroke=\"black\" points=\"235,-55.5 235,-91.5 343,-91.5 343,-55.5 235,-55.5\"/>\n<text text-anchor=\"middle\" x=\"246.5\" y=\"-69.8\" font-family=\"Times,serif\" font-size=\"14.00\">e</text>\n<polyline fill=\"none\" stroke=\"black\" points=\"258,-55.5 258,-91.5 \"/>\n<text text-anchor=\"middle\" x=\"300.5\" y=\"-69.8\" font-family=\"Times,serif\" font-size=\"14.00\">data &#45;6.0000</text>\n</g>\n<!-- 132090111397808+ -->\n<g id=\"node6\" class=\"node\">\n<title>132090111397808+</title>\n<ellipse fill=\"none\" stroke=\"black\" cx=\"407\" cy=\"-45.5\" rx=\"27\" ry=\"18\"/>\n<text text-anchor=\"middle\" x=\"407\" y=\"-41.8\" font-family=\"Times,serif\" font-size=\"14.00\">+</text>\n</g>\n<!-- 132090111404384&#45;&gt;132090111397808+ -->\n<g id=\"edge4\" class=\"edge\">\n<title>132090111404384&#45;&gt;132090111397808+</title>\n<path fill=\"none\" stroke=\"black\" d=\"M343.25,-60.65C352.84,-58.33 362.6,-55.98 371.48,-53.83\"/>\n<polygon fill=\"black\" stroke=\"black\" points=\"372.54,-57.18 381.43,-51.43 370.89,-50.37 372.54,-57.18\"/>\n</g>\n<!-- 132090111404384*&#45;&gt;132090111404384 -->\n<g id=\"edge1\" class=\"edge\">\n<title>132090111404384*&#45;&gt;132090111404384</title>\n<path fill=\"none\" stroke=\"black\" d=\"M198.03,-73.5C206.08,-73.5 215.32,-73.5 224.74,-73.5\"/>\n<polygon fill=\"black\" stroke=\"black\" points=\"224.99,-77 234.99,-73.5 224.99,-70 224.99,-77\"/>\n</g>\n<!-- 132090111405392 -->\n<g id=\"node4\" class=\"node\">\n<title>132090111405392</title>\n<polygon fill=\"none\" stroke=\"black\" points=\"0,-28.5 0,-64.5 108,-64.5 108,-28.5 0,-28.5\"/>\n<text text-anchor=\"middle\" x=\"11.5\" y=\"-42.8\" font-family=\"Times,serif\" font-size=\"14.00\">b</text>\n<polyline fill=\"none\" stroke=\"black\" points=\"23,-28.5 23,-64.5 \"/>\n<text text-anchor=\"middle\" x=\"65.5\" y=\"-42.8\" font-family=\"Times,serif\" font-size=\"14.00\">data &#45;3.0000</text>\n</g>\n<!-- 132090111405392&#45;&gt;132090111404384* -->\n<g id=\"edge6\" class=\"edge\">\n<title>132090111405392&#45;&gt;132090111404384*</title>\n<path fill=\"none\" stroke=\"black\" d=\"M108.12,-58.97C117.33,-61.13 126.68,-63.33 135.24,-65.34\"/>\n<polygon fill=\"black\" stroke=\"black\" points=\"134.68,-68.8 145.21,-67.68 136.28,-61.99 134.68,-68.8\"/>\n</g>\n<!-- 132090111397808 -->\n<g id=\"node5\" class=\"node\">\n<title>132090111397808</title>\n<polygon fill=\"none\" stroke=\"black\" points=\"470,-27.5 470,-63.5 573,-63.5 573,-27.5 470,-27.5\"/>\n<text text-anchor=\"middle\" x=\"481.5\" y=\"-41.8\" font-family=\"Times,serif\" font-size=\"14.00\">d</text>\n<polyline fill=\"none\" stroke=\"black\" points=\"493,-27.5 493,-63.5 \"/>\n<text text-anchor=\"middle\" x=\"533\" y=\"-41.8\" font-family=\"Times,serif\" font-size=\"14.00\">data 4.0000</text>\n</g>\n<!-- 132090111397808+&#45;&gt;132090111397808 -->\n<g id=\"edge2\" class=\"edge\">\n<title>132090111397808+&#45;&gt;132090111397808</title>\n<path fill=\"none\" stroke=\"black\" d=\"M434.09,-45.5C441.83,-45.5 450.64,-45.5 459.61,-45.5\"/>\n<polygon fill=\"black\" stroke=\"black\" points=\"459.76,-49 469.76,-45.5 459.76,-42 459.76,-49\"/>\n</g>\n<!-- 132090111408608 -->\n<g id=\"node7\" class=\"node\">\n<title>132090111408608</title>\n<polygon fill=\"none\" stroke=\"black\" points=\"234,-0.5 234,-36.5 344,-36.5 344,-0.5 234,-0.5\"/>\n<text text-anchor=\"middle\" x=\"245.5\" y=\"-14.8\" font-family=\"Times,serif\" font-size=\"14.00\">c</text>\n<polyline fill=\"none\" stroke=\"black\" points=\"257,-0.5 257,-36.5 \"/>\n<text text-anchor=\"middle\" x=\"300.5\" y=\"-14.8\" font-family=\"Times,serif\" font-size=\"14.00\">data 10.0000</text>\n</g>\n<!-- 132090111408608&#45;&gt;132090111397808+ -->\n<g id=\"edge5\" class=\"edge\">\n<title>132090111408608&#45;&gt;132090111397808+</title>\n<path fill=\"none\" stroke=\"black\" d=\"M344.26,-31.13C353.49,-33.28 362.84,-35.45 371.37,-37.44\"/>\n<polygon fill=\"black\" stroke=\"black\" points=\"370.79,-40.9 381.32,-39.76 372.38,-34.08 370.79,-40.9\"/>\n</g>\n</g>\n</svg>\n",
            "text/plain": [
              "<graphviz.graphs.Digraph at 0x7822a02b1a60>"
            ]
          },
          "metadata": {},
          "execution_count": 13
        }
      ]
    },
    {
      "cell_type": "code",
      "source": [
        "class Value:\n",
        "    def __init__(self, data, _children=(), _op = '', label=''):\n",
        "        self.data = data\n",
        "        self._prev = set(_children)\n",
        "        self._op = _op\n",
        "        self.label = label\n",
        "\n",
        "    def __repr__(self):\n",
        "        return f\"Value(data={self.data})\"\n",
        "\n",
        "    def __add__(self, other):\n",
        "        out = Value(self.data + other.data, (self, other), '+')\n",
        "        return out\n",
        "\n",
        "    def __mul__(self, other):\n",
        "        out = Value(self.data * other.data, (self, other), '*')\n",
        "        return out\n",
        "\n",
        "\n",
        "a = Value(2.0, label='a')\n",
        "b = Value(-3.0, label='b')\n",
        "c = Value(10.0, label='c')\n",
        "e = a * b; e.label='e'\n",
        "d = e + c; d.label='d'\n",
        "f = Value(-2.0, label='f')\n",
        "L = d * f; L.label='L'"
      ],
      "metadata": {
        "id": "X-d-8pD0Ee_z"
      },
      "execution_count": null,
      "outputs": []
    },
    {
      "cell_type": "code",
      "source": [
        "from graphviz import Digraph\n",
        "\n",
        "def trace(root):\n",
        "  # builds a set of all nodes and edges in a graph\n",
        "  nodes, edges = set(), set()\n",
        "  def build(v):\n",
        "    if v not in nodes:\n",
        "      nodes.add(v)\n",
        "      for child in v._prev:\n",
        "        edges.add((child, v))\n",
        "        build(child)\n",
        "  build(root)\n",
        "  return nodes, edges\n",
        "\n",
        "def draw_dot(root):\n",
        "  dot = Digraph(format='svg', graph_attr={'rankdir': 'LR'}) # LR = left to right\n",
        "\n",
        "  nodes, edges = trace(root)\n",
        "  for n in nodes:\n",
        "    uid = str(id(n))\n",
        "    # for any value in the graph, create a rectangular ('record') node for it\n",
        "    dot.node(name = uid, label = \"{ %s | data %.4f }\" % (n.label, n.data), shape='record')\n",
        "    if n._op:\n",
        "      # if this value is a result of some operation, create an op node for it\n",
        "      dot.node(name = uid + n._op, label = n._op)\n",
        "      # and connect this node to it\n",
        "      dot.edge(uid + n._op, uid)\n",
        "\n",
        "  for n1, n2 in edges:\n",
        "    # connect n1 to the op node of n2\n",
        "    dot.edge(str(id(n1)), str(id(n2)) + n2._op)\n",
        "\n",
        "  return dot\n",
        "\n",
        "\n",
        "draw_dot(L)"
      ],
      "metadata": {
        "colab": {
          "base_uri": "https://localhost:8080/",
          "height": 229
        },
        "id": "yeUn3C6EExR-",
        "outputId": "7bf9bc2f-6846-43be-a407-c227d199c875"
      },
      "execution_count": null,
      "outputs": [
        {
          "output_type": "execute_result",
          "data": {
            "image/svg+xml": "<?xml version=\"1.0\" encoding=\"UTF-8\" standalone=\"no\"?>\n<!DOCTYPE svg PUBLIC \"-//W3C//DTD SVG 1.1//EN\"\n \"http://www.w3.org/Graphics/SVG/1.1/DTD/svg11.dtd\">\n<!-- Generated by graphviz version 2.43.0 (0)\n -->\n<!-- Title: %3 Pages: 1 -->\n<svg width=\"820pt\" height=\"156pt\"\n viewBox=\"0.00 0.00 820.00 156.00\" xmlns=\"http://www.w3.org/2000/svg\" xmlns:xlink=\"http://www.w3.org/1999/xlink\">\n<g id=\"graph0\" class=\"graph\" transform=\"scale(1 1) rotate(0) translate(4 152)\">\n<title>%3</title>\n<polygon fill=\"white\" stroke=\"transparent\" points=\"-4,4 -4,-152 816,-152 816,4 -4,4\"/>\n<!-- 132090112825376 -->\n<g id=\"node1\" class=\"node\">\n<title>132090112825376</title>\n<polygon fill=\"none\" stroke=\"black\" points=\"2.5,-111.5 2.5,-147.5 105.5,-147.5 105.5,-111.5 2.5,-111.5\"/>\n<text text-anchor=\"middle\" x=\"14\" y=\"-125.8\" font-family=\"Times,serif\" font-size=\"14.00\">a</text>\n<polyline fill=\"none\" stroke=\"black\" points=\"25.5,-111.5 25.5,-147.5 \"/>\n<text text-anchor=\"middle\" x=\"65.5\" y=\"-125.8\" font-family=\"Times,serif\" font-size=\"14.00\">data 2.0000</text>\n</g>\n<!-- 132090112548720* -->\n<g id=\"node7\" class=\"node\">\n<title>132090112548720*</title>\n<ellipse fill=\"none\" stroke=\"black\" cx=\"171\" cy=\"-101.5\" rx=\"27\" ry=\"18\"/>\n<text text-anchor=\"middle\" x=\"171\" y=\"-97.8\" font-family=\"Times,serif\" font-size=\"14.00\">*</text>\n</g>\n<!-- 132090112825376&#45;&gt;132090112548720* -->\n<g id=\"edge8\" class=\"edge\">\n<title>132090112825376&#45;&gt;132090112548720*</title>\n<path fill=\"none\" stroke=\"black\" d=\"M105.78,-117.14C115.85,-114.68 126.2,-112.16 135.58,-109.88\"/>\n<polygon fill=\"black\" stroke=\"black\" points=\"136.41,-113.28 145.3,-107.51 134.76,-106.48 136.41,-113.28\"/>\n</g>\n<!-- 132090112833680 -->\n<g id=\"node2\" class=\"node\">\n<title>132090112833680</title>\n<polygon fill=\"none\" stroke=\"black\" points=\"0,-56.5 0,-92.5 108,-92.5 108,-56.5 0,-56.5\"/>\n<text text-anchor=\"middle\" x=\"11.5\" y=\"-70.8\" font-family=\"Times,serif\" font-size=\"14.00\">b</text>\n<polyline fill=\"none\" stroke=\"black\" points=\"23,-56.5 23,-92.5 \"/>\n<text text-anchor=\"middle\" x=\"65.5\" y=\"-70.8\" font-family=\"Times,serif\" font-size=\"14.00\">data &#45;3.0000</text>\n</g>\n<!-- 132090112833680&#45;&gt;132090112548720* -->\n<g id=\"edge9\" class=\"edge\">\n<title>132090112833680&#45;&gt;132090112548720*</title>\n<path fill=\"none\" stroke=\"black\" d=\"M108.12,-86.97C117.33,-89.13 126.68,-91.33 135.24,-93.34\"/>\n<polygon fill=\"black\" stroke=\"black\" points=\"134.68,-96.8 145.21,-95.68 136.28,-89.99 134.68,-96.8\"/>\n</g>\n<!-- 132090112556304 -->\n<g id=\"node3\" class=\"node\">\n<title>132090112556304</title>\n<polygon fill=\"none\" stroke=\"black\" points=\"471.5,-55.5 471.5,-91.5 574.5,-91.5 574.5,-55.5 471.5,-55.5\"/>\n<text text-anchor=\"middle\" x=\"483\" y=\"-69.8\" font-family=\"Times,serif\" font-size=\"14.00\">d</text>\n<polyline fill=\"none\" stroke=\"black\" points=\"494.5,-55.5 494.5,-91.5 \"/>\n<text text-anchor=\"middle\" x=\"534.5\" y=\"-69.8\" font-family=\"Times,serif\" font-size=\"14.00\">data 4.0000</text>\n</g>\n<!-- 132090112556448* -->\n<g id=\"node10\" class=\"node\">\n<title>132090112556448*</title>\n<ellipse fill=\"none\" stroke=\"black\" cx=\"639\" cy=\"-45.5\" rx=\"27\" ry=\"18\"/>\n<text text-anchor=\"middle\" x=\"639\" y=\"-41.8\" font-family=\"Times,serif\" font-size=\"14.00\">*</text>\n</g>\n<!-- 132090112556304&#45;&gt;132090112556448* -->\n<g id=\"edge7\" class=\"edge\">\n<title>132090112556304&#45;&gt;132090112556448*</title>\n<path fill=\"none\" stroke=\"black\" d=\"M574.67,-61.06C584.43,-58.66 594.45,-56.2 603.55,-53.96\"/>\n<polygon fill=\"black\" stroke=\"black\" points=\"604.5,-57.33 613.37,-51.55 602.83,-50.54 604.5,-57.33\"/>\n</g>\n<!-- 132090112556304+ -->\n<g id=\"node4\" class=\"node\">\n<title>132090112556304+</title>\n<ellipse fill=\"none\" stroke=\"black\" cx=\"407\" cy=\"-73.5\" rx=\"27\" ry=\"18\"/>\n<text text-anchor=\"middle\" x=\"407\" y=\"-69.8\" font-family=\"Times,serif\" font-size=\"14.00\">+</text>\n</g>\n<!-- 132090112556304+&#45;&gt;132090112556304 -->\n<g id=\"edge1\" class=\"edge\">\n<title>132090112556304+&#45;&gt;132090112556304</title>\n<path fill=\"none\" stroke=\"black\" d=\"M434.15,-73.5C442.26,-73.5 451.57,-73.5 461.02,-73.5\"/>\n<polygon fill=\"black\" stroke=\"black\" points=\"461.28,-77 471.28,-73.5 461.28,-70 461.28,-77\"/>\n</g>\n<!-- 132090112551696 -->\n<g id=\"node5\" class=\"node\">\n<title>132090112551696</title>\n<polygon fill=\"none\" stroke=\"black\" points=\"470,-0.5 470,-36.5 576,-36.5 576,-0.5 470,-0.5\"/>\n<text text-anchor=\"middle\" x=\"480.5\" y=\"-14.8\" font-family=\"Times,serif\" font-size=\"14.00\">f</text>\n<polyline fill=\"none\" stroke=\"black\" points=\"491,-0.5 491,-36.5 \"/>\n<text text-anchor=\"middle\" x=\"533.5\" y=\"-14.8\" font-family=\"Times,serif\" font-size=\"14.00\">data &#45;2.0000</text>\n</g>\n<!-- 132090112551696&#45;&gt;132090112556448* -->\n<g id=\"edge5\" class=\"edge\">\n<title>132090112551696&#45;&gt;132090112556448*</title>\n<path fill=\"none\" stroke=\"black\" d=\"M576.33,-30.89C585.48,-33.06 594.8,-35.27 603.33,-37.29\"/>\n<polygon fill=\"black\" stroke=\"black\" points=\"602.73,-40.74 613.27,-39.64 604.34,-33.93 602.73,-40.74\"/>\n</g>\n<!-- 132090112548720 -->\n<g id=\"node6\" class=\"node\">\n<title>132090112548720</title>\n<polygon fill=\"none\" stroke=\"black\" points=\"235,-83.5 235,-119.5 343,-119.5 343,-83.5 235,-83.5\"/>\n<text text-anchor=\"middle\" x=\"246.5\" y=\"-97.8\" font-family=\"Times,serif\" font-size=\"14.00\">e</text>\n<polyline fill=\"none\" stroke=\"black\" points=\"258,-83.5 258,-119.5 \"/>\n<text text-anchor=\"middle\" x=\"300.5\" y=\"-97.8\" font-family=\"Times,serif\" font-size=\"14.00\">data &#45;6.0000</text>\n</g>\n<!-- 132090112548720&#45;&gt;132090112556304+ -->\n<g id=\"edge4\" class=\"edge\">\n<title>132090112548720&#45;&gt;132090112556304+</title>\n<path fill=\"none\" stroke=\"black\" d=\"M343.25,-88.65C352.84,-86.33 362.6,-83.98 371.48,-81.83\"/>\n<polygon fill=\"black\" stroke=\"black\" points=\"372.54,-85.18 381.43,-79.43 370.89,-78.37 372.54,-85.18\"/>\n</g>\n<!-- 132090112548720*&#45;&gt;132090112548720 -->\n<g id=\"edge2\" class=\"edge\">\n<title>132090112548720*&#45;&gt;132090112548720</title>\n<path fill=\"none\" stroke=\"black\" d=\"M198.03,-101.5C206.08,-101.5 215.32,-101.5 224.74,-101.5\"/>\n<polygon fill=\"black\" stroke=\"black\" points=\"224.99,-105 234.99,-101.5 224.99,-98 224.99,-105\"/>\n</g>\n<!-- 132090112823696 -->\n<g id=\"node8\" class=\"node\">\n<title>132090112823696</title>\n<polygon fill=\"none\" stroke=\"black\" points=\"234,-28.5 234,-64.5 344,-64.5 344,-28.5 234,-28.5\"/>\n<text text-anchor=\"middle\" x=\"245.5\" y=\"-42.8\" font-family=\"Times,serif\" font-size=\"14.00\">c</text>\n<polyline fill=\"none\" stroke=\"black\" points=\"257,-28.5 257,-64.5 \"/>\n<text text-anchor=\"middle\" x=\"300.5\" y=\"-42.8\" font-family=\"Times,serif\" font-size=\"14.00\">data 10.0000</text>\n</g>\n<!-- 132090112823696&#45;&gt;132090112556304+ -->\n<g id=\"edge6\" class=\"edge\">\n<title>132090112823696&#45;&gt;132090112556304+</title>\n<path fill=\"none\" stroke=\"black\" d=\"M344.26,-59.13C353.49,-61.28 362.84,-63.45 371.37,-65.44\"/>\n<polygon fill=\"black\" stroke=\"black\" points=\"370.79,-68.9 381.32,-67.76 372.38,-62.08 370.79,-68.9\"/>\n</g>\n<!-- 132090112556448 -->\n<g id=\"node9\" class=\"node\">\n<title>132090112556448</title>\n<polygon fill=\"none\" stroke=\"black\" points=\"702,-27.5 702,-63.5 812,-63.5 812,-27.5 702,-27.5\"/>\n<text text-anchor=\"middle\" x=\"714.5\" y=\"-41.8\" font-family=\"Times,serif\" font-size=\"14.00\">L</text>\n<polyline fill=\"none\" stroke=\"black\" points=\"727,-27.5 727,-63.5 \"/>\n<text text-anchor=\"middle\" x=\"769.5\" y=\"-41.8\" font-family=\"Times,serif\" font-size=\"14.00\">data &#45;8.0000</text>\n</g>\n<!-- 132090112556448*&#45;&gt;132090112556448 -->\n<g id=\"edge3\" class=\"edge\">\n<title>132090112556448*&#45;&gt;132090112556448</title>\n<path fill=\"none\" stroke=\"black\" d=\"M666.03,-45.5C673.7,-45.5 682.45,-45.5 691.42,-45.5\"/>\n<polygon fill=\"black\" stroke=\"black\" points=\"691.58,-49 701.58,-45.5 691.58,-42 691.58,-49\"/>\n</g>\n</g>\n</svg>\n",
            "text/plain": [
              "<graphviz.graphs.Digraph at 0x7822a02b3b00>"
            ]
          },
          "metadata": {},
          "execution_count": 15
        }
      ]
    },
    {
      "cell_type": "code",
      "source": [
        "# Partial derivative = \"If I just change one input, how much does L change?\" = Rate of change of the system wrt one variable while freezing all others = How sensitive L is to that input\n",
        "\n",
        "def lol():\n",
        "\n",
        "    h = 0.0001\n",
        "    a = Value(2.0, label='a')\n",
        "    b = Value(-3.0, label='b')\n",
        "    c = Value(10.0, label='c')\n",
        "    e = a * b; e.label='e'\n",
        "    d = e + c; d.label='d'\n",
        "    f = Value(-2.0, label='f')\n",
        "    L = d * f; L.label='L'\n",
        "    L1 = L.data\n",
        "\n",
        "\n",
        "    h = 0.0001\n",
        "    a = Value(2.0, label='a') # “How does the output L change if I change a?”\n",
        "    b = Value(-3.0, label='b')\n",
        "    c = Value(10.0, label='c')\n",
        "    e = a * b; e.label='e'\n",
        "    d = e + c; d.label='d'\n",
        "    f = Value(-2.0, label='f')\n",
        "    L = d * f; L.label='L'\n",
        "    L2 = L.data + h\n",
        "\n",
        "\n",
        "    print((L2 - L1)/h)\n",
        "\n",
        "lol() # Gradients (∂L/∂a, ∂L/∂b, etc.) are only meaningful inside the “world” of the function/system you’re studying -> They are local unitless scales\n"
      ],
      "metadata": {
        "colab": {
          "base_uri": "https://localhost:8080/"
        },
        "id": "cY18-iOEJIH7",
        "outputId": "86a4c9fd-455a-4321-ccf8-bd136ee651ea"
      },
      "execution_count": null,
      "outputs": [
        {
          "output_type": "stream",
          "name": "stdout",
          "text": [
            "0.9999999999976694\n"
          ]
        }
      ]
    },
    {
      "cell_type": "code",
      "source": [
        "def lol():\n",
        "\n",
        "    h = 0.0001\n",
        "    a = Value(2.0, label='a')\n",
        "    b = Value(-3.0, label='b')\n",
        "    c = Value(10.0, label='c')\n",
        "    e = a * b; e.label='e'\n",
        "    d = e + c; d.label='d'\n",
        "    f = Value(-2.0, label='f')\n",
        "    L = d * f; L.label='L'\n",
        "    L1 = L.data\n",
        "\n",
        "\n",
        "    h = 0.0001\n",
        "    a = Value(2.0 - h, label='a') # “How does the output L change if I change a?”\n",
        "    b = Value(-3.0, label='b')\n",
        "    c = Value(10.0, label='c')\n",
        "    e = a * b; e.label='e'\n",
        "    d = e + c; d.label='d'\n",
        "    f = Value(-2.0, label='f')\n",
        "    L = d * f; L.label='L'\n",
        "    L2 = L.data\n",
        "\n",
        "\n",
        "    print((L2 - L1)/h)\n",
        "\n",
        "lol()\n"
      ],
      "metadata": {
        "colab": {
          "base_uri": "https://localhost:8080/"
        },
        "id": "jFUmiONmJmWq",
        "outputId": "b040d46e-17a8-4981-f14b-4fef4bdab826"
      },
      "execution_count": null,
      "outputs": [
        {
          "output_type": "stream",
          "name": "stdout",
          "text": [
            "-6.00000000000378\n"
          ]
        }
      ]
    },
    {
      "cell_type": "code",
      "source": [
        "class Value:\n",
        "    def __init__(self, data, _children=(), _op = '', label=''):\n",
        "        self.data = data\n",
        "        self.grad = 0.0\n",
        "        self._prev = set(_children)\n",
        "        self._op = _op\n",
        "        self.label = label\n",
        "\n",
        "    def __repr__(self):\n",
        "        return f\"Value(data={self.data})\"\n",
        "\n",
        "    def __add__(self, other):\n",
        "        out = Value(self.data + other.data, (self, other), '+')\n",
        "        return out\n",
        "\n",
        "    def __mul__(self, other):\n",
        "        out = Value(self.data * other.data, (self, other), '*')\n",
        "        return out"
      ],
      "metadata": {
        "id": "1HWq8G5eE1lf"
      },
      "execution_count": null,
      "outputs": []
    },
    {
      "cell_type": "code",
      "source": [
        "a = Value(2.0, label='a')\n",
        "b = Value(-3.0, label='b')\n",
        "c = Value(10.0, label='c')\n",
        "e = a * b; e.label='e'\n",
        "d = e + c; d.label='d'\n",
        "f = Value(-2.0, label='f')\n",
        "L = d * f; L.label='L'\n",
        "L.grad = 1.0\n",
        "\n",
        "f.grad = 4.0\n",
        "d.grad = -2.0\n",
        "c.grad = -2.0\n",
        "e.grad = -2.0\n",
        "a.grad = -2.0 * -3.0\n",
        "b.grad = -2.0 * 2.0"
      ],
      "metadata": {
        "id": "LpiqVCP-yBD5"
      },
      "execution_count": null,
      "outputs": []
    },
    {
      "cell_type": "code",
      "source": [
        "from graphviz import Digraph\n",
        "\n",
        "def trace(root):\n",
        "  # builds a set of all nodes and edges in a graph\n",
        "  nodes, edges = set(), set()\n",
        "  def build(v):\n",
        "    if v not in nodes:\n",
        "      nodes.add(v)\n",
        "      for child in v._prev:\n",
        "        edges.add((child, v))\n",
        "        build(child)\n",
        "  build(root)\n",
        "  return nodes, edges\n",
        "\n",
        "def draw_dot(root):\n",
        "  dot = Digraph(format='svg', graph_attr={'rankdir': 'LR'}) # LR = left to right\n",
        "\n",
        "  nodes, edges = trace(root)\n",
        "  for n in nodes:\n",
        "    uid = str(id(n))\n",
        "    # for any value in the graph, create a rectangular ('record') node for it\n",
        "    dot.node(name = uid, label = \"{ %s | data %.4f | grad %.4f }\" % (n.label, n.data, n.grad), shape='record')\n",
        "    if n._op:\n",
        "      # if this value is a result of some operation, create an op node for it\n",
        "      dot.node(name = uid + n._op, label = n._op)\n",
        "      # and connect this node to it\n",
        "      dot.edge(uid + n._op, uid)\n",
        "\n",
        "  for n1, n2 in edges:\n",
        "    # connect n1 to the op node of n2\n",
        "    dot.edge(str(id(n1)), str(id(n2)) + n2._op)\n",
        "\n",
        "  return dot\n",
        "\n",
        "\n",
        "draw_dot(L)"
      ],
      "metadata": {
        "colab": {
          "base_uri": "https://localhost:8080/",
          "height": 246
        },
        "id": "77us9fdqIyc3",
        "outputId": "0a1983be-28e9-401d-df5f-4b673e042b7d"
      },
      "execution_count": null,
      "outputs": [
        {
          "output_type": "execute_result",
          "data": {
            "image/svg+xml": "<?xml version=\"1.0\" encoding=\"UTF-8\" standalone=\"no\"?>\n<!DOCTYPE svg PUBLIC \"-//W3C//DTD SVG 1.1//EN\"\n \"http://www.w3.org/Graphics/SVG/1.1/DTD/svg11.dtd\">\n<!-- Generated by graphviz version 2.43.0 (0)\n -->\n<!-- Title: %3 Pages: 1 -->\n<svg width=\"1157pt\" height=\"154pt\"\n viewBox=\"0.00 0.00 1157.00 154.00\" xmlns=\"http://www.w3.org/2000/svg\" xmlns:xlink=\"http://www.w3.org/1999/xlink\">\n<g id=\"graph0\" class=\"graph\" transform=\"scale(1 1) rotate(0) translate(4 150)\">\n<title>%3</title>\n<polygon fill=\"white\" stroke=\"transparent\" points=\"-4,4 -4,-150 1153,-150 1153,4 -4,4\"/>\n<!-- 132089755484864 -->\n<g id=\"node1\" class=\"node\">\n<title>132089755484864</title>\n<polygon fill=\"none\" stroke=\"black\" points=\"321,-27.5 321,-63.5 515,-63.5 515,-27.5 321,-27.5\"/>\n<text text-anchor=\"middle\" x=\"332.5\" y=\"-41.8\" font-family=\"Times,serif\" font-size=\"14.00\">e</text>\n<polyline fill=\"none\" stroke=\"black\" points=\"344,-27.5 344,-63.5 \"/>\n<text text-anchor=\"middle\" x=\"386.5\" y=\"-41.8\" font-family=\"Times,serif\" font-size=\"14.00\">data &#45;6.0000</text>\n<polyline fill=\"none\" stroke=\"black\" points=\"429,-27.5 429,-63.5 \"/>\n<text text-anchor=\"middle\" x=\"472\" y=\"-41.8\" font-family=\"Times,serif\" font-size=\"14.00\">grad &#45;2.0000</text>\n</g>\n<!-- 132089755486160+ -->\n<g id=\"node9\" class=\"node\">\n<title>132089755486160+</title>\n<ellipse fill=\"none\" stroke=\"black\" cx=\"579\" cy=\"-72.5\" rx=\"27\" ry=\"18\"/>\n<text text-anchor=\"middle\" x=\"579\" y=\"-68.8\" font-family=\"Times,serif\" font-size=\"14.00\">+</text>\n</g>\n<!-- 132089755484864&#45;&gt;132089755486160+ -->\n<g id=\"edge4\" class=\"edge\">\n<title>132089755484864&#45;&gt;132089755486160+</title>\n<path fill=\"none\" stroke=\"black\" d=\"M515.16,-61.83C524.82,-63.47 534.13,-65.05 542.49,-66.47\"/>\n<polygon fill=\"black\" stroke=\"black\" points=\"542.09,-69.95 552.54,-68.18 543.26,-63.05 542.09,-69.95\"/>\n</g>\n<!-- 132089755484864* -->\n<g id=\"node2\" class=\"node\">\n<title>132089755484864*</title>\n<ellipse fill=\"none\" stroke=\"black\" cx=\"257\" cy=\"-45.5\" rx=\"27\" ry=\"18\"/>\n<text text-anchor=\"middle\" x=\"257\" y=\"-41.8\" font-family=\"Times,serif\" font-size=\"14.00\">*</text>\n</g>\n<!-- 132089755484864*&#45;&gt;132089755484864 -->\n<g id=\"edge1\" class=\"edge\">\n<title>132089755484864*&#45;&gt;132089755484864</title>\n<path fill=\"none\" stroke=\"black\" d=\"M284.26,-45.5C292.05,-45.5 301.1,-45.5 310.75,-45.5\"/>\n<polygon fill=\"black\" stroke=\"black\" points=\"310.99,-49 320.99,-45.5 310.99,-42 310.99,-49\"/>\n</g>\n<!-- 132089380229904 -->\n<g id=\"node3\" class=\"node\">\n<title>132089380229904</title>\n<polygon fill=\"none\" stroke=\"black\" points=\"957,-81.5 957,-117.5 1149,-117.5 1149,-81.5 957,-81.5\"/>\n<text text-anchor=\"middle\" x=\"969.5\" y=\"-95.8\" font-family=\"Times,serif\" font-size=\"14.00\">L</text>\n<polyline fill=\"none\" stroke=\"black\" points=\"982,-81.5 982,-117.5 \"/>\n<text text-anchor=\"middle\" x=\"1024.5\" y=\"-95.8\" font-family=\"Times,serif\" font-size=\"14.00\">data &#45;8.0000</text>\n<polyline fill=\"none\" stroke=\"black\" points=\"1067,-81.5 1067,-117.5 \"/>\n<text text-anchor=\"middle\" x=\"1108\" y=\"-95.8\" font-family=\"Times,serif\" font-size=\"14.00\">grad 1.0000</text>\n</g>\n<!-- 132089380229904* -->\n<g id=\"node4\" class=\"node\">\n<title>132089380229904*</title>\n<ellipse fill=\"none\" stroke=\"black\" cx=\"894\" cy=\"-99.5\" rx=\"27\" ry=\"18\"/>\n<text text-anchor=\"middle\" x=\"894\" y=\"-95.8\" font-family=\"Times,serif\" font-size=\"14.00\">*</text>\n</g>\n<!-- 132089380229904*&#45;&gt;132089380229904 -->\n<g id=\"edge2\" class=\"edge\">\n<title>132089380229904*&#45;&gt;132089380229904</title>\n<path fill=\"none\" stroke=\"black\" d=\"M921.28,-99.5C928.78,-99.5 937.44,-99.5 946.67,-99.5\"/>\n<polygon fill=\"black\" stroke=\"black\" points=\"946.87,-103 956.87,-99.5 946.87,-96 946.87,-103\"/>\n</g>\n<!-- 132089376028432 -->\n<g id=\"node5\" class=\"node\">\n<title>132089376028432</title>\n<polygon fill=\"none\" stroke=\"black\" points=\"0,-55.5 0,-91.5 194,-91.5 194,-55.5 0,-55.5\"/>\n<text text-anchor=\"middle\" x=\"11.5\" y=\"-69.8\" font-family=\"Times,serif\" font-size=\"14.00\">b</text>\n<polyline fill=\"none\" stroke=\"black\" points=\"23,-55.5 23,-91.5 \"/>\n<text text-anchor=\"middle\" x=\"65.5\" y=\"-69.8\" font-family=\"Times,serif\" font-size=\"14.00\">data &#45;3.0000</text>\n<polyline fill=\"none\" stroke=\"black\" points=\"108,-55.5 108,-91.5 \"/>\n<text text-anchor=\"middle\" x=\"151\" y=\"-69.8\" font-family=\"Times,serif\" font-size=\"14.00\">grad &#45;4.0000</text>\n</g>\n<!-- 132089376028432&#45;&gt;132089755484864* -->\n<g id=\"edge7\" class=\"edge\">\n<title>132089376028432&#45;&gt;132089755484864*</title>\n<path fill=\"none\" stroke=\"black\" d=\"M194.01,-56.49C203.35,-54.83 212.37,-53.23 220.49,-51.79\"/>\n<polygon fill=\"black\" stroke=\"black\" points=\"221.37,-55.19 230.6,-50 220.15,-48.3 221.37,-55.19\"/>\n</g>\n<!-- 132089376096080 -->\n<g id=\"node6\" class=\"node\">\n<title>132089376096080</title>\n<polygon fill=\"none\" stroke=\"black\" points=\"4.5,-0.5 4.5,-36.5 189.5,-36.5 189.5,-0.5 4.5,-0.5\"/>\n<text text-anchor=\"middle\" x=\"16\" y=\"-14.8\" font-family=\"Times,serif\" font-size=\"14.00\">a</text>\n<polyline fill=\"none\" stroke=\"black\" points=\"27.5,-0.5 27.5,-36.5 \"/>\n<text text-anchor=\"middle\" x=\"67.5\" y=\"-14.8\" font-family=\"Times,serif\" font-size=\"14.00\">data 2.0000</text>\n<polyline fill=\"none\" stroke=\"black\" points=\"107.5,-0.5 107.5,-36.5 \"/>\n<text text-anchor=\"middle\" x=\"148.5\" y=\"-14.8\" font-family=\"Times,serif\" font-size=\"14.00\">grad 6.0000</text>\n</g>\n<!-- 132089376096080&#45;&gt;132089755484864* -->\n<g id=\"edge8\" class=\"edge\">\n<title>132089376096080&#45;&gt;132089755484864*</title>\n<path fill=\"none\" stroke=\"black\" d=\"M189.91,-34.21C200.76,-36.06 211.28,-37.86 220.61,-39.45\"/>\n<polygon fill=\"black\" stroke=\"black\" points=\"220.16,-42.93 230.6,-41.16 221.34,-36.03 220.16,-42.93\"/>\n</g>\n<!-- 132089755486640 -->\n<g id=\"node7\" class=\"node\">\n<title>132089755486640</title>\n<polygon fill=\"none\" stroke=\"black\" points=\"642.5,-109.5 642.5,-145.5 830.5,-145.5 830.5,-109.5 642.5,-109.5\"/>\n<text text-anchor=\"middle\" x=\"653\" y=\"-123.8\" font-family=\"Times,serif\" font-size=\"14.00\">f</text>\n<polyline fill=\"none\" stroke=\"black\" points=\"663.5,-109.5 663.5,-145.5 \"/>\n<text text-anchor=\"middle\" x=\"706\" y=\"-123.8\" font-family=\"Times,serif\" font-size=\"14.00\">data &#45;2.0000</text>\n<polyline fill=\"none\" stroke=\"black\" points=\"748.5,-109.5 748.5,-145.5 \"/>\n<text text-anchor=\"middle\" x=\"789.5\" y=\"-123.8\" font-family=\"Times,serif\" font-size=\"14.00\">grad 4.0000</text>\n</g>\n<!-- 132089755486640&#45;&gt;132089380229904* -->\n<g id=\"edge5\" class=\"edge\">\n<title>132089755486640&#45;&gt;132089380229904*</title>\n<path fill=\"none\" stroke=\"black\" d=\"M830.65,-110.73C840.2,-109.01 849.43,-107.35 857.72,-105.85\"/>\n<polygon fill=\"black\" stroke=\"black\" points=\"858.47,-109.27 867.69,-104.06 857.23,-102.39 858.47,-109.27\"/>\n</g>\n<!-- 132089755486160 -->\n<g id=\"node8\" class=\"node\">\n<title>132089755486160</title>\n<polygon fill=\"none\" stroke=\"black\" points=\"642,-54.5 642,-90.5 831,-90.5 831,-54.5 642,-54.5\"/>\n<text text-anchor=\"middle\" x=\"653.5\" y=\"-68.8\" font-family=\"Times,serif\" font-size=\"14.00\">d</text>\n<polyline fill=\"none\" stroke=\"black\" points=\"665,-54.5 665,-90.5 \"/>\n<text text-anchor=\"middle\" x=\"705\" y=\"-68.8\" font-family=\"Times,serif\" font-size=\"14.00\">data 4.0000</text>\n<polyline fill=\"none\" stroke=\"black\" points=\"745,-54.5 745,-90.5 \"/>\n<text text-anchor=\"middle\" x=\"788\" y=\"-68.8\" font-family=\"Times,serif\" font-size=\"14.00\">grad &#45;2.0000</text>\n</g>\n<!-- 132089755486160&#45;&gt;132089380229904* -->\n<g id=\"edge6\" class=\"edge\">\n<title>132089755486160&#45;&gt;132089380229904*</title>\n<path fill=\"none\" stroke=\"black\" d=\"M831.1,-88.75C840.4,-90.37 849.38,-91.93 857.49,-93.33\"/>\n<polygon fill=\"black\" stroke=\"black\" points=\"857.14,-96.83 867.59,-95.09 858.34,-89.93 857.14,-96.83\"/>\n</g>\n<!-- 132089755486160+&#45;&gt;132089755486160 -->\n<g id=\"edge3\" class=\"edge\">\n<title>132089755486160+&#45;&gt;132089755486160</title>\n<path fill=\"none\" stroke=\"black\" d=\"M606.03,-72.5C613.66,-72.5 622.52,-72.5 631.94,-72.5\"/>\n<polygon fill=\"black\" stroke=\"black\" points=\"631.94,-76 641.94,-72.5 631.94,-69 631.94,-76\"/>\n</g>\n<!-- 132089380952048 -->\n<g id=\"node10\" class=\"node\">\n<title>132089380952048</title>\n<polygon fill=\"none\" stroke=\"black\" points=\"320,-82.5 320,-118.5 516,-118.5 516,-82.5 320,-82.5\"/>\n<text text-anchor=\"middle\" x=\"331.5\" y=\"-96.8\" font-family=\"Times,serif\" font-size=\"14.00\">c</text>\n<polyline fill=\"none\" stroke=\"black\" points=\"343,-82.5 343,-118.5 \"/>\n<text text-anchor=\"middle\" x=\"386.5\" y=\"-96.8\" font-family=\"Times,serif\" font-size=\"14.00\">data 10.0000</text>\n<polyline fill=\"none\" stroke=\"black\" points=\"430,-82.5 430,-118.5 \"/>\n<text text-anchor=\"middle\" x=\"473\" y=\"-96.8\" font-family=\"Times,serif\" font-size=\"14.00\">grad &#45;2.0000</text>\n</g>\n<!-- 132089380952048&#45;&gt;132089755486160+ -->\n<g id=\"edge9\" class=\"edge\">\n<title>132089380952048&#45;&gt;132089755486160+</title>\n<path fill=\"none\" stroke=\"black\" d=\"M516.07,-83.41C525.42,-81.76 534.43,-80.17 542.55,-78.74\"/>\n<polygon fill=\"black\" stroke=\"black\" points=\"543.41,-82.15 552.65,-76.96 542.2,-75.25 543.41,-82.15\"/>\n</g>\n</g>\n</svg>\n",
            "text/plain": [
              "<graphviz.graphs.Digraph at 0x782274967770>"
            ]
          },
          "metadata": {},
          "execution_count": 40
        }
      ]
    },
    {
      "cell_type": "markdown",
      "source": [
        "# 📘 Derivative of Multiplication (with Chain Rule)\n",
        "\n",
        "We want the derivative of  \n",
        "\n",
        "$$\n",
        "L = d \\cdot f\n",
        "$$  \n",
        "\n",
        "with respect to $d$.  \n",
        "\n",
        "---\n",
        "\n",
        "### 🔹 Step 1: Chain rule starting point  \n",
        "\n",
        "By definition of backpropagation, we always start from:  \n",
        "\n",
        "$$\n",
        "\\frac{\\partial L}{\\partial L} = 1\n",
        "$$  \n",
        "\n",
        "Then the chain rule says:  \n",
        "\n",
        "$$\n",
        "\\frac{\\partial L}{\\partial d}\n",
        "= \\frac{\\partial L}{\\partial L} \\cdot \\frac{\\partial L}{\\partial d}\n",
        "$$  \n",
        "\n",
        "---\n",
        "\n",
        "### 🔹 Step 2: Definition of derivative  \n",
        "\n",
        "$$\n",
        "\\frac{\\partial L}{\\partial d}\n",
        "= \\lim_{h \\to 0} \\frac{L(d+h) - L(d)}{h}\n",
        "$$  \n",
        "\n",
        "---\n",
        "\n",
        "### 🔹 Step 3: Plug in $L = d \\cdot f$  \n",
        "\n",
        "$$\n",
        "= \\lim_{h \\to 0} \\frac{(d+h)\\cdot f - (d \\cdot f)}{h}\n",
        "$$  \n",
        "\n",
        "---\n",
        "\n",
        "### 🔹 Step 4: Expand  \n",
        "\n",
        "$$\n",
        "= \\lim_{h \\to 0} \\frac{d \\cdot f + h \\cdot f - d \\cdot f}{h}\n",
        "$$  \n",
        "\n",
        "The $d \\cdot f$ terms cancel out.  \n",
        "\n",
        "---\n",
        "\n",
        "### 🔹 Step 5: Simplify  \n",
        "\n",
        "$$\n",
        "= \\lim_{h \\to 0} \\frac{h \\cdot f}{h}\n",
        "$$  \n",
        "\n",
        "---\n",
        "\n",
        "### 🔹 Step 6: Cancel $h$  \n",
        "\n",
        "$$\n",
        "= f\n",
        "$$  \n",
        "\n",
        "---\n",
        "\n",
        "✅ **Therefore (with chain rule):**  \n",
        "\n",
        "$$\n",
        "\\frac{\\partial L}{\\partial d}\n",
        "= \\frac{\\partial L}{\\partial L} \\cdot f\n",
        "= 1 \\cdot f\n",
        "= f\n",
        "$$"
      ],
      "metadata": {
        "id": "ZqGAl8ph3r7N"
      }
    },
    {
      "cell_type": "code",
      "source": [
        "def lol():\n",
        "\n",
        "    h = 0.0001\n",
        "    a = Value(2.0, label='a')\n",
        "    b = Value(-3.0, label='b')\n",
        "    c = Value(10.0, label='c')\n",
        "    e = a * b; e.label='e'\n",
        "    d = e + c; d.label='d'\n",
        "    f = Value(-2.0, label='f')\n",
        "    L = d * f; L.label='L'\n",
        "    L1 = L.data\n",
        "\n",
        "\n",
        "    h = 0.0001\n",
        "    a = Value(2.0, label='a')\n",
        "    b = Value(-3.0, label='b')\n",
        "    c = Value(10.0, label='c')\n",
        "    e = a * b; e.labl='e'\n",
        "    d = e + c; d.label='d'\n",
        "    f = Value(-2.0 + h, label='f') # If I change f, I will see dL/dd = 4 amounts of change\n",
        "    L = d * f; L.label='L'\n",
        "    L2 = L.data\n",
        "\n",
        "\n",
        "    print((L2 - L1)/h)\n",
        "\n",
        "lol()\n"
      ],
      "metadata": {
        "colab": {
          "base_uri": "https://localhost:8080/"
        },
        "id": "JD-h-UJB4hmO",
        "outputId": "d72b7a6e-d10f-4432-af48-170c51a024f9"
      },
      "execution_count": null,
      "outputs": [
        {
          "output_type": "stream",
          "name": "stdout",
          "text": [
            "3.9999999999995595\n"
          ]
        }
      ]
    },
    {
      "cell_type": "markdown",
      "source": [
        "# 📘 Derivate of Addition\n",
        "\n",
        "We want the derivative of  \n",
        "\n",
        "$$\n",
        "d = c + e\n",
        "$$  \n",
        "\n",
        "with respect to $c$.  \n",
        "\n",
        "---\n",
        "\n",
        "🔹 **Step 1: Definition of derivative**  \n",
        "\n",
        "$$\n",
        "\\frac{\\partial d}{\\partial c} = \\lim_{h \\to 0} \\frac{d(c+h) - d(c)}{h}\n",
        "$$  \n",
        "\n",
        "---\n",
        "\n",
        "🔹 **Step 2: Plug in $d = c + e$**  \n",
        "\n",
        "$$\n",
        "= \\lim_{h \\to 0} \\frac{((c+h)+e) - (c+e)}{h}\n",
        "$$  \n",
        "\n",
        "---\n",
        "\n",
        "🔹 **Step 3: Expand**  \n",
        "\n",
        "$$\n",
        "= \\lim_{h \\to 0} \\frac{c + h + e - c - e}{h}\n",
        "$$  \n",
        "\n",
        "---\n",
        "\n",
        "🔹 **Step 4: Simplify**  \n",
        "\n",
        "$$\n",
        "= \\lim_{h \\to 0} \\frac{h}{h}\n",
        "$$  \n",
        "\n",
        "---\n",
        "\n",
        "🔹 **Step 5: Cancel $h$**  \n",
        "\n",
        "$$\n",
        "= 1\n",
        "$$  \n",
        "\n",
        "---\n",
        "\n",
        "✅ Therefore:  \n",
        "\n",
        "$$\n",
        "\\frac{\\partial d}{\\partial c} = 1\n",
        "$$"
      ],
      "metadata": {
        "id": "pkbfbKJ37u_-"
      }
    },
    {
      "cell_type": "code",
      "source": [
        "def lol():\n",
        "\n",
        "    h = 0.0001\n",
        "    a = Value(2.0, label='a')\n",
        "    b = Value(-3.0, label='b')\n",
        "    c = Value(10.0, label='c')\n",
        "    e = a * b; e.label='e'\n",
        "    d = e + c; d.label='d'\n",
        "    D1 = d.data\n",
        "\n",
        "\n",
        "    h = 0.0001\n",
        "    a = Value(2.0, label='a')\n",
        "    b = Value(-3.0, label='b')\n",
        "    c = Value(10.0 + h, label='c')\n",
        "    e = a * b; e.labl='e'\n",
        "    d = e + c; d.label='d'\n",
        "    D2 = d.data\n",
        "\n",
        "\n",
        "    print((D2 - D1)/h)\n",
        "\n",
        "lol()\n"
      ],
      "metadata": {
        "colab": {
          "base_uri": "https://localhost:8080/"
        },
        "id": "ElfL4SN97vub",
        "outputId": "127d2c89-069f-4b33-895b-ac4ee93a4c4e"
      },
      "execution_count": null,
      "outputs": [
        {
          "output_type": "stream",
          "name": "stdout",
          "text": [
            "0.9999999999976694\n"
          ]
        }
      ]
    },
    {
      "cell_type": "markdown",
      "source": [
        "# 🔗 Chain Rule Example\n",
        "\n",
        "Suppose we want:\n",
        "\n",
        "$$\n",
        "\\frac{\\partial L}{\\partial c}\n",
        "$$\n",
        "\n",
        "but $L$ depends on $c$ **through** an intermediate variable $d$.  \n",
        "\n",
        "---\n",
        "\n",
        "### ✅ Chain Rule Formula\n",
        "\n",
        "$$\n",
        "\\frac{\\partial L}{\\partial c}\n",
        "= \\frac{\\partial L}{\\partial d} \\cdot \\frac{\\partial d}{\\partial c}\n",
        "$$\n",
        "\n",
        "---\n",
        "\n",
        "### 🧩 Explanation\n",
        "\n",
        "- We know $\\frac{\\partial L}{\\partial d}$: how $L$ changes with $d$.  \n",
        "- We know $\\frac{\\partial d}{\\partial c}$: how $d$ changes with $c$.  \n",
        "- Multiplying them gives $\\frac{\\partial L}{\\partial c}$: how $L$ changes with $c$ through $d$.  \n",
        "\n",
        "---\n",
        "\n",
        "### 🔍 Intuition\n",
        "\n",
        "The chain rule says:  \n",
        "*“If $c$ nudges $d$, and $d$ nudges $L$, then the total effect of $c$ on $L$ is the product of those nudges.”*  \n",
        "\n",
        "It’s like passing the influence along the chain:\n",
        "\n",
        "$$\n",
        "c \\;\\;\\rightarrow\\;\\; d \\;\\;\\rightarrow\\;\\; L\n",
        "$$"
      ],
      "metadata": {
        "id": "ZRH4kEHu96q7"
      }
    },
    {
      "cell_type": "markdown",
      "source": [
        "# 🔗 Why the Chain Rule Works (Mathematical Proof)\n",
        "\n",
        "Suppose we have a function of a function:\n",
        "\n",
        "$$\n",
        "L = f(d), \\quad d = g(c)\n",
        "$$\n",
        "\n",
        "So overall:\n",
        "\n",
        "$$\n",
        "L = f(g(c))\n",
        "$$\n",
        "\n",
        "We want:\n",
        "\n",
        "$$\n",
        "\\frac{dL}{dc}\n",
        "$$\n",
        "\n",
        "---\n",
        "\n",
        "### 🔹 Step 1: Definition of derivative\n",
        "\n",
        "$$\n",
        "\\frac{dL}{dc} = \\lim_{h \\to 0} \\frac{L(c+h) - L(c)}{h}\n",
        "$$\n",
        "\n",
        "Substitute $L(c) = f(g(c))$:\n",
        "\n",
        "$$\n",
        "= \\lim_{h \\to 0} \\frac{f(g(c+h)) - f(g(c))}{h}\n",
        "$$\n",
        "\n",
        "---\n",
        "\n",
        "### 🔹 Step 2: Introduce $\\Delta d$\n",
        "\n",
        "Let:\n",
        "\n",
        "$$\n",
        "\\Delta d = g(c+h) - g(c)\n",
        "$$\n",
        "\n",
        "So:\n",
        "\n",
        "$$\n",
        "\\frac{dL}{dc} = \\lim_{h \\to 0} \\frac{f(g(c) + \\Delta d) - f(g(c))}{h}\n",
        "$$\n",
        "\n",
        "---\n",
        "\n",
        "### 🔹 Step 3: Multiply and divide by $\\Delta d$\n",
        "\n",
        "$$\n",
        "\\frac{dL}{dc} = \\lim_{h \\to 0}\n",
        "\\left(\n",
        "\\frac{f(g(c)+\\Delta d) - f(g(c))}{\\Delta d}\n",
        "\\cdot\n",
        "\\frac{\\Delta d}{h}\n",
        "\\right)\n",
        "$$\n",
        "\n",
        "---\n",
        "\n",
        "### 🔹 Step 4: Interpret the two limits\n",
        "\n",
        "1. The first fraction is the derivative of $f$ with respect to $d$:\n",
        "\n",
        "$$\n",
        "\\lim_{\\Delta d \\to 0} \\frac{f(g(c)+\\Delta d) - f(g(c))}{\\Delta d}\n",
        "= f'(g(c))\n",
        "$$\n",
        "\n",
        "2. The second fraction is the derivative of $g$ with respect to $c$:\n",
        "\n",
        "$$\n",
        "\\lim_{h \\to 0} \\frac{g(c+h) - g(c)}{h}\n",
        "= g'(c)\n",
        "$$\n",
        "\n",
        "---\n",
        "\n",
        "### 🔹 Step 5: Multiply results\n",
        "\n",
        "$$\n",
        "\\frac{dL}{dc} = f'(g(c)) \\cdot g'(c)\n",
        "$$\n",
        "\n",
        "---\n",
        "\n",
        "✅ **Therefore, the chain rule:**\n",
        "\n",
        "$$\n",
        "\\frac{dL}{dc} = \\frac{dL}{dd} \\cdot \\frac{dd}{dc}\n",
        "$$\n",
        "\n",
        "This shows that the rate of change \"flows through\" intermediate variables."
      ],
      "metadata": {
        "id": "LOH4tZmg-h7C"
      }
    },
    {
      "cell_type": "markdown",
      "source": [
        "# 📘 Gradient of $L$ with respect to $a$\n",
        "\n",
        "We know:\n",
        "\n",
        "$$\n",
        "L = d \\cdot f, \\quad d = e + c, \\quad e = a \\cdot b\n",
        "$$\n",
        "\n",
        "---\n",
        "\n",
        "### 🔹 Step 1: Gradient flowing into $e$\n",
        "\n",
        "Suppose from previous steps we already computed:\n",
        "\n",
        "$$\n",
        "\\frac{\\partial L}{\\partial e} = -2.0\n",
        "$$\n",
        "\n",
        "---\n",
        "\n",
        "### 🔹 Step 2: Local derivative of $e$ with respect to $a$\n",
        "\n",
        "Since:\n",
        "\n",
        "$$\n",
        "e = a \\cdot b\n",
        "$$  \n",
        "\n",
        "the derivative is:\n",
        "\n",
        "$$\n",
        "\\frac{\\partial e}{\\partial a} = b\n",
        "$$\n",
        "\n",
        "---\n",
        "\n",
        "### 🔹 Step 3: Apply the chain rule\n",
        "\n",
        "Now combine them:\n",
        "\n",
        "$$\n",
        "\\frac{\\partial L}{\\partial a}\n",
        "= \\frac{\\partial L}{\\partial e} \\cdot \\frac{\\partial e}{\\partial a}\n",
        "$$\n",
        "\n",
        "---\n",
        "\n",
        "### 🔹 Step 4: Plug in numbers\n",
        "\n",
        "$$\n",
        "\\frac{\\partial L}{\\partial a} = (-2.0) \\cdot (-3.0)\n",
        "$$  \n",
        "\n",
        "---\n",
        "\n",
        "✅ Therefore:\n",
        "\n",
        "$$\n",
        "a.\\text{grad} = 6.0\n",
        "$$"
      ],
      "metadata": {
        "id": "LHU-JcaDCutQ"
      }
    },
    {
      "cell_type": "code",
      "source": [
        "class Value:\n",
        "    def __init__(self, data, _children=(), _op = '', label=''):\n",
        "        self.data = data\n",
        "        self.grad = 0.0\n",
        "        self._prev = set(_children)\n",
        "        self._op = _op\n",
        "        self.label = label\n",
        "\n",
        "    def __repr__(self):\n",
        "        return f\"Value(data={self.data})\"\n",
        "\n",
        "    def __add__(self, other):\n",
        "        out = Value(self.data + other.data, (self, other), '+')\n",
        "        return out\n",
        "\n",
        "    def __mul__(self, other):\n",
        "        out = Value(self.data * other.data, (self, other), '*')\n",
        "        return out\n",
        "\n",
        "a = Value(2.0, label='a')\n",
        "b = Value(-3.0, label='b')\n",
        "c = Value(10.0, label='c')\n",
        "e = a * b; e.label='e'\n",
        "d = e + c; d.label='d'\n",
        "f = Value(-2.0, label='f')\n",
        "L = d * f; L.label='L'\n",
        "L.grad = 1.0\n",
        "\n",
        "f.grad = 4.0\n",
        "d.grad = -2.0\n",
        "c.grad = -2.0\n",
        "e.grad = -2.0\n",
        "a.grad = -2.0 * -3.0\n",
        "b.grad = -2.0 * 2.0"
      ],
      "metadata": {
        "id": "UDE5RejvgvgO"
      },
      "execution_count": 67,
      "outputs": []
    },
    {
      "cell_type": "code",
      "source": [
        "from graphviz import Digraph\n",
        "\n",
        "def trace(root):\n",
        "  # builds a set of all nodes and edges in a graph\n",
        "  nodes, edges = set(), set()\n",
        "  def build(v):\n",
        "    if v not in nodes:\n",
        "      nodes.add(v)\n",
        "      for child in v._prev:\n",
        "        edges.add((child, v))\n",
        "        build(child)\n",
        "  build(root)\n",
        "  return nodes, edges\n",
        "\n",
        "def draw_dot(root):\n",
        "  dot = Digraph(format='svg', graph_attr={'rankdir': 'LR'}) # LR = left to right\n",
        "\n",
        "  nodes, edges = trace(root)\n",
        "  for n in nodes:\n",
        "    uid = str(id(n))\n",
        "    # for any value in the graph, create a rectangular ('record') node for it\n",
        "    dot.node(name = uid, label = \"{ %s | data %.4f | grad %.4f }\" % (n.label, n.data, n.grad), shape='record')\n",
        "    if n._op:\n",
        "      # if this value is a result of some operation, create an op node for it\n",
        "      dot.node(name = uid + n._op, label = n._op)\n",
        "      # and connect this node to it\n",
        "      dot.edge(uid + n._op, uid)\n",
        "\n",
        "  for n1, n2 in edges:\n",
        "    # connect n1 to the op node of n2\n",
        "    dot.edge(str(id(n1)), str(id(n2)) + n2._op)\n",
        "\n",
        "  return dot\n",
        "\n",
        "draw_dot(L)"
      ],
      "metadata": {
        "colab": {
          "base_uri": "https://localhost:8080/",
          "height": 212
        },
        "id": "xOVE24dgApEf",
        "outputId": "c3ce3eb3-819e-456e-9474-a2c82b89185d"
      },
      "execution_count": 68,
      "outputs": [
        {
          "output_type": "execute_result",
          "data": {
            "image/svg+xml": "<?xml version=\"1.0\" encoding=\"UTF-8\" standalone=\"no\"?>\n<!DOCTYPE svg PUBLIC \"-//W3C//DTD SVG 1.1//EN\"\n \"http://www.w3.org/Graphics/SVG/1.1/DTD/svg11.dtd\">\n<!-- Generated by graphviz version 2.43.0 (0)\n -->\n<!-- Title: %3 Pages: 1 -->\n<svg width=\"1157pt\" height=\"128pt\"\n viewBox=\"0.00 0.00 1157.00 128.00\" xmlns=\"http://www.w3.org/2000/svg\" xmlns:xlink=\"http://www.w3.org/1999/xlink\">\n<g id=\"graph0\" class=\"graph\" transform=\"scale(1 1) rotate(0) translate(4 124)\">\n<title>%3</title>\n<polygon fill=\"white\" stroke=\"transparent\" points=\"-4,4 -4,-124 1153,-124 1153,4 -4,4\"/>\n<!-- 132089354992192 -->\n<g id=\"node1\" class=\"node\">\n<title>132089354992192</title>\n<polygon fill=\"none\" stroke=\"black\" points=\"320,-83.5 320,-119.5 516,-119.5 516,-83.5 320,-83.5\"/>\n<text text-anchor=\"middle\" x=\"331.5\" y=\"-97.8\" font-family=\"Times,serif\" font-size=\"14.00\">c</text>\n<polyline fill=\"none\" stroke=\"black\" points=\"343,-83.5 343,-119.5 \"/>\n<text text-anchor=\"middle\" x=\"386.5\" y=\"-97.8\" font-family=\"Times,serif\" font-size=\"14.00\">data 10.0000</text>\n<polyline fill=\"none\" stroke=\"black\" points=\"430,-83.5 430,-119.5 \"/>\n<text text-anchor=\"middle\" x=\"473\" y=\"-97.8\" font-family=\"Times,serif\" font-size=\"14.00\">grad &#45;2.0000</text>\n</g>\n<!-- 132089354981200+ -->\n<g id=\"node8\" class=\"node\">\n<title>132089354981200+</title>\n<ellipse fill=\"none\" stroke=\"black\" cx=\"579\" cy=\"-73.5\" rx=\"27\" ry=\"18\"/>\n<text text-anchor=\"middle\" x=\"579\" y=\"-69.8\" font-family=\"Times,serif\" font-size=\"14.00\">+</text>\n</g>\n<!-- 132089354992192&#45;&gt;132089354981200+ -->\n<g id=\"edge8\" class=\"edge\">\n<title>132089354992192&#45;&gt;132089354981200+</title>\n<path fill=\"none\" stroke=\"black\" d=\"M516.07,-84.41C525.42,-82.76 534.43,-81.17 542.55,-79.74\"/>\n<polygon fill=\"black\" stroke=\"black\" points=\"543.41,-83.15 552.65,-77.96 542.2,-76.25 543.41,-83.15\"/>\n</g>\n<!-- 132089354989792 -->\n<g id=\"node2\" class=\"node\">\n<title>132089354989792</title>\n<polygon fill=\"none\" stroke=\"black\" points=\"957,-27.5 957,-63.5 1149,-63.5 1149,-27.5 957,-27.5\"/>\n<text text-anchor=\"middle\" x=\"969.5\" y=\"-41.8\" font-family=\"Times,serif\" font-size=\"14.00\">L</text>\n<polyline fill=\"none\" stroke=\"black\" points=\"982,-27.5 982,-63.5 \"/>\n<text text-anchor=\"middle\" x=\"1024.5\" y=\"-41.8\" font-family=\"Times,serif\" font-size=\"14.00\">data &#45;8.0000</text>\n<polyline fill=\"none\" stroke=\"black\" points=\"1067,-27.5 1067,-63.5 \"/>\n<text text-anchor=\"middle\" x=\"1108\" y=\"-41.8\" font-family=\"Times,serif\" font-size=\"14.00\">grad 1.0000</text>\n</g>\n<!-- 132089354989792* -->\n<g id=\"node3\" class=\"node\">\n<title>132089354989792*</title>\n<ellipse fill=\"none\" stroke=\"black\" cx=\"894\" cy=\"-45.5\" rx=\"27\" ry=\"18\"/>\n<text text-anchor=\"middle\" x=\"894\" y=\"-41.8\" font-family=\"Times,serif\" font-size=\"14.00\">*</text>\n</g>\n<!-- 132089354989792*&#45;&gt;132089354989792 -->\n<g id=\"edge1\" class=\"edge\">\n<title>132089354989792*&#45;&gt;132089354989792</title>\n<path fill=\"none\" stroke=\"black\" d=\"M921.28,-45.5C928.78,-45.5 937.44,-45.5 946.67,-45.5\"/>\n<polygon fill=\"black\" stroke=\"black\" points=\"946.87,-49 956.87,-45.5 946.87,-42 946.87,-49\"/>\n</g>\n<!-- 132089354991856 -->\n<g id=\"node4\" class=\"node\">\n<title>132089354991856</title>\n<polygon fill=\"none\" stroke=\"black\" points=\"321,-28.5 321,-64.5 515,-64.5 515,-28.5 321,-28.5\"/>\n<text text-anchor=\"middle\" x=\"332.5\" y=\"-42.8\" font-family=\"Times,serif\" font-size=\"14.00\">e</text>\n<polyline fill=\"none\" stroke=\"black\" points=\"344,-28.5 344,-64.5 \"/>\n<text text-anchor=\"middle\" x=\"386.5\" y=\"-42.8\" font-family=\"Times,serif\" font-size=\"14.00\">data &#45;6.0000</text>\n<polyline fill=\"none\" stroke=\"black\" points=\"429,-28.5 429,-64.5 \"/>\n<text text-anchor=\"middle\" x=\"472\" y=\"-42.8\" font-family=\"Times,serif\" font-size=\"14.00\">grad &#45;2.0000</text>\n</g>\n<!-- 132089354991856&#45;&gt;132089354981200+ -->\n<g id=\"edge9\" class=\"edge\">\n<title>132089354991856&#45;&gt;132089354981200+</title>\n<path fill=\"none\" stroke=\"black\" d=\"M515.16,-62.83C524.82,-64.47 534.13,-66.05 542.49,-67.47\"/>\n<polygon fill=\"black\" stroke=\"black\" points=\"542.09,-70.95 552.54,-69.18 543.26,-64.05 542.09,-70.95\"/>\n</g>\n<!-- 132089354991856* -->\n<g id=\"node5\" class=\"node\">\n<title>132089354991856*</title>\n<ellipse fill=\"none\" stroke=\"black\" cx=\"257\" cy=\"-46.5\" rx=\"27\" ry=\"18\"/>\n<text text-anchor=\"middle\" x=\"257\" y=\"-42.8\" font-family=\"Times,serif\" font-size=\"14.00\">*</text>\n</g>\n<!-- 132089354991856*&#45;&gt;132089354991856 -->\n<g id=\"edge2\" class=\"edge\">\n<title>132089354991856*&#45;&gt;132089354991856</title>\n<path fill=\"none\" stroke=\"black\" d=\"M284.26,-46.5C292.05,-46.5 301.1,-46.5 310.75,-46.5\"/>\n<polygon fill=\"black\" stroke=\"black\" points=\"310.99,-50 320.99,-46.5 310.99,-43 310.99,-50\"/>\n</g>\n<!-- 132089354988784 -->\n<g id=\"node6\" class=\"node\">\n<title>132089354988784</title>\n<polygon fill=\"none\" stroke=\"black\" points=\"4.5,-56.5 4.5,-92.5 189.5,-92.5 189.5,-56.5 4.5,-56.5\"/>\n<text text-anchor=\"middle\" x=\"16\" y=\"-70.8\" font-family=\"Times,serif\" font-size=\"14.00\">a</text>\n<polyline fill=\"none\" stroke=\"black\" points=\"27.5,-56.5 27.5,-92.5 \"/>\n<text text-anchor=\"middle\" x=\"67.5\" y=\"-70.8\" font-family=\"Times,serif\" font-size=\"14.00\">data 2.0000</text>\n<polyline fill=\"none\" stroke=\"black\" points=\"107.5,-56.5 107.5,-92.5 \"/>\n<text text-anchor=\"middle\" x=\"148.5\" y=\"-70.8\" font-family=\"Times,serif\" font-size=\"14.00\">grad 6.0000</text>\n</g>\n<!-- 132089354988784&#45;&gt;132089354991856* -->\n<g id=\"edge6\" class=\"edge\">\n<title>132089354988784&#45;&gt;132089354991856*</title>\n<path fill=\"none\" stroke=\"black\" d=\"M189.91,-58.21C200.76,-56.29 211.28,-54.43 220.61,-52.77\"/>\n<polygon fill=\"black\" stroke=\"black\" points=\"221.37,-56.19 230.6,-51 220.15,-49.3 221.37,-56.19\"/>\n</g>\n<!-- 132089354981200 -->\n<g id=\"node7\" class=\"node\">\n<title>132089354981200</title>\n<polygon fill=\"none\" stroke=\"black\" points=\"642,-55.5 642,-91.5 831,-91.5 831,-55.5 642,-55.5\"/>\n<text text-anchor=\"middle\" x=\"653.5\" y=\"-69.8\" font-family=\"Times,serif\" font-size=\"14.00\">d</text>\n<polyline fill=\"none\" stroke=\"black\" points=\"665,-55.5 665,-91.5 \"/>\n<text text-anchor=\"middle\" x=\"705\" y=\"-69.8\" font-family=\"Times,serif\" font-size=\"14.00\">data 4.0000</text>\n<polyline fill=\"none\" stroke=\"black\" points=\"745,-55.5 745,-91.5 \"/>\n<text text-anchor=\"middle\" x=\"788\" y=\"-69.8\" font-family=\"Times,serif\" font-size=\"14.00\">grad &#45;2.0000</text>\n</g>\n<!-- 132089354981200&#45;&gt;132089354989792* -->\n<g id=\"edge7\" class=\"edge\">\n<title>132089354981200&#45;&gt;132089354989792*</title>\n<path fill=\"none\" stroke=\"black\" d=\"M831.1,-56.65C840.4,-54.97 849.38,-53.35 857.49,-51.89\"/>\n<polygon fill=\"black\" stroke=\"black\" points=\"858.37,-55.29 867.59,-50.07 857.13,-48.4 858.37,-55.29\"/>\n</g>\n<!-- 132089354981200+&#45;&gt;132089354981200 -->\n<g id=\"edge3\" class=\"edge\">\n<title>132089354981200+&#45;&gt;132089354981200</title>\n<path fill=\"none\" stroke=\"black\" d=\"M606.03,-73.5C613.66,-73.5 622.52,-73.5 631.94,-73.5\"/>\n<polygon fill=\"black\" stroke=\"black\" points=\"631.94,-77 641.94,-73.5 631.94,-70 631.94,-77\"/>\n</g>\n<!-- 132089354992480 -->\n<g id=\"node9\" class=\"node\">\n<title>132089354992480</title>\n<polygon fill=\"none\" stroke=\"black\" points=\"0,-1.5 0,-37.5 194,-37.5 194,-1.5 0,-1.5\"/>\n<text text-anchor=\"middle\" x=\"11.5\" y=\"-15.8\" font-family=\"Times,serif\" font-size=\"14.00\">b</text>\n<polyline fill=\"none\" stroke=\"black\" points=\"23,-1.5 23,-37.5 \"/>\n<text text-anchor=\"middle\" x=\"65.5\" y=\"-15.8\" font-family=\"Times,serif\" font-size=\"14.00\">data &#45;3.0000</text>\n<polyline fill=\"none\" stroke=\"black\" points=\"108,-1.5 108,-37.5 \"/>\n<text text-anchor=\"middle\" x=\"151\" y=\"-15.8\" font-family=\"Times,serif\" font-size=\"14.00\">grad &#45;4.0000</text>\n</g>\n<!-- 132089354992480&#45;&gt;132089354991856* -->\n<g id=\"edge4\" class=\"edge\">\n<title>132089354992480&#45;&gt;132089354991856*</title>\n<path fill=\"none\" stroke=\"black\" d=\"M194.01,-35.91C203.35,-37.5 212.37,-39.04 220.49,-40.43\"/>\n<polygon fill=\"black\" stroke=\"black\" points=\"220.16,-43.93 230.6,-42.16 221.34,-37.03 220.16,-43.93\"/>\n</g>\n<!-- 132089354991040 -->\n<g id=\"node10\" class=\"node\">\n<title>132089354991040</title>\n<polygon fill=\"none\" stroke=\"black\" points=\"642.5,-0.5 642.5,-36.5 830.5,-36.5 830.5,-0.5 642.5,-0.5\"/>\n<text text-anchor=\"middle\" x=\"653\" y=\"-14.8\" font-family=\"Times,serif\" font-size=\"14.00\">f</text>\n<polyline fill=\"none\" stroke=\"black\" points=\"663.5,-0.5 663.5,-36.5 \"/>\n<text text-anchor=\"middle\" x=\"706\" y=\"-14.8\" font-family=\"Times,serif\" font-size=\"14.00\">data &#45;2.0000</text>\n<polyline fill=\"none\" stroke=\"black\" points=\"748.5,-0.5 748.5,-36.5 \"/>\n<text text-anchor=\"middle\" x=\"789.5\" y=\"-14.8\" font-family=\"Times,serif\" font-size=\"14.00\">grad 4.0000</text>\n</g>\n<!-- 132089354991040&#45;&gt;132089354989792* -->\n<g id=\"edge5\" class=\"edge\">\n<title>132089354991040&#45;&gt;132089354989792*</title>\n<path fill=\"none\" stroke=\"black\" d=\"M830.65,-34.67C840.2,-36.33 849.43,-37.93 857.72,-39.37\"/>\n<polygon fill=\"black\" stroke=\"black\" points=\"857.24,-42.84 867.69,-41.11 858.44,-35.95 857.24,-42.84\"/>\n</g>\n</g>\n</svg>\n",
            "text/plain": [
              "<graphviz.graphs.Digraph at 0x782273152810>"
            ]
          },
          "metadata": {},
          "execution_count": 68
        }
      ]
    },
    {
      "cell_type": "code",
      "source": [
        "# We want L to go up!\n",
        "LR = 0.01\n",
        "\n",
        "a.data += LR * a.grad\n",
        "b.data += LR * b.grad\n",
        "c.data += LR * c.grad\n",
        "f.data += LR * f.grad\n",
        "\n",
        "e = a * b\n",
        "d = e + c\n",
        "L = d * f\n",
        "\n",
        "print(L.data)\n",
        "draw_dot(L)"
      ],
      "metadata": {
        "id": "wZC0OAc3OFui",
        "outputId": "88cab32a-0443-42ec-f063-da76ff8edf57",
        "colab": {
          "base_uri": "https://localhost:8080/",
          "height": 229
        }
      },
      "execution_count": 69,
      "outputs": [
        {
          "output_type": "stream",
          "name": "stdout",
          "text": [
            "-7.286496\n"
          ]
        },
        {
          "output_type": "execute_result",
          "data": {
            "image/svg+xml": "<?xml version=\"1.0\" encoding=\"UTF-8\" standalone=\"no\"?>\n<!DOCTYPE svg PUBLIC \"-//W3C//DTD SVG 1.1//EN\"\n \"http://www.w3.org/Graphics/SVG/1.1/DTD/svg11.dtd\">\n<!-- Generated by graphviz version 2.43.0 (0)\n -->\n<!-- Title: %3 Pages: 1 -->\n<svg width=\"1144pt\" height=\"128pt\"\n viewBox=\"0.00 0.00 1144.00 128.00\" xmlns=\"http://www.w3.org/2000/svg\" xmlns:xlink=\"http://www.w3.org/1999/xlink\">\n<g id=\"graph0\" class=\"graph\" transform=\"scale(1 1) rotate(0) translate(4 124)\">\n<title>%3</title>\n<polygon fill=\"white\" stroke=\"transparent\" points=\"-4,4 -4,-124 1140,-124 1140,4 -4,4\"/>\n<!-- 132089354992144 -->\n<g id=\"node1\" class=\"node\">\n<title>132089354992144</title>\n<polygon fill=\"none\" stroke=\"black\" points=\"949,-27.5 949,-63.5 1136,-63.5 1136,-27.5 949,-27.5\"/>\n<text text-anchor=\"middle\" x=\"959\" y=\"-41.8\" font-family=\"Times,serif\" font-size=\"14.00\"> </text>\n<polyline fill=\"none\" stroke=\"black\" points=\"969,-27.5 969,-63.5 \"/>\n<text text-anchor=\"middle\" x=\"1011.5\" y=\"-41.8\" font-family=\"Times,serif\" font-size=\"14.00\">data &#45;7.2865</text>\n<polyline fill=\"none\" stroke=\"black\" points=\"1054,-27.5 1054,-63.5 \"/>\n<text text-anchor=\"middle\" x=\"1095\" y=\"-41.8\" font-family=\"Times,serif\" font-size=\"14.00\">grad 0.0000</text>\n</g>\n<!-- 132089354992144* -->\n<g id=\"node2\" class=\"node\">\n<title>132089354992144*</title>\n<ellipse fill=\"none\" stroke=\"black\" cx=\"886\" cy=\"-45.5\" rx=\"27\" ry=\"18\"/>\n<text text-anchor=\"middle\" x=\"886\" y=\"-41.8\" font-family=\"Times,serif\" font-size=\"14.00\">*</text>\n</g>\n<!-- 132089354992144*&#45;&gt;132089354992144 -->\n<g id=\"edge1\" class=\"edge\">\n<title>132089354992144*&#45;&gt;132089354992144</title>\n<path fill=\"none\" stroke=\"black\" d=\"M913.21,-45.5C920.73,-45.5 929.43,-45.5 938.67,-45.5\"/>\n<polygon fill=\"black\" stroke=\"black\" points=\"938.89,-49 948.89,-45.5 938.89,-42 938.89,-49\"/>\n</g>\n<!-- 132089354992192 -->\n<g id=\"node3\" class=\"node\">\n<title>132089354992192</title>\n<polygon fill=\"none\" stroke=\"black\" points=\"320,-83.5 320,-119.5 509,-119.5 509,-83.5 320,-83.5\"/>\n<text text-anchor=\"middle\" x=\"331.5\" y=\"-97.8\" font-family=\"Times,serif\" font-size=\"14.00\">c</text>\n<polyline fill=\"none\" stroke=\"black\" points=\"343,-83.5 343,-119.5 \"/>\n<text text-anchor=\"middle\" x=\"383\" y=\"-97.8\" font-family=\"Times,serif\" font-size=\"14.00\">data 9.9800</text>\n<polyline fill=\"none\" stroke=\"black\" points=\"423,-83.5 423,-119.5 \"/>\n<text text-anchor=\"middle\" x=\"466\" y=\"-97.8\" font-family=\"Times,serif\" font-size=\"14.00\">grad &#45;2.0000</text>\n</g>\n<!-- 132089354990944+ -->\n<g id=\"node8\" class=\"node\">\n<title>132089354990944+</title>\n<ellipse fill=\"none\" stroke=\"black\" cx=\"572\" cy=\"-73.5\" rx=\"27\" ry=\"18\"/>\n<text text-anchor=\"middle\" x=\"572\" y=\"-69.8\" font-family=\"Times,serif\" font-size=\"14.00\">+</text>\n</g>\n<!-- 132089354992192&#45;&gt;132089354990944+ -->\n<g id=\"edge5\" class=\"edge\">\n<title>132089354992192&#45;&gt;132089354990944+</title>\n<path fill=\"none\" stroke=\"black\" d=\"M509.1,-84.65C518.4,-82.97 527.38,-81.35 535.49,-79.89\"/>\n<polygon fill=\"black\" stroke=\"black\" points=\"536.37,-83.29 545.59,-78.07 535.13,-76.4 536.37,-83.29\"/>\n</g>\n<!-- 132089354988784 -->\n<g id=\"node4\" class=\"node\">\n<title>132089354988784</title>\n<polygon fill=\"none\" stroke=\"black\" points=\"4.5,-56.5 4.5,-92.5 189.5,-92.5 189.5,-56.5 4.5,-56.5\"/>\n<text text-anchor=\"middle\" x=\"16\" y=\"-70.8\" font-family=\"Times,serif\" font-size=\"14.00\">a</text>\n<polyline fill=\"none\" stroke=\"black\" points=\"27.5,-56.5 27.5,-92.5 \"/>\n<text text-anchor=\"middle\" x=\"67.5\" y=\"-70.8\" font-family=\"Times,serif\" font-size=\"14.00\">data 2.0600</text>\n<polyline fill=\"none\" stroke=\"black\" points=\"107.5,-56.5 107.5,-92.5 \"/>\n<text text-anchor=\"middle\" x=\"148.5\" y=\"-70.8\" font-family=\"Times,serif\" font-size=\"14.00\">grad 6.0000</text>\n</g>\n<!-- 132089357122880* -->\n<g id=\"node6\" class=\"node\">\n<title>132089357122880*</title>\n<ellipse fill=\"none\" stroke=\"black\" cx=\"257\" cy=\"-46.5\" rx=\"27\" ry=\"18\"/>\n<text text-anchor=\"middle\" x=\"257\" y=\"-42.8\" font-family=\"Times,serif\" font-size=\"14.00\">*</text>\n</g>\n<!-- 132089354988784&#45;&gt;132089357122880* -->\n<g id=\"edge6\" class=\"edge\">\n<title>132089354988784&#45;&gt;132089357122880*</title>\n<path fill=\"none\" stroke=\"black\" d=\"M189.91,-58.21C200.76,-56.29 211.28,-54.43 220.61,-52.77\"/>\n<polygon fill=\"black\" stroke=\"black\" points=\"221.37,-56.19 230.6,-51 220.15,-49.3 221.37,-56.19\"/>\n</g>\n<!-- 132089357122880 -->\n<g id=\"node5\" class=\"node\">\n<title>132089357122880</title>\n<polygon fill=\"none\" stroke=\"black\" points=\"321,-28.5 321,-64.5 508,-64.5 508,-28.5 321,-28.5\"/>\n<text text-anchor=\"middle\" x=\"331\" y=\"-42.8\" font-family=\"Times,serif\" font-size=\"14.00\"> </text>\n<polyline fill=\"none\" stroke=\"black\" points=\"341,-28.5 341,-64.5 \"/>\n<text text-anchor=\"middle\" x=\"383.5\" y=\"-42.8\" font-family=\"Times,serif\" font-size=\"14.00\">data &#45;6.2624</text>\n<polyline fill=\"none\" stroke=\"black\" points=\"426,-28.5 426,-64.5 \"/>\n<text text-anchor=\"middle\" x=\"467\" y=\"-42.8\" font-family=\"Times,serif\" font-size=\"14.00\">grad 0.0000</text>\n</g>\n<!-- 132089357122880&#45;&gt;132089354990944+ -->\n<g id=\"edge9\" class=\"edge\">\n<title>132089357122880&#45;&gt;132089354990944+</title>\n<path fill=\"none\" stroke=\"black\" d=\"M508.2,-62.6C517.9,-64.28 527.27,-65.91 535.68,-67.37\"/>\n<polygon fill=\"black\" stroke=\"black\" points=\"535.34,-70.86 545.79,-69.12 536.53,-63.96 535.34,-70.86\"/>\n</g>\n<!-- 132089357122880*&#45;&gt;132089357122880 -->\n<g id=\"edge2\" class=\"edge\">\n<title>132089357122880*&#45;&gt;132089357122880</title>\n<path fill=\"none\" stroke=\"black\" d=\"M284.03,-46.5C291.86,-46.5 300.96,-46.5 310.66,-46.5\"/>\n<polygon fill=\"black\" stroke=\"black\" points=\"310.94,-50 320.94,-46.5 310.94,-43 310.94,-50\"/>\n</g>\n<!-- 132089354990944 -->\n<g id=\"node7\" class=\"node\">\n<title>132089354990944</title>\n<polygon fill=\"none\" stroke=\"black\" points=\"638,-55.5 638,-91.5 820,-91.5 820,-55.5 638,-55.5\"/>\n<text text-anchor=\"middle\" x=\"648\" y=\"-69.8\" font-family=\"Times,serif\" font-size=\"14.00\"> </text>\n<polyline fill=\"none\" stroke=\"black\" points=\"658,-55.5 658,-91.5 \"/>\n<text text-anchor=\"middle\" x=\"698\" y=\"-69.8\" font-family=\"Times,serif\" font-size=\"14.00\">data 3.7176</text>\n<polyline fill=\"none\" stroke=\"black\" points=\"738,-55.5 738,-91.5 \"/>\n<text text-anchor=\"middle\" x=\"779\" y=\"-69.8\" font-family=\"Times,serif\" font-size=\"14.00\">grad 0.0000</text>\n</g>\n<!-- 132089354990944&#45;&gt;132089354992144* -->\n<g id=\"edge7\" class=\"edge\">\n<title>132089354990944&#45;&gt;132089354992144*</title>\n<path fill=\"none\" stroke=\"black\" d=\"M820.16,-57.21C830.6,-55.33 840.72,-53.5 849.74,-51.87\"/>\n<polygon fill=\"black\" stroke=\"black\" points=\"850.56,-55.28 859.78,-50.06 849.32,-48.39 850.56,-55.28\"/>\n</g>\n<!-- 132089354990944+&#45;&gt;132089354990944 -->\n<g id=\"edge3\" class=\"edge\">\n<title>132089354990944+&#45;&gt;132089354990944</title>\n<path fill=\"none\" stroke=\"black\" d=\"M599.29,-73.5C607.61,-73.5 617.34,-73.5 627.67,-73.5\"/>\n<polygon fill=\"black\" stroke=\"black\" points=\"627.73,-77 637.73,-73.5 627.73,-70 627.73,-77\"/>\n</g>\n<!-- 132089354992480 -->\n<g id=\"node9\" class=\"node\">\n<title>132089354992480</title>\n<polygon fill=\"none\" stroke=\"black\" points=\"0,-1.5 0,-37.5 194,-37.5 194,-1.5 0,-1.5\"/>\n<text text-anchor=\"middle\" x=\"11.5\" y=\"-15.8\" font-family=\"Times,serif\" font-size=\"14.00\">b</text>\n<polyline fill=\"none\" stroke=\"black\" points=\"23,-1.5 23,-37.5 \"/>\n<text text-anchor=\"middle\" x=\"65.5\" y=\"-15.8\" font-family=\"Times,serif\" font-size=\"14.00\">data &#45;3.0400</text>\n<polyline fill=\"none\" stroke=\"black\" points=\"108,-1.5 108,-37.5 \"/>\n<text text-anchor=\"middle\" x=\"151\" y=\"-15.8\" font-family=\"Times,serif\" font-size=\"14.00\">grad &#45;4.0000</text>\n</g>\n<!-- 132089354992480&#45;&gt;132089357122880* -->\n<g id=\"edge4\" class=\"edge\">\n<title>132089354992480&#45;&gt;132089357122880*</title>\n<path fill=\"none\" stroke=\"black\" d=\"M194.01,-35.91C203.35,-37.5 212.37,-39.04 220.49,-40.43\"/>\n<polygon fill=\"black\" stroke=\"black\" points=\"220.16,-43.93 230.6,-42.16 221.34,-37.03 220.16,-43.93\"/>\n</g>\n<!-- 132089354991040 -->\n<g id=\"node10\" class=\"node\">\n<title>132089354991040</title>\n<polygon fill=\"none\" stroke=\"black\" points=\"635,-0.5 635,-36.5 823,-36.5 823,-0.5 635,-0.5\"/>\n<text text-anchor=\"middle\" x=\"645.5\" y=\"-14.8\" font-family=\"Times,serif\" font-size=\"14.00\">f</text>\n<polyline fill=\"none\" stroke=\"black\" points=\"656,-0.5 656,-36.5 \"/>\n<text text-anchor=\"middle\" x=\"698.5\" y=\"-14.8\" font-family=\"Times,serif\" font-size=\"14.00\">data &#45;1.9600</text>\n<polyline fill=\"none\" stroke=\"black\" points=\"741,-0.5 741,-36.5 \"/>\n<text text-anchor=\"middle\" x=\"782\" y=\"-14.8\" font-family=\"Times,serif\" font-size=\"14.00\">grad 4.0000</text>\n</g>\n<!-- 132089354991040&#45;&gt;132089354992144* -->\n<g id=\"edge8\" class=\"edge\">\n<title>132089354991040&#45;&gt;132089354992144*</title>\n<path fill=\"none\" stroke=\"black\" d=\"M823.29,-34.75C832.57,-36.37 841.52,-37.93 849.61,-39.33\"/>\n<polygon fill=\"black\" stroke=\"black\" points=\"849.22,-42.82 859.68,-41.09 850.42,-35.92 849.22,-42.82\"/>\n</g>\n</g>\n</svg>\n",
            "text/plain": [
              "<graphviz.graphs.Digraph at 0x782273150f50>"
            ]
          },
          "metadata": {},
          "execution_count": 69
        }
      ]
    },
    {
      "cell_type": "code",
      "source": [
        "# Reset\n",
        "\n",
        "a = Value(2.0, label='a')\n",
        "b = Value(-3.0, label='b')\n",
        "c = Value(10.0, label='c')\n",
        "e = a * b; e.label='e'\n",
        "d = e + c; d.label='d'\n",
        "f = Value(-2.0, label='f')\n",
        "L = d * f; L.label='L'\n",
        "L.grad = 1.0\n",
        "\n",
        "f.grad = 4.0\n",
        "d.grad = -2.0\n",
        "c.grad = -2.0\n",
        "e.grad = -2.0\n",
        "a.grad = -2.0 * -3.0\n",
        "b.grad = -2.0 * 2.0"
      ],
      "metadata": {
        "id": "ACkYw47EiSA2"
      },
      "execution_count": 77,
      "outputs": []
    },
    {
      "cell_type": "code",
      "source": [
        "# We want L to go down!\n",
        "LR = 0.01\n",
        "\n",
        "a.data -= LR * a.grad\n",
        "b.data -= LR * b.grad\n",
        "c.data -= LR * c.grad\n",
        "f.data -= LR * f.grad\n",
        "\n",
        "e = a * b\n",
        "d = e + c\n",
        "L = d * f\n",
        "\n",
        "print(L.data)\n",
        "draw_dot(L)"
      ],
      "metadata": {
        "id": "09YsObQoiLuT",
        "outputId": "ff46315d-a363-4a67-ce57-0ec2cc6b83fd",
        "colab": {
          "base_uri": "https://localhost:8080/",
          "height": 229
        }
      },
      "execution_count": 78,
      "outputs": [
        {
          "output_type": "stream",
          "name": "stdout",
          "text": [
            "-8.726303999999999\n"
          ]
        },
        {
          "output_type": "execute_result",
          "data": {
            "image/svg+xml": "<?xml version=\"1.0\" encoding=\"UTF-8\" standalone=\"no\"?>\n<!DOCTYPE svg PUBLIC \"-//W3C//DTD SVG 1.1//EN\"\n \"http://www.w3.org/Graphics/SVG/1.1/DTD/svg11.dtd\">\n<!-- Generated by graphviz version 2.43.0 (0)\n -->\n<!-- Title: %3 Pages: 1 -->\n<svg width=\"1151pt\" height=\"128pt\"\n viewBox=\"0.00 0.00 1151.00 128.00\" xmlns=\"http://www.w3.org/2000/svg\" xmlns:xlink=\"http://www.w3.org/1999/xlink\">\n<g id=\"graph0\" class=\"graph\" transform=\"scale(1 1) rotate(0) translate(4 124)\">\n<title>%3</title>\n<polygon fill=\"white\" stroke=\"transparent\" points=\"-4,4 -4,-124 1147,-124 1147,4 -4,4\"/>\n<!-- 132089355060768 -->\n<g id=\"node1\" class=\"node\">\n<title>132089355060768</title>\n<polygon fill=\"none\" stroke=\"black\" points=\"645,-27.5 645,-63.5 827,-63.5 827,-27.5 645,-27.5\"/>\n<text text-anchor=\"middle\" x=\"655\" y=\"-41.8\" font-family=\"Times,serif\" font-size=\"14.00\"> </text>\n<polyline fill=\"none\" stroke=\"black\" points=\"665,-27.5 665,-63.5 \"/>\n<text text-anchor=\"middle\" x=\"705\" y=\"-41.8\" font-family=\"Times,serif\" font-size=\"14.00\">data 4.2776</text>\n<polyline fill=\"none\" stroke=\"black\" points=\"745,-27.5 745,-63.5 \"/>\n<text text-anchor=\"middle\" x=\"786\" y=\"-41.8\" font-family=\"Times,serif\" font-size=\"14.00\">grad 0.0000</text>\n</g>\n<!-- 132089355061200* -->\n<g id=\"node10\" class=\"node\">\n<title>132089355061200*</title>\n<ellipse fill=\"none\" stroke=\"black\" cx=\"893\" cy=\"-72.5\" rx=\"27\" ry=\"18\"/>\n<text text-anchor=\"middle\" x=\"893\" y=\"-68.8\" font-family=\"Times,serif\" font-size=\"14.00\">*</text>\n</g>\n<!-- 132089355060768&#45;&gt;132089355061200* -->\n<g id=\"edge4\" class=\"edge\">\n<title>132089355060768&#45;&gt;132089355061200*</title>\n<path fill=\"none\" stroke=\"black\" d=\"M827.16,-61.21C837.6,-63.02 847.72,-64.79 856.74,-66.36\"/>\n<polygon fill=\"black\" stroke=\"black\" points=\"856.33,-69.84 866.78,-68.11 857.53,-62.94 856.33,-69.84\"/>\n</g>\n<!-- 132089355060768+ -->\n<g id=\"node2\" class=\"node\">\n<title>132089355060768+</title>\n<ellipse fill=\"none\" stroke=\"black\" cx=\"579\" cy=\"-45.5\" rx=\"27\" ry=\"18\"/>\n<text text-anchor=\"middle\" x=\"579\" y=\"-41.8\" font-family=\"Times,serif\" font-size=\"14.00\">+</text>\n</g>\n<!-- 132089355060768+&#45;&gt;132089355060768 -->\n<g id=\"edge1\" class=\"edge\">\n<title>132089355060768+&#45;&gt;132089355060768</title>\n<path fill=\"none\" stroke=\"black\" d=\"M606.29,-45.5C614.61,-45.5 624.34,-45.5 634.67,-45.5\"/>\n<polygon fill=\"black\" stroke=\"black\" points=\"634.73,-49 644.73,-45.5 634.73,-42 634.73,-49\"/>\n</g>\n<!-- 132089355059280 -->\n<g id=\"node3\" class=\"node\">\n<title>132089355059280</title>\n<polygon fill=\"none\" stroke=\"black\" points=\"642,-82.5 642,-118.5 830,-118.5 830,-82.5 642,-82.5\"/>\n<text text-anchor=\"middle\" x=\"652.5\" y=\"-96.8\" font-family=\"Times,serif\" font-size=\"14.00\">f</text>\n<polyline fill=\"none\" stroke=\"black\" points=\"663,-82.5 663,-118.5 \"/>\n<text text-anchor=\"middle\" x=\"705.5\" y=\"-96.8\" font-family=\"Times,serif\" font-size=\"14.00\">data &#45;2.0400</text>\n<polyline fill=\"none\" stroke=\"black\" points=\"748,-82.5 748,-118.5 \"/>\n<text text-anchor=\"middle\" x=\"789\" y=\"-96.8\" font-family=\"Times,serif\" font-size=\"14.00\">grad 4.0000</text>\n</g>\n<!-- 132089355059280&#45;&gt;132089355061200* -->\n<g id=\"edge5\" class=\"edge\">\n<title>132089355059280&#45;&gt;132089355061200*</title>\n<path fill=\"none\" stroke=\"black\" d=\"M830.29,-83.65C839.57,-81.97 848.52,-80.35 856.61,-78.89\"/>\n<polygon fill=\"black\" stroke=\"black\" points=\"857.46,-82.3 866.68,-77.07 856.21,-75.41 857.46,-82.3\"/>\n</g>\n<!-- 132089355059424 -->\n<g id=\"node4\" class=\"node\">\n<title>132089355059424</title>\n<polygon fill=\"none\" stroke=\"black\" points=\"4.5,-83.5 4.5,-119.5 189.5,-119.5 189.5,-83.5 4.5,-83.5\"/>\n<text text-anchor=\"middle\" x=\"16\" y=\"-97.8\" font-family=\"Times,serif\" font-size=\"14.00\">a</text>\n<polyline fill=\"none\" stroke=\"black\" points=\"27.5,-83.5 27.5,-119.5 \"/>\n<text text-anchor=\"middle\" x=\"67.5\" y=\"-97.8\" font-family=\"Times,serif\" font-size=\"14.00\">data 1.9400</text>\n<polyline fill=\"none\" stroke=\"black\" points=\"107.5,-83.5 107.5,-119.5 \"/>\n<text text-anchor=\"middle\" x=\"148.5\" y=\"-97.8\" font-family=\"Times,serif\" font-size=\"14.00\">grad 6.0000</text>\n</g>\n<!-- 132089355059520* -->\n<g id=\"node6\" class=\"node\">\n<title>132089355059520*</title>\n<ellipse fill=\"none\" stroke=\"black\" cx=\"257\" cy=\"-73.5\" rx=\"27\" ry=\"18\"/>\n<text text-anchor=\"middle\" x=\"257\" y=\"-69.8\" font-family=\"Times,serif\" font-size=\"14.00\">*</text>\n</g>\n<!-- 132089355059424&#45;&gt;132089355059520* -->\n<g id=\"edge9\" class=\"edge\">\n<title>132089355059424&#45;&gt;132089355059520*</title>\n<path fill=\"none\" stroke=\"black\" d=\"M189.91,-85.21C200.76,-83.29 211.28,-81.43 220.61,-79.77\"/>\n<polygon fill=\"black\" stroke=\"black\" points=\"221.37,-83.19 230.6,-78 220.15,-76.3 221.37,-83.19\"/>\n</g>\n<!-- 132089355059520 -->\n<g id=\"node5\" class=\"node\">\n<title>132089355059520</title>\n<polygon fill=\"none\" stroke=\"black\" points=\"324.5,-55.5 324.5,-91.5 511.5,-91.5 511.5,-55.5 324.5,-55.5\"/>\n<text text-anchor=\"middle\" x=\"334.5\" y=\"-69.8\" font-family=\"Times,serif\" font-size=\"14.00\"> </text>\n<polyline fill=\"none\" stroke=\"black\" points=\"344.5,-55.5 344.5,-91.5 \"/>\n<text text-anchor=\"middle\" x=\"387\" y=\"-69.8\" font-family=\"Times,serif\" font-size=\"14.00\">data &#45;5.7424</text>\n<polyline fill=\"none\" stroke=\"black\" points=\"429.5,-55.5 429.5,-91.5 \"/>\n<text text-anchor=\"middle\" x=\"470.5\" y=\"-69.8\" font-family=\"Times,serif\" font-size=\"14.00\">grad 0.0000</text>\n</g>\n<!-- 132089355059520&#45;&gt;132089355060768+ -->\n<g id=\"edge6\" class=\"edge\">\n<title>132089355059520&#45;&gt;132089355060768+</title>\n<path fill=\"none\" stroke=\"black\" d=\"M511.95,-57.13C522.81,-55.22 533.33,-53.37 542.66,-51.72\"/>\n<polygon fill=\"black\" stroke=\"black\" points=\"543.4,-55.15 552.64,-49.97 542.19,-48.25 543.4,-55.15\"/>\n</g>\n<!-- 132089355059520*&#45;&gt;132089355059520 -->\n<g id=\"edge2\" class=\"edge\">\n<title>132089355059520*&#45;&gt;132089355059520</title>\n<path fill=\"none\" stroke=\"black\" d=\"M284.26,-73.5C292.97,-73.5 303.26,-73.5 314.19,-73.5\"/>\n<polygon fill=\"black\" stroke=\"black\" points=\"314.39,-77 324.39,-73.5 314.39,-70 314.39,-77\"/>\n</g>\n<!-- 132089355060048 -->\n<g id=\"node7\" class=\"node\">\n<title>132089355060048</title>\n<polygon fill=\"none\" stroke=\"black\" points=\"320,-0.5 320,-36.5 516,-36.5 516,-0.5 320,-0.5\"/>\n<text text-anchor=\"middle\" x=\"331.5\" y=\"-14.8\" font-family=\"Times,serif\" font-size=\"14.00\">c</text>\n<polyline fill=\"none\" stroke=\"black\" points=\"343,-0.5 343,-36.5 \"/>\n<text text-anchor=\"middle\" x=\"386.5\" y=\"-14.8\" font-family=\"Times,serif\" font-size=\"14.00\">data 10.0200</text>\n<polyline fill=\"none\" stroke=\"black\" points=\"430,-0.5 430,-36.5 \"/>\n<text text-anchor=\"middle\" x=\"473\" y=\"-14.8\" font-family=\"Times,serif\" font-size=\"14.00\">grad &#45;2.0000</text>\n</g>\n<!-- 132089355060048&#45;&gt;132089355060768+ -->\n<g id=\"edge7\" class=\"edge\">\n<title>132089355060048&#45;&gt;132089355060768+</title>\n<path fill=\"none\" stroke=\"black\" d=\"M516.07,-34.98C525.42,-36.57 534.43,-38.1 542.55,-39.48\"/>\n<polygon fill=\"black\" stroke=\"black\" points=\"542.21,-42.97 552.65,-41.2 543.38,-36.07 542.21,-42.97\"/>\n</g>\n<!-- 132089355059568 -->\n<g id=\"node8\" class=\"node\">\n<title>132089355059568</title>\n<polygon fill=\"none\" stroke=\"black\" points=\"0,-28.5 0,-64.5 194,-64.5 194,-28.5 0,-28.5\"/>\n<text text-anchor=\"middle\" x=\"11.5\" y=\"-42.8\" font-family=\"Times,serif\" font-size=\"14.00\">b</text>\n<polyline fill=\"none\" stroke=\"black\" points=\"23,-28.5 23,-64.5 \"/>\n<text text-anchor=\"middle\" x=\"65.5\" y=\"-42.8\" font-family=\"Times,serif\" font-size=\"14.00\">data &#45;2.9600</text>\n<polyline fill=\"none\" stroke=\"black\" points=\"108,-28.5 108,-64.5 \"/>\n<text text-anchor=\"middle\" x=\"151\" y=\"-42.8\" font-family=\"Times,serif\" font-size=\"14.00\">grad &#45;4.0000</text>\n</g>\n<!-- 132089355059568&#45;&gt;132089355059520* -->\n<g id=\"edge8\" class=\"edge\">\n<title>132089355059568&#45;&gt;132089355059520*</title>\n<path fill=\"none\" stroke=\"black\" d=\"M194.01,-62.91C203.35,-64.5 212.37,-66.04 220.49,-67.43\"/>\n<polygon fill=\"black\" stroke=\"black\" points=\"220.16,-70.93 230.6,-69.16 221.34,-64.03 220.16,-70.93\"/>\n</g>\n<!-- 132089355061200 -->\n<g id=\"node9\" class=\"node\">\n<title>132089355061200</title>\n<polygon fill=\"none\" stroke=\"black\" points=\"956,-54.5 956,-90.5 1143,-90.5 1143,-54.5 956,-54.5\"/>\n<text text-anchor=\"middle\" x=\"966\" y=\"-68.8\" font-family=\"Times,serif\" font-size=\"14.00\"> </text>\n<polyline fill=\"none\" stroke=\"black\" points=\"976,-54.5 976,-90.5 \"/>\n<text text-anchor=\"middle\" x=\"1018.5\" y=\"-68.8\" font-family=\"Times,serif\" font-size=\"14.00\">data &#45;8.7263</text>\n<polyline fill=\"none\" stroke=\"black\" points=\"1061,-54.5 1061,-90.5 \"/>\n<text text-anchor=\"middle\" x=\"1102\" y=\"-68.8\" font-family=\"Times,serif\" font-size=\"14.00\">grad 0.0000</text>\n</g>\n<!-- 132089355061200*&#45;&gt;132089355061200 -->\n<g id=\"edge3\" class=\"edge\">\n<title>132089355061200*&#45;&gt;132089355061200</title>\n<path fill=\"none\" stroke=\"black\" d=\"M920.21,-72.5C927.73,-72.5 936.43,-72.5 945.67,-72.5\"/>\n<polygon fill=\"black\" stroke=\"black\" points=\"945.89,-76 955.89,-72.5 945.89,-69 945.89,-76\"/>\n</g>\n</g>\n</svg>\n",
            "text/plain": [
              "<graphviz.graphs.Digraph at 0x782273164770>"
            ]
          },
          "metadata": {},
          "execution_count": 78
        }
      ]
    },
    {
      "cell_type": "markdown",
      "source": [
        "# 📌 Deriving Gradients for L = (a·b + c)·f\n",
        "\n",
        "We want to compute the gradients of:\n",
        "\n",
        "$$\n",
        "L = (a \\cdot b + c) \\cdot f\n",
        "$$\n",
        "\n",
        "with respect to each variable: \\(a, b, c, f\\).\n",
        "\n",
        "---\n",
        "\n",
        "## 🔹 Step 1: Define intermediate variables\n",
        "\n",
        "Let:\n",
        "$$\n",
        "d = a \\cdot b + c\n",
        "$$\n",
        "\n",
        "So:\n",
        "$$\n",
        "L = d \\cdot f\n",
        "$$\n",
        "\n",
        "---\n",
        "\n",
        "## 🔹 Step 2: Gradient of L w.r.t. d\n",
        "\n",
        "From the product rule:\n",
        "\n",
        "$$\n",
        "\\frac{\\partial L}{\\partial d} = f\n",
        "$$\n",
        "\n",
        "---\n",
        "\n",
        "## 🔹 Step 3: Gradient of L w.r.t. f\n",
        "\n",
        "Similarly:\n",
        "\n",
        "$$\n",
        "\\frac{\\partial L}{\\partial f} = d\n",
        "$$\n",
        "\n",
        "---\n",
        "\n",
        "## 🔹 Step 4: Gradients of d\n",
        "\n",
        "Since:\n",
        "$$\n",
        "d = a \\cdot b + c\n",
        "$$\n",
        "\n",
        "- With respect to \\(a\\):\n",
        "$$\n",
        "\\frac{\\partial d}{\\partial a} = b\n",
        "$$\n",
        "\n",
        "- With respect to \\(b\\):\n",
        "$$\n",
        "\\frac{\\partial d}{\\partial b} = a\n",
        "$$\n",
        "\n",
        "- With respect to \\(c\\):\n",
        "$$\n",
        "\\frac{\\partial d}{\\partial c} = 1\n",
        "$$\n",
        "\n",
        "---\n",
        "\n",
        "## 🔹 Step 5: Apply the Chain Rule\n",
        "\n",
        "Now we connect everything using:\n",
        "\n",
        "$$\n",
        "\\frac{\\partial L}{\\partial x} = \\frac{\\partial L}{\\partial d} \\cdot \\frac{\\partial d}{\\partial x}\n",
        "$$\n",
        "\n",
        "for \\(x \\in \\{a, b, c\\}\\).\n",
        "\n",
        "- For \\(a\\):\n",
        "$$\n",
        "\\frac{\\partial L}{\\partial a} = \\frac{\\partial L}{\\partial d} \\cdot \\frac{\\partial d}{\\partial a} = f \\cdot b\n",
        "$$\n",
        "\n",
        "- For \\(b\\):\n",
        "$$\n",
        "\\frac{\\partial L}{\\partial b} = \\frac{\\partial L}{\\partial d} \\cdot \\frac{\\partial d}{\\partial b} = f \\cdot a\n",
        "$$\n",
        "\n",
        "- For \\(c\\):\n",
        "$$\n",
        "\\frac{\\partial L}{\\partial c} = \\frac{\\partial L}{\\partial d} \\cdot \\frac{\\partial d}{\\partial c} = f \\cdot 1 = f\n",
        "$$\n",
        "\n",
        "---\n",
        "\n",
        "## ✅ Final Results\n",
        "\n",
        "So the gradients are:\n",
        "\n",
        "$$\n",
        "\\frac{\\partial L}{\\partial a} = b \\cdot f, \\quad\n",
        "\\frac{\\partial L}{\\partial b} = a \\cdot f, \\quad\n",
        "\\frac{\\partial L}{\\partial c} = f, \\quad\n",
        "\\frac{\\partial L}{\\partial f} = (a \\cdot b + c)\n",
        "$$"
      ],
      "metadata": {
        "id": "lDc-Cz6wVNW9"
      }
    },
    {
      "cell_type": "markdown",
      "source": [
        "# 📌 Gradient Descent vs Gradient Ascent\n",
        "\n",
        "We want to optimize the function:\n",
        "\n",
        "$$\n",
        "L = (a \\cdot b + c) \\cdot f\n",
        "$$\n",
        "\n",
        "with parameters $a, b, c, f$.\n",
        "\n",
        "---\n",
        "\n",
        "## 🔹 Step 1: Gradients (what they are and where they come from)\n",
        "\n",
        "Compute intermediate:\n",
        "$$\n",
        "d = a \\cdot b + c, \\qquad L = d \\cdot f\n",
        "$$\n",
        "\n",
        "By basic differentiation (product/chain rule):\n",
        "\n",
        "$$\n",
        "\\frac{\\partial L}{\\partial d} = f, \\qquad\n",
        "\\frac{\\partial L}{\\partial f} = d\n",
        "$$\n",
        "\n",
        "and for $d = a \\cdot b + c$:\n",
        "\n",
        "$$\n",
        "\\frac{\\partial d}{\\partial a} = b, \\quad\n",
        "\\frac{\\partial d}{\\partial b} = a, \\quad\n",
        "\\frac{\\partial d}{\\partial c} = 1\n",
        "$$\n",
        "\n",
        "Now use the chain rule for $x \\in \\{a,b,c\\}$:\n",
        "\n",
        "$$\n",
        "\\frac{\\partial L}{\\partial x} = \\frac{\\partial L}{\\partial d} \\cdot \\frac{\\partial d}{\\partial x}\n",
        "$$\n",
        "\n",
        "So final gradients:\n",
        "\n",
        "$$\n",
        "\\boxed{\\;\\;\n",
        "\\frac{\\partial L}{\\partial a} = b \\cdot f,\\quad\n",
        "\\frac{\\partial L}{\\partial b} = a \\cdot f,\\quad\n",
        "\\frac{\\partial L}{\\partial c} = f,\\quad\n",
        "\\frac{\\partial L}{\\partial f} = a \\cdot b + c\n",
        "\\;\\;}\n",
        "$$\n",
        "\n",
        "Each gradient is the **local slope** of $L$ in that parameter direction.\n",
        "\n",
        "## 🔹 Step 2: What the gradient *sign* means (core intuition)\n",
        "\n",
        "- If $\\frac{\\partial L}{\\partial x} > 0$: increasing $x$ (a small positive change) makes $L$ go **up**.  \n",
        "  → decreasing $x$ will make $L$ go **down**.\n",
        "\n",
        "- If $\\frac{\\partial L}{\\partial x} < 0$: increasing $x$ makes $L$ go **down**.  \n",
        "  → decreasing $x$ will make $L$ go **up**.\n",
        "\n",
        "So the **sign** tells you *which way is uphill* for $L$, and the **magnitude** tells you *how steep*.\n",
        "\n",
        "## 🔹 Step 3: Gradient Descent — make $L$ go **down**\n",
        "\n",
        "We pick a learning rate $\\eta > 0$. The universal rule to *decrease* $L$ is:\n",
        "\n",
        "    a.data -= η * a.grad\n",
        "    b.data -= η * b.grad\n",
        "    c.data -= η * c.grad\n",
        "    f.data -= η * f.grad\n",
        "\n",
        "**Why this works (step-by-step reasoning):**\n",
        "\n",
        "Let $g = \\frac{\\partial L}{\\partial a}$.\n",
        "\n",
        "- If $g > 0$: increasing $a$ increases $L$. To make $L$ smaller, we must **decrease $a$**. Subtracting $\\eta g$ decreases $a$.  \n",
        "- If $g < 0$: increasing $a$ decreases $L$. To make $L$ smaller, we should **increase $a$**. Subtracting $\\eta g$ (where $g$ is negative) **increases** $a$.  \n",
        "- Therefore `a -= η * a.grad` always moves $a$ in the direction that reduces $L$. Same logic applies for `b, c, f`.  \n",
        "\n",
        "(So subtracting is *not* arbitrary — it always moves the parameter opposite the local slope, i.e. downhill.)\n",
        "\n",
        "---\n",
        "\n",
        "## 🔹 Step 4: Gradient Ascent — make $L$ go **up**\n",
        "\n",
        "To *increase* $L$, move **with** the gradient:\n",
        "\n",
        "    a.data += η * a.grad\n",
        "    b.data += η * b.grad\n",
        "    c.data += η * c.grad\n",
        "    f.data += η * f.grad\n",
        "\n",
        "**Why this works:**\n",
        "\n",
        "- If $g > 0$: adding increases $a$ and increases $L$.  \n",
        "- If $g < 0$: adding decreases $a$ (because $g$ is negative) and that can increase $L$.  \n",
        "\n",
        "So `a += η * a.grad` always moves you **uphill**.\n",
        "\n",
        "---\n",
        "\n",
        "## 🔹 Step 5: 1D concrete intuition example\n",
        "\n",
        "Let $L(x) = x^2$. Then $\\frac{dL}{dx} = 2x$.\n",
        "\n",
        "- At $x = 3$: gradient = 6 > 0  \n",
        "  - **Descent**: $x \\leftarrow x - \\eta \\cdot 6$ → moves left toward 0 → lowers $L$.  \n",
        "  - **Ascent**: $x \\leftarrow x + \\eta \\cdot 6$ → moves right away from 0 → raises $L$.  \n",
        "\n",
        "- At $x = -3$: gradient = -6 < 0  \n",
        "  - **Descent**: $x \\leftarrow x - \\eta \\cdot (-6) = x + \\eta \\cdot 6$ → moves right toward 0 → lowers $L$.  \n",
        "  - **Ascent**: $x \\leftarrow x + \\eta \\cdot (-6) = x - \\eta \\cdot 6$ → moves left away from 0 → raises $L$.  \n",
        "\n",
        "Thus `-=` always moves toward **lower loss**; `+=` always moves toward **higher loss**.\n",
        "\n",
        "---\n",
        "\n",
        "## 🔹 Step 6: Practical tips\n",
        "\n",
        "- ML training usually **minimizes** a loss → use **gradient descent** (`-=`).  \n",
        "- Choose $begin:math:text$\\\\eta$end:math:text$ carefully: too large → divergence; too small → slow learning.  \n",
        "- Optimizers (SGD, Adam, RMSprop) add momentum/adaptive steps but the sign logic stays the same.\n",
        "\n",
        "---\n",
        "\n",
        "## 🔹 Step 7: Quick numeric demo (paste into a code cell to try)\n",
        "\n",
        "You can paste the following code into a Colab **code** cell (not text cell) to see numeric behavior:\n",
        "\n",
        "```python\n",
        "def compute_L(a,b,c,f):\n",
        "    return (a*b + c) * f\n",
        "\n",
        "# initial example\n",
        "a, b, c, f = 2.0, -3.0, 10.0, -2.0\n",
        "print(\"Initial:\", a,b,c,f, \"L=\", compute_L(a,b,c,f))\n",
        "\n",
        "# analytic grads for toy L\n",
        "grad_a = b * f\n",
        "grad_b = a * f\n",
        "grad_c = f\n",
        "grad_f = a*b + c\n",
        "print(\"grads:\", grad_a, grad_b, grad_c, grad_f)\n",
        "\n",
        "eta = 0.01\n",
        "\n",
        "# gradient descent step (minimize L)\n",
        "a_desc = a - eta * grad_a\n",
        "b_desc = b - eta * grad_b\n",
        "c_desc = c - eta * grad_c\n",
        "f_desc = f - eta * grad_f\n",
        "print(\"After descent L =\", compute_L(a_desc, b_desc, c_desc, f_desc))\n",
        "\n",
        "# gradient ascent step (maximize L)\n",
        "a_asc = a + eta * grad_a\n",
        "b_asc = b + eta * grad_b\n",
        "c_asc = c + eta * grad_c\n",
        "f_asc = f + eta * grad_f\n",
        "print(\"After ascent  L =\", compute_L(a_asc, b_asc, c_asc, f_asc))\n",
        "```\n",
        "\n",
        "---\n",
        "\n",
        "### ✅ Final short takeaway (one line)\n",
        "\n",
        "- `param -= η * grad` → always moves parameters **downhill** (reduce $L$).  \n",
        "- `param += η * grad` → always moves parameters **uphill** (increase $L$).  "
      ],
      "metadata": {
        "id": "QuwNYz64UYPj"
      }
    },
    {
      "cell_type": "markdown",
      "source": [
        "# 📌 Why just add or subtract the gradients regardless of its sign?\n",
        "\n",
        "We start with the first-order Taylor expansion:\n",
        "\n",
        "$$\n",
        "L(x + \\Delta x) \\;\\approx\\; L(x) + \\frac{\\partial L}{\\partial x} \\cdot \\Delta x\n",
        "$$\n",
        "\n",
        "---\n",
        "\n",
        "### Gradient Ascent\n",
        "\n",
        "Choose the update step:\n",
        "\n",
        "$$\n",
        "\\Delta x = + \\eta \\cdot \\frac{\\partial L}{\\partial x}\n",
        "$$\n",
        "\n",
        "Substitute:\n",
        "\n",
        "$$\n",
        "L(x + \\Delta x) \\;\\approx\\; L(x) + \\frac{\\partial L}{\\partial x} \\cdot\n",
        "\\Big( \\eta \\cdot \\frac{\\partial L}{\\partial x} \\Big)\n",
        "$$\n",
        "\n",
        "$$\n",
        "= L(x) + \\eta \\cdot \\Big( \\frac{\\partial L}{\\partial x} \\Big)^2\n",
        "$$\n",
        "\n",
        "Since\n",
        "\n",
        "$$\n",
        "\\Big( \\frac{\\partial L}{\\partial x} \\Big)^2 \\geq 0, \\quad \\eta > 0,\n",
        "$$\n",
        "\n",
        "we know:\n",
        "\n",
        "$$\n",
        "L(x + \\Delta x) \\;\\geq\\; L(x).\n",
        "$$\n",
        "\n",
        "So **gradient ascent always increases \\(L\\)**.\n",
        "\n",
        "---\n",
        "\n",
        "### Gradient Descent\n",
        "\n",
        "Choose the update step:\n",
        "\n",
        "$$\n",
        "\\Delta x = - \\eta \\cdot \\frac{\\partial L}{\\partial x}\n",
        "$$\n",
        "\n",
        "Substitute:\n",
        "\n",
        "$$\n",
        "L(x + \\Delta x) \\;\\approx\\; L(x) - \\eta \\cdot\n",
        "\\Big( \\frac{\\partial L}{\\partial x} \\Big)^2\n",
        "$$\n",
        "\n",
        "Since\n",
        "\n",
        "$$\n",
        "\\Big( \\frac{\\partial L}{\\partial x} \\Big)^2 \\geq 0, \\quad \\eta > 0,\n",
        "$$\n",
        "\n",
        "we know:\n",
        "\n",
        "$$\n",
        "L(x + \\Delta x) \\;\\leq\\; L(x).\n",
        "$$\n",
        "\n",
        "So **gradient descent always decreases \\(L\\)**.\n",
        "\n",
        "---\n",
        "\n",
        "### Intuition\n",
        "\n",
        "- The **gradient’s sign** tells you whether \\(L\\) increases to the left or right.  \n",
        "- In ascent, we **add the gradient** → guaranteed uphill.  \n",
        "- In descent, we **subtract the gradient** → guaranteed downhill.  \n",
        "- The exact sign of the gradient doesn’t matter in the update rule, because it is already encoded in the step direction."
      ],
      "metadata": {
        "id": "xa2JXYtCr2jt"
      }
    },
    {
      "cell_type": "code",
      "source": [],
      "metadata": {
        "id": "pjPdN_lUTx-_"
      },
      "execution_count": null,
      "outputs": []
    }
  ]
}